{
 "cells": [
  {
   "cell_type": "code",
   "execution_count": 2,
   "metadata": {},
   "outputs": [],
   "source": [
    "import pickle\n",
    "import pandas as pd\n",
    "import numpy as np\n",
    "from sklearn.preprocessing import StandardScaler\n",
    "from sklearn.model_selection import train_test_split\n",
    "import torch\n",
    "import torch.utils.data as data_utils\n",
    "\n",
    "import torchTools as tt\n",
    "\n",
    "import matplotlib.pyplot as plt"
   ]
  },
  {
   "cell_type": "code",
   "execution_count": 3,
   "metadata": {},
   "outputs": [],
   "source": [
    "%matplotlib widget"
   ]
  },
  {
   "cell_type": "code",
   "execution_count": 4,
   "metadata": {},
   "outputs": [],
   "source": [
    "#data was pickled as dictionary:\n",
    "#  y: list of 100k floats\n",
    "#  x: list 100k of 1-d, length 12 arrays\n",
    "\n",
    "input_fn = 'IEX_100k_04w.pkl'\n",
    "data = pickle.load(open(input_fn,\"rb\"))"
   ]
  },
  {
   "cell_type": "code",
   "execution_count": 5,
   "metadata": {},
   "outputs": [],
   "source": [
    "Y = pd.DataFrame(data['y'], columns=['Rays'])"
   ]
  },
  {
   "cell_type": "code",
   "execution_count": 6,
   "metadata": {},
   "outputs": [
    {
     "data": {
      "text/html": [
       "<div>\n",
       "<style scoped>\n",
       "    .dataframe tbody tr th:only-of-type {\n",
       "        vertical-align: middle;\n",
       "    }\n",
       "\n",
       "    .dataframe tbody tr th {\n",
       "        vertical-align: top;\n",
       "    }\n",
       "\n",
       "    .dataframe thead th {\n",
       "        text-align: right;\n",
       "    }\n",
       "</style>\n",
       "<table border=\"1\" class=\"dataframe\">\n",
       "  <thead>\n",
       "    <tr style=\"text-align: right;\">\n",
       "      <th></th>\n",
       "      <th>Rays</th>\n",
       "    </tr>\n",
       "  </thead>\n",
       "  <tbody>\n",
       "    <tr>\n",
       "      <th>0</th>\n",
       "      <td>62184</td>\n",
       "    </tr>\n",
       "    <tr>\n",
       "      <th>1</th>\n",
       "      <td>7104</td>\n",
       "    </tr>\n",
       "    <tr>\n",
       "      <th>2</th>\n",
       "      <td>45266</td>\n",
       "    </tr>\n",
       "    <tr>\n",
       "      <th>3</th>\n",
       "      <td>54623</td>\n",
       "    </tr>\n",
       "    <tr>\n",
       "      <th>4</th>\n",
       "      <td>59044</td>\n",
       "    </tr>\n",
       "    <tr>\n",
       "      <th>...</th>\n",
       "      <td>...</td>\n",
       "    </tr>\n",
       "    <tr>\n",
       "      <th>99995</th>\n",
       "      <td>24556</td>\n",
       "    </tr>\n",
       "    <tr>\n",
       "      <th>99996</th>\n",
       "      <td>28734</td>\n",
       "    </tr>\n",
       "    <tr>\n",
       "      <th>99997</th>\n",
       "      <td>71323</td>\n",
       "    </tr>\n",
       "    <tr>\n",
       "      <th>99998</th>\n",
       "      <td>7266</td>\n",
       "    </tr>\n",
       "    <tr>\n",
       "      <th>99999</th>\n",
       "      <td>58703</td>\n",
       "    </tr>\n",
       "  </tbody>\n",
       "</table>\n",
       "<p>100000 rows × 1 columns</p>\n",
       "</div>"
      ],
      "text/plain": [
       "        Rays\n",
       "0      62184\n",
       "1       7104\n",
       "2      45266\n",
       "3      54623\n",
       "4      59044\n",
       "...      ...\n",
       "99995  24556\n",
       "99996  28734\n",
       "99997  71323\n",
       "99998   7266\n",
       "99999  58703\n",
       "\n",
       "[100000 rows x 1 columns]"
      ]
     },
     "execution_count": 6,
     "metadata": {},
     "output_type": "execute_result"
    }
   ],
   "source": [
    "Y"
   ]
  },
  {
   "cell_type": "code",
   "execution_count": 7,
   "metadata": {},
   "outputs": [],
   "source": [
    "pos_array = np.asarray(data['x'])"
   ]
  },
  {
   "cell_type": "code",
   "execution_count": 8,
   "metadata": {},
   "outputs": [],
   "source": [
    "X = pd.DataFrame(pos_array, columns=['oe1x','oe1xrot','oe2x','oe2xrot','oe3xrot','oe4xrot','oe5y','oe5xrot','oe5yrot','oe6y','oe6xrot','oe6yrot',])"
   ]
  },
  {
   "cell_type": "code",
   "execution_count": 9,
   "metadata": {},
   "outputs": [
    {
     "data": {
      "text/html": [
       "<div>\n",
       "<style scoped>\n",
       "    .dataframe tbody tr th:only-of-type {\n",
       "        vertical-align: middle;\n",
       "    }\n",
       "\n",
       "    .dataframe tbody tr th {\n",
       "        vertical-align: top;\n",
       "    }\n",
       "\n",
       "    .dataframe thead th {\n",
       "        text-align: right;\n",
       "    }\n",
       "</style>\n",
       "<table border=\"1\" class=\"dataframe\">\n",
       "  <thead>\n",
       "    <tr style=\"text-align: right;\">\n",
       "      <th></th>\n",
       "      <th>oe1x</th>\n",
       "      <th>oe1xrot</th>\n",
       "      <th>oe2x</th>\n",
       "      <th>oe2xrot</th>\n",
       "      <th>oe3xrot</th>\n",
       "      <th>oe4xrot</th>\n",
       "      <th>oe5y</th>\n",
       "      <th>oe5xrot</th>\n",
       "      <th>oe5yrot</th>\n",
       "      <th>oe6y</th>\n",
       "      <th>oe6xrot</th>\n",
       "      <th>oe6yrot</th>\n",
       "    </tr>\n",
       "  </thead>\n",
       "  <tbody>\n",
       "    <tr>\n",
       "      <th>0</th>\n",
       "      <td>3.145288</td>\n",
       "      <td>-0.003274</td>\n",
       "      <td>0.821222</td>\n",
       "      <td>-0.003335</td>\n",
       "      <td>-0.007931</td>\n",
       "      <td>0.005732</td>\n",
       "      <td>-3.347656</td>\n",
       "      <td>-0.021918</td>\n",
       "      <td>-0.952138</td>\n",
       "      <td>2.523249</td>\n",
       "      <td>-0.127230</td>\n",
       "      <td>3.315194</td>\n",
       "    </tr>\n",
       "    <tr>\n",
       "      <th>1</th>\n",
       "      <td>0.411249</td>\n",
       "      <td>0.003729</td>\n",
       "      <td>-5.429093</td>\n",
       "      <td>0.001347</td>\n",
       "      <td>0.002716</td>\n",
       "      <td>0.004176</td>\n",
       "      <td>-4.538017</td>\n",
       "      <td>-0.055280</td>\n",
       "      <td>1.166162</td>\n",
       "      <td>0.521393</td>\n",
       "      <td>0.374672</td>\n",
       "      <td>-0.661753</td>\n",
       "    </tr>\n",
       "    <tr>\n",
       "      <th>2</th>\n",
       "      <td>7.357904</td>\n",
       "      <td>-0.000461</td>\n",
       "      <td>-2.747643</td>\n",
       "      <td>0.001471</td>\n",
       "      <td>-0.001400</td>\n",
       "      <td>0.006020</td>\n",
       "      <td>-15.492510</td>\n",
       "      <td>0.144513</td>\n",
       "      <td>-0.371621</td>\n",
       "      <td>-3.498419</td>\n",
       "      <td>0.483969</td>\n",
       "      <td>-3.284848</td>\n",
       "    </tr>\n",
       "    <tr>\n",
       "      <th>3</th>\n",
       "      <td>7.110999</td>\n",
       "      <td>-0.003396</td>\n",
       "      <td>6.899192</td>\n",
       "      <td>-0.001306</td>\n",
       "      <td>-0.000743</td>\n",
       "      <td>0.002116</td>\n",
       "      <td>-1.696894</td>\n",
       "      <td>0.071932</td>\n",
       "      <td>1.044310</td>\n",
       "      <td>-24.371554</td>\n",
       "      <td>-0.454240</td>\n",
       "      <td>-1.104378</td>\n",
       "    </tr>\n",
       "    <tr>\n",
       "      <th>4</th>\n",
       "      <td>2.923700</td>\n",
       "      <td>-0.003032</td>\n",
       "      <td>-7.884230</td>\n",
       "      <td>-0.002892</td>\n",
       "      <td>-0.001618</td>\n",
       "      <td>-0.002225</td>\n",
       "      <td>-9.871366</td>\n",
       "      <td>0.001150</td>\n",
       "      <td>-0.244404</td>\n",
       "      <td>-22.337997</td>\n",
       "      <td>-0.238650</td>\n",
       "      <td>0.185081</td>\n",
       "    </tr>\n",
       "    <tr>\n",
       "      <th>...</th>\n",
       "      <td>...</td>\n",
       "      <td>...</td>\n",
       "      <td>...</td>\n",
       "      <td>...</td>\n",
       "      <td>...</td>\n",
       "      <td>...</td>\n",
       "      <td>...</td>\n",
       "      <td>...</td>\n",
       "      <td>...</td>\n",
       "      <td>...</td>\n",
       "      <td>...</td>\n",
       "      <td>...</td>\n",
       "    </tr>\n",
       "    <tr>\n",
       "      <th>99995</th>\n",
       "      <td>-6.728028</td>\n",
       "      <td>-0.000503</td>\n",
       "      <td>-1.973903</td>\n",
       "      <td>-0.001687</td>\n",
       "      <td>0.000280</td>\n",
       "      <td>-0.003835</td>\n",
       "      <td>1.070975</td>\n",
       "      <td>-0.110507</td>\n",
       "      <td>-1.268863</td>\n",
       "      <td>9.926393</td>\n",
       "      <td>-0.331580</td>\n",
       "      <td>2.667666</td>\n",
       "    </tr>\n",
       "    <tr>\n",
       "      <th>99996</th>\n",
       "      <td>-8.113090</td>\n",
       "      <td>-0.003090</td>\n",
       "      <td>-2.006627</td>\n",
       "      <td>0.003374</td>\n",
       "      <td>0.003509</td>\n",
       "      <td>-0.003905</td>\n",
       "      <td>8.972775</td>\n",
       "      <td>0.032224</td>\n",
       "      <td>1.093333</td>\n",
       "      <td>-2.819569</td>\n",
       "      <td>0.161554</td>\n",
       "      <td>1.279756</td>\n",
       "    </tr>\n",
       "    <tr>\n",
       "      <th>99997</th>\n",
       "      <td>1.823646</td>\n",
       "      <td>0.001029</td>\n",
       "      <td>-6.891175</td>\n",
       "      <td>0.002488</td>\n",
       "      <td>-0.002090</td>\n",
       "      <td>-0.000343</td>\n",
       "      <td>4.534051</td>\n",
       "      <td>-0.147315</td>\n",
       "      <td>1.096939</td>\n",
       "      <td>30.148267</td>\n",
       "      <td>-0.279186</td>\n",
       "      <td>2.333936</td>\n",
       "    </tr>\n",
       "    <tr>\n",
       "      <th>99998</th>\n",
       "      <td>7.585150</td>\n",
       "      <td>0.002862</td>\n",
       "      <td>1.837656</td>\n",
       "      <td>-0.002993</td>\n",
       "      <td>0.006108</td>\n",
       "      <td>0.002685</td>\n",
       "      <td>-13.230985</td>\n",
       "      <td>0.079037</td>\n",
       "      <td>0.926955</td>\n",
       "      <td>15.506456</td>\n",
       "      <td>0.226261</td>\n",
       "      <td>0.619541</td>\n",
       "    </tr>\n",
       "    <tr>\n",
       "      <th>99999</th>\n",
       "      <td>-4.074488</td>\n",
       "      <td>0.002193</td>\n",
       "      <td>1.908186</td>\n",
       "      <td>-0.000657</td>\n",
       "      <td>0.000021</td>\n",
       "      <td>-0.002261</td>\n",
       "      <td>-16.298846</td>\n",
       "      <td>-0.053393</td>\n",
       "      <td>-0.455460</td>\n",
       "      <td>1.808443</td>\n",
       "      <td>-0.187590</td>\n",
       "      <td>3.018214</td>\n",
       "    </tr>\n",
       "  </tbody>\n",
       "</table>\n",
       "<p>100000 rows × 12 columns</p>\n",
       "</div>"
      ],
      "text/plain": [
       "           oe1x   oe1xrot      oe2x   oe2xrot   oe3xrot   oe4xrot       oe5y  \\\n",
       "0      3.145288 -0.003274  0.821222 -0.003335 -0.007931  0.005732  -3.347656   \n",
       "1      0.411249  0.003729 -5.429093  0.001347  0.002716  0.004176  -4.538017   \n",
       "2      7.357904 -0.000461 -2.747643  0.001471 -0.001400  0.006020 -15.492510   \n",
       "3      7.110999 -0.003396  6.899192 -0.001306 -0.000743  0.002116  -1.696894   \n",
       "4      2.923700 -0.003032 -7.884230 -0.002892 -0.001618 -0.002225  -9.871366   \n",
       "...         ...       ...       ...       ...       ...       ...        ...   \n",
       "99995 -6.728028 -0.000503 -1.973903 -0.001687  0.000280 -0.003835   1.070975   \n",
       "99996 -8.113090 -0.003090 -2.006627  0.003374  0.003509 -0.003905   8.972775   \n",
       "99997  1.823646  0.001029 -6.891175  0.002488 -0.002090 -0.000343   4.534051   \n",
       "99998  7.585150  0.002862  1.837656 -0.002993  0.006108  0.002685 -13.230985   \n",
       "99999 -4.074488  0.002193  1.908186 -0.000657  0.000021 -0.002261 -16.298846   \n",
       "\n",
       "        oe5xrot   oe5yrot       oe6y   oe6xrot   oe6yrot  \n",
       "0     -0.021918 -0.952138   2.523249 -0.127230  3.315194  \n",
       "1     -0.055280  1.166162   0.521393  0.374672 -0.661753  \n",
       "2      0.144513 -0.371621  -3.498419  0.483969 -3.284848  \n",
       "3      0.071932  1.044310 -24.371554 -0.454240 -1.104378  \n",
       "4      0.001150 -0.244404 -22.337997 -0.238650  0.185081  \n",
       "...         ...       ...        ...       ...       ...  \n",
       "99995 -0.110507 -1.268863   9.926393 -0.331580  2.667666  \n",
       "99996  0.032224  1.093333  -2.819569  0.161554  1.279756  \n",
       "99997 -0.147315  1.096939  30.148267 -0.279186  2.333936  \n",
       "99998  0.079037  0.926955  15.506456  0.226261  0.619541  \n",
       "99999 -0.053393 -0.455460   1.808443 -0.187590  3.018214  \n",
       "\n",
       "[100000 rows x 12 columns]"
      ]
     },
     "execution_count": 9,
     "metadata": {},
     "output_type": "execute_result"
    }
   ],
   "source": [
    "X"
   ]
  },
  {
   "cell_type": "code",
   "execution_count": 10,
   "metadata": {},
   "outputs": [],
   "source": [
    "# Scaling data -- needed to put all inputs on same \"scale\"\n",
    "# i.e. mean of 0 and variance of 1; typically this improves training performance\n",
    "scaling = StandardScaler()\n",
    "scaling.fit(X)\n",
    "scaled_X = scaling.fit_transform(X)\n",
    "scaled_X = pd.DataFrame(scaled_X, columns=X.columns)\n"
   ]
  },
  {
   "cell_type": "code",
   "execution_count": 11,
   "metadata": {},
   "outputs": [],
   "source": [
    "# This fit can be used later on as well, when used on real data\n",
    "scaling_fn = input_fn.split('.')[0]+'_scaling.pkl'\n",
    "with open(scaling_fn, 'wb') as f:\n",
    "    pickle.dump(scaling, f)"
   ]
  },
  {
   "cell_type": "code",
   "execution_count": 12,
   "metadata": {},
   "outputs": [],
   "source": [
    "X_train, X_test, Y_train, Y_test = train_test_split(scaled_X, Y, test_size=0.2, random_state=1)\n",
    "X_train, X_validation, Y_train, Y_validation = train_test_split(X_train, Y_train, test_size=0.25, random_state=1)"
   ]
  },
  {
   "cell_type": "code",
   "execution_count": 13,
   "metadata": {},
   "outputs": [],
   "source": [
    "# Setup model (this is a bigger model originally meant for a GPU\n",
    "# the hidden layers can be shrunk/trimmed.\n",
    "batch_size = 64\n",
    "hidden_sizes = [12, 12, 12]\n",
    "epochs = 100\n",
    "ep_update = 10\n",
    "learning_rate = 0.001\n",
    "l2p = 0.01"
   ]
  },
  {
   "cell_type": "code",
   "execution_count": 12,
   "metadata": {},
   "outputs": [
    {
     "name": "stdout",
     "output_type": "stream",
     "text": [
      " --------------------------------------------------\n",
      " |        Epoch         |  Training  | Validation |\n",
      " |    Total: 100        | Loss (MAE) | Loss (MAE) |\n",
      " --------------------------------------------------\n",
      " |          1           |  27146.8212|  26954.8637|\n",
      " |          10          |  15575.2769|  15468.9888|\n",
      " |          20          |  15448.8535|  15327.0479|\n",
      " |          30          |  15439.8211|  15314.1833|\n",
      " |          40          |  15364.2905|  15247.2804|\n",
      " |          50          |  15307.2376|  15197.5793|\n",
      " |          60          |  15272.9358|  15168.1065|\n",
      " |          70          |  15242.0128|  15140.6104|\n",
      " |          80          |  14958.0384|  14847.9091|\n",
      " |          90          |   5665.3677|   5669.5522|\n",
      " |         100          |   4814.8185|   4849.0191|\n",
      " --------------------------------------------------\n",
      "----------------------------------------\n",
      "Model fitting/training time using:  cpu\n",
      "Process time:     142.98\n",
      "Wall time:     132.23\n",
      "----------------------------------------\n",
      " |       Training Error |4814.818520|\n",
      " |     Validation Error |4849.019079|\n"
     ]
    }
   ],
   "source": [
    "# run the model; returns a dictionary {model, loss, metric} where loss and metric are after each epoch\n",
    "result = [tt.runNN(X_train, Y_train, X_validation, Y_validation\n",
    "                  , batch_size = batch_size, hidden_sizes=hidden_sizes\n",
    "                  , learning_rate=learning_rate, epochs=epochs\n",
    "                  , l2_penalty=l2p, update=ep_update)]"
   ]
  },
  {
   "cell_type": "code",
   "execution_count": 13,
   "metadata": {},
   "outputs": [
    {
     "name": "stdout",
     "output_type": "stream",
     "text": [
      " --------------------------------------------------\n",
      " |        Epoch         |  Training  | Validation |\n",
      " |    Total: 100        | Loss (MAE) | Loss (MAE) |\n",
      " --------------------------------------------------\n",
      " |          1           |  15582.6936|  15457.0714|\n",
      " |          10          |  15197.1829|  15077.2711|\n",
      " |          20          |  15159.7236|  15043.6004|\n",
      " |          30          |   5751.5617|   5796.0736|\n",
      " |          40          |   2863.6325|   2864.5198|\n",
      " |          50          |   1872.4414|   1870.9556|\n",
      " |          60          |   1720.8346|   1734.6522|\n",
      " |          70          |   1625.5026|   1628.7602|\n",
      " |          80          |   1533.8083|   1537.0685|\n",
      " |          90          |   1548.4008|   1553.4842|\n",
      " |         100          |   1513.3751|   1520.4785|\n",
      " --------------------------------------------------\n",
      "----------------------------------------\n",
      "Model fitting/training time using:  cpu\n",
      "Process time:     142.18\n",
      "Wall time:     131.48\n",
      "----------------------------------------\n",
      " |       Training Error |1513.375059|\n",
      " |     Validation Error |1520.478535|\n"
     ]
    }
   ],
   "source": [
    "learning_rate = 0.01\n",
    "result.append(tt.runNN(X_train, Y_train, X_validation, Y_validation\n",
    "                      , batch_size = batch_size, hidden_sizes=hidden_sizes\n",
    "                      , learning_rate=learning_rate, epochs=epochs\n",
    "                      , l2_penalty=l2p, update=ep_update))"
   ]
  },
  {
   "cell_type": "code",
   "execution_count": 14,
   "metadata": {},
   "outputs": [
    {
     "name": "stdout",
     "output_type": "stream",
     "text": [
      " --------------------------------------------------\n",
      " |        Epoch         |  Training  | Validation |\n",
      " |    Total: 1000       | Loss (MAE) | Loss (MAE) |\n",
      " --------------------------------------------------\n",
      " |          1           |  15692.6583|  15572.2378|\n",
      " |          50          |   1697.0076|   1700.7191|\n",
      " |         100          |   1303.5281|   1306.3937|\n",
      " |         150          |   1202.1828|   1205.0284|\n",
      " |         200          |   1157.1407|   1152.5705|\n",
      " |         250          |   1166.9948|   1158.8980|\n",
      " |         300          |   1024.7923|   1024.0950|\n",
      " |         350          |   1022.7280|   1020.1418|\n",
      " |         400          |    994.3764|   1002.3698|\n",
      " |         450          |   1022.5131|   1030.8525|\n",
      " |         500          |   1019.5063|   1024.2207|\n",
      " |         550          |   1018.4588|   1021.3864|\n",
      " |         600          |   1139.7759|   1145.2688|\n",
      " |         650          |    967.0600|    969.3868|\n",
      " |         700          |    921.2541|    930.4922|\n",
      " |         750          |    974.8217|    978.9074|\n",
      " |         800          |    898.8918|    907.9279|\n",
      " |         850          |    907.6319|    920.5353|\n",
      " |         900          |    776.6907|    784.5969|\n",
      " |         950          |    781.6734|    792.7863|\n",
      " |         1000         |    732.4405|    743.8309|\n",
      " --------------------------------------------------\n",
      "----------------------------------------\n",
      "Model fitting/training time using:  cpu\n",
      "Process time:    1328.79\n",
      "Wall time:    1232.31\n",
      "----------------------------------------\n",
      " |       Training Error |732.440486|\n",
      " |     Validation Error |743.830853|\n"
     ]
    }
   ],
   "source": [
    "learning_rate = 0.01\n",
    "epochs = 1000\n",
    "ep_update = 50\n",
    "result.append(tt.runNN(X_train, Y_train, X_validation, Y_validation\n",
    "                      , batch_size = batch_size, hidden_sizes=hidden_sizes\n",
    "                      , learning_rate=learning_rate, epochs=epochs\n",
    "                      , l2_penalty=l2p, update=ep_update))"
   ]
  },
  {
   "cell_type": "code",
   "execution_count": 17,
   "metadata": {},
   "outputs": [
    {
     "data": {
      "text/plain": [
       "MLModel(\n",
       "  (inputLayer): Linear(in_features=12, out_features=12, bias=True)\n",
       "  (hiddenLayers): ModuleList(\n",
       "    (0): Linear(in_features=12, out_features=12, bias=True)\n",
       "    (1): Linear(in_features=12, out_features=12, bias=True)\n",
       "  )\n",
       "  (outputLayer): Linear(in_features=12, out_features=1, bias=True)\n",
       ")"
      ]
     },
     "execution_count": 17,
     "metadata": {},
     "output_type": "execute_result"
    }
   ],
   "source": [
    "result[2]['model']"
   ]
  },
  {
   "cell_type": "code",
   "execution_count": 18,
   "metadata": {},
   "outputs": [
    {
     "name": "stdout",
     "output_type": "stream",
     "text": [
      " --------------------------------------------------\n",
      " |        Epoch         |  Training  | Validation |\n",
      " |    Total: 10000      | Loss (MAE) | Loss (MAE) |\n",
      " --------------------------------------------------\n",
      " |          1           |    777.7997|    784.1581|\n",
      " |         100          |    744.7823|    755.9467|\n",
      " |         200          |    664.9590|    676.8708|\n",
      " |         300          |    635.3205|    642.7029|\n",
      " |         400          |    565.8607|    579.3564|\n",
      " |         500          |    565.9024|    571.9579|\n",
      " |         600          |    607.5283|    615.9776|\n",
      " |         700          |    547.7454|    554.6326|\n",
      " |         800          |    572.7269|    579.4066|\n",
      " |         900          |    559.7200|    561.5881|\n",
      " |         1000         |    539.0986|    540.0226|\n",
      " |         1100         |    641.0209|    641.3311|\n",
      " |         1200         |    521.7689|    523.9916|\n",
      " |         1300         |    533.5455|    539.0431|\n",
      " |         1400         |    519.3269|    519.9878|\n",
      " |         1500         |    565.7890|    571.6360|\n",
      " |         1600         |    517.3002|    522.9435|\n",
      " |         1700         |    577.4836|    582.8532|\n",
      " |         1800         |    574.6051|    581.2822|\n",
      " |         1900         |    533.8447|    534.5318|\n",
      " |         2000         |    548.4003|    551.6065|\n",
      " |         2100         |    562.2802|    572.2214|\n",
      " |         2200         |    515.0996|    523.4325|\n",
      " |         2300         |    578.3384|    578.6010|\n",
      " |         2400         |    524.1227|    527.5849|\n",
      " |         2500         |    510.5428|    516.6930|\n",
      " |         2600         |    510.7695|    516.7830|\n",
      " |         2700         |    518.8985|    525.3445|\n",
      " |         2800         |    586.5415|    587.4883|\n",
      " |         2900         |    506.9519|    511.7621|\n",
      " |         3000         |    503.5865|    509.3549|\n",
      " |         3100         |    522.8921|    527.4865|\n",
      " |         3200         |    540.0368|    541.8275|\n",
      " |         3300         |    501.6708|    506.6714|\n",
      " |         3400         |    496.3963|    502.4954|\n",
      " |         3500         |    505.9247|    511.0069|\n",
      " |         3600         |    529.4242|    532.7266|\n",
      " |         3700         |    502.2547|    505.3924|\n",
      " |         3800         |    524.0650|    524.1797|\n",
      " |         3900         |    621.3258|    631.2595|\n",
      " |         4000         |    554.1181|    556.1667|\n",
      " |         4100         |    514.5007|    516.8434|\n",
      " |         4200         |    517.8485|    518.9870|\n",
      " |         4300         |    538.3073|    542.7774|\n",
      " |         4400         |    543.3306|    551.6433|\n",
      " |         4500         |    504.5245|    508.7275|\n",
      " |         4600         |    527.9938|    537.0567|\n",
      " |         4700         |    511.1809|    516.1231|\n",
      " |         4800         |    512.3083|    515.6989|\n",
      " |         4900         |    509.9874|    516.4584|\n",
      " |         5000         |    509.1173|    512.9520|\n",
      " |         5100         |    553.3291|    554.3228|\n",
      " |         5200         |    551.8028|    556.5698|\n",
      " |         5300         |    516.8166|    516.8835|\n",
      " |         5400         |    541.1321|    546.4967|\n",
      " |         5500         |    510.4592|    511.0759|\n",
      " |         5600         |    513.8706|    517.9440|\n",
      " |         5700         |    508.8748|    512.5662|\n",
      " |         5800         |    579.6137|    576.4635|\n",
      " |         5900         |    506.2670|    511.7606|\n",
      " |         6000         |    495.6573|    499.7464|\n",
      " |         6100         |    486.1541|    488.8509|\n",
      " |         6200         |    526.6709|    531.2676|\n",
      " |         6300         |    493.9912|    499.8763|\n",
      " |         6400         |    485.1498|    491.8092|\n",
      " |         6500         |    519.2661|    525.1899|\n",
      " |         6600         |    497.4039|    498.8093|\n",
      " |         6700         |    480.0514|    482.0747|\n",
      " |         6800         |    570.3577|    569.5903|\n",
      " |         6900         |    479.8153|    485.7923|\n",
      " |         7000         |    486.7514|    490.6952|\n",
      " |         7100         |    479.2909|    484.6049|\n",
      " |         7200         |    535.1708|    535.1557|\n",
      " |         7300         |    481.2910|    482.6122|\n",
      " |         7400         |    513.5667|    516.7828|\n",
      " |         7500         |    480.7914|    481.6875|\n",
      " |         7600         |    470.8242|    472.7104|\n",
      " |         7700         |    486.0159|    488.5633|\n",
      " |         7800         |    530.0355|    529.9068|\n",
      " |         7900         |    515.7543|    518.0409|\n",
      " |         8000         |    483.8068|    486.2744|\n",
      " |         8100         |    491.3299|    494.7273|\n",
      " |         8200         |    466.6338|    467.3093|\n",
      " |         8300         |    469.3924|    470.9781|\n",
      " |         8400         |    474.5332|    478.8680|\n",
      " |         8500         |    499.3971|    501.5004|\n",
      " |         8600         |    525.1404|    525.9288|\n",
      " |         8700         |    488.4792|    491.8857|\n",
      " |         8800         |    475.1015|    477.5631|\n",
      " |         8900         |    537.3609|    534.8959|\n",
      " |         9000         |    489.7552|    490.5620|\n",
      " |         9100         |    479.4459|    482.2017|\n",
      " |         9200         |    516.1423|    519.9853|\n",
      " |         9300         |    486.7093|    488.2792|\n",
      " |         9400         |    485.7365|    487.4465|\n",
      " |         9500         |    471.2776|    472.1132|\n",
      " |         9600         |    482.8374|    487.3708|\n",
      " |         9700         |    487.3445|    491.9828|\n",
      " |         9800         |    482.9747|    486.3661|\n",
      " |         9900         |    473.2287|    473.1397|\n",
      " |        10000         |    478.3531|    482.1287|\n",
      " --------------------------------------------------\n",
      "----------------------------------------\n",
      "Model fitting/training time using:  cpu\n",
      "Process time:   13090.08\n",
      "Wall time:   12143.58\n",
      "----------------------------------------\n",
      " |       Training Error |478.353135|\n",
      " |     Validation Error |482.128717|\n"
     ]
    }
   ],
   "source": [
    "learning_rate = 0.01\n",
    "epochs = 10000\n",
    "ep_update = 100\n",
    "result.append(tt.runNN(X_train, Y_train, X_validation, Y_validation\n",
    "                      , batch_size = batch_size, hidden_sizes=hidden_sizes\n",
    "                      , learning_rate=learning_rate, epochs=epochs\n",
    "                      , l2_penalty=l2p, update=ep_update, model = result[2]['model']))"
   ]
  },
  {
   "cell_type": "code",
   "execution_count": 19,
   "metadata": {},
   "outputs": [
    {
     "name": "stdout",
     "output_type": "stream",
     "text": [
      " --------------------------------------------------\n",
      " |        Epoch         |  Training  | Validation |\n",
      " |    Total: 10000      | Loss (MAE) | Loss (MAE) |\n",
      " --------------------------------------------------\n",
      " |          1           |    449.5347|    450.9754|\n",
      " |         100          |    456.7406|    459.1124|\n",
      " |         200          |    449.1531|    451.8044|\n",
      " |         300          |    447.3230|    448.4155|\n",
      " |         400          |    447.1481|    448.8587|\n",
      " |         500          |    451.2200|    453.1767|\n",
      " |         600          |    447.6492|    449.4134|\n",
      " |         700          |    456.0239|    458.3672|\n",
      " |         800          |    445.9797|    447.2624|\n",
      " |         900          |    450.0570|    452.6604|\n",
      " |         1000         |    446.0426|    447.4813|\n",
      " |         1100         |    445.8658|    448.2915|\n",
      " |         1200         |    446.3764|    447.4429|\n",
      " |         1300         |    446.2789|    447.9525|\n",
      " |         1400         |    448.3734|    448.8454|\n",
      " |         1500         |    453.8678|    455.8298|\n",
      " |         1600         |    445.5786|    447.2279|\n",
      " |         1700         |    456.4997|    458.5990|\n",
      " |         1800         |    445.8622|    447.4339|\n",
      " |         1900         |    452.4551|    454.3802|\n",
      " |         2000         |    460.6918|    462.6246|\n",
      " |         2100         |    446.7524|    448.5515|\n",
      " |         2200         |    446.9049|    448.8934|\n",
      " |         2300         |    447.2256|    449.1514|\n",
      " |         2400         |    446.9614|    448.9937|\n",
      " |         2500         |    446.3971|    447.6124|\n",
      " |         2600         |    452.0380|    454.2475|\n",
      " |         2700         |    446.9051|    447.7315|\n",
      " |         2800         |    448.1385|    448.8506|\n",
      " |         2900         |    446.8863|    448.6122|\n",
      " |         3000         |    447.5558|    449.1351|\n",
      " |         3100         |    453.5247|    455.4461|\n",
      " |         3200         |    449.6655|    451.6557|\n",
      " |         3300         |    445.2821|    447.0990|\n",
      " |         3400         |    447.8670|    449.1829|\n",
      " |         3500         |    446.8869|    447.7080|\n",
      " |         3600         |    449.3585|    449.8122|\n",
      " |         3700         |    446.1347|    447.7393|\n",
      " |         3800         |    448.6516|    450.1100|\n",
      " |         3900         |    449.4203|    451.8335|\n",
      " |         4000         |    448.6840|    450.6492|\n",
      " |         4100         |    448.3789|    450.1821|\n",
      " |         4200         |    451.8663|    453.9417|\n",
      " |         4300         |    448.0701|    451.0971|\n",
      " |         4400         |    448.3153|    449.8858|\n",
      " |         4500         |    451.0612|    453.1486|\n",
      " |         4600         |    451.0070|    453.2263|\n",
      " |         4700         |    458.3229|    460.4507|\n",
      " |         4800         |    449.5772|    451.6251|\n",
      " |         4900         |    446.0475|    447.7326|\n",
      " |         5000         |    462.3411|    464.4644|\n",
      " |         5100         |    448.6902|    451.5962|\n",
      " |         5200         |    447.8352|    450.1356|\n",
      " |         5300         |    448.6934|    451.0505|\n",
      " |         5400         |    445.7139|    448.2067|\n",
      " |         5500         |    446.5680|    448.5381|\n",
      " |         5600         |    453.3141|    454.4176|\n",
      " |         5700         |    446.9512|    448.0000|\n",
      " |         5800         |    446.0199|    447.2760|\n",
      " |         5900         |    444.8982|    446.5565|\n",
      " |         6000         |    445.2732|    446.8832|\n",
      " |         6100         |    455.9956|    458.1478|\n",
      " |         6200         |    446.1582|    448.6891|\n",
      " |         6300         |    446.3717|    448.4834|\n",
      " |         6400         |    445.9640|    447.9143|\n",
      " |         6500         |    446.0086|    448.0747|\n",
      " |         6600         |    447.4298|    448.1154|\n",
      " |         6700         |    446.5376|    447.8902|\n",
      " |         6800         |    445.7687|    447.5517|\n",
      " |         6900         |    449.6628|    452.0236|\n",
      " |         7000         |    446.1785|    447.8040|\n",
      " |         7100         |    445.2065|    447.7465|\n",
      " |         7200         |    445.0632|    446.7862|\n",
      " |         7300         |    446.3861|    446.9440|\n",
      " |         7400         |    447.2960|    449.1360|\n",
      " |         7500         |    445.4420|    447.9170|\n",
      " |         7600         |    459.7043|    462.2615|\n",
      " |         7700         |    454.5807|    456.3956|\n",
      " |         7800         |    445.6749|    448.4213|\n",
      " |         7900         |    458.0397|    460.3777|\n",
      " |         8000         |    447.3333|    448.5113|\n",
      " |         8100         |    446.6422|    448.7106|\n",
      " |         8200         |    446.2423|    448.0993|\n",
      " |         8300         |    446.1965|    447.4635|\n",
      " |         8400         |    452.3783|    455.0065|\n",
      " |         8500         |    447.3350|    447.8962|\n",
      " |         8600         |    446.6794|    447.8415|\n",
      " |         8700         |    449.6587|    450.7801|\n",
      " |         8800         |    452.2796|    455.3221|\n",
      " |         8900         |    445.3712|    447.8099|\n",
      " |         9000         |    447.0807|    448.8162|\n",
      " |         9100         |    445.6595|    447.7395|\n",
      " |         9200         |    454.2523|    457.0957|\n",
      " |         9300         |    447.3574|    448.8688|\n",
      " |         9400         |    451.3700|    453.5484|\n",
      " |         9500         |    445.9937|    448.3237|\n",
      " |         9600         |    455.9713|    458.1973|\n",
      " |         9700         |    445.7902|    448.1822|\n",
      " |         9800         |    451.5151|    453.8700|\n",
      " |         9900         |    446.1739|    448.9336|\n",
      " |        10000         |    445.2282|    447.3717|\n",
      " --------------------------------------------------\n",
      "----------------------------------------\n",
      "Model fitting/training time using:  cpu\n",
      "Process time:   13137.48\n",
      "Wall time:   12186.53\n",
      "----------------------------------------\n",
      " |       Training Error |445.228218|\n",
      " |     Validation Error |447.371659|\n"
     ]
    }
   ],
   "source": [
    "learning_rate = 0.001\n",
    "epochs = 10000\n",
    "ep_update = 100\n",
    "result.append(tt.runNN(X_train, Y_train, X_validation, Y_validation\n",
    "                      , batch_size = batch_size, hidden_sizes=hidden_sizes\n",
    "                      , learning_rate=learning_rate, epochs=epochs\n",
    "                      , l2_penalty=l2p, update=ep_update, model = result[3]['model']))"
   ]
  },
  {
   "cell_type": "code",
   "execution_count": 63,
   "metadata": {},
   "outputs": [
    {
     "name": "stderr",
     "output_type": "stream",
     "text": [
      "/home/beams/MWYMAN/.conda/envs/shadow/lib/python3.7/site-packages/torch/storage.py:34: FutureWarning: pickle support for Storage will be removed in 1.5. Use `torch.save` instead\n",
      "  warnings.warn(\"pickle support for Storage will be removed in 1.5. Use `torch.save` instead\", FutureWarning)\n"
     ]
    }
   ],
   "source": [
    "# Saving the model to be used in timing tests aginst\n",
    "nn_fn = input_fn.split('.')[0]+'_NN_results.pkl'\n",
    "with open(nn_fn, 'wb') as f:\n",
    "    pickle.dump(result, f)"
   ]
  },
  {
   "cell_type": "markdown",
   "metadata": {},
   "source": [
    "## Test error\n",
    "Need code to run on test set -- need to ensure conversion to correct data type for model"
   ]
  },
  {
   "cell_type": "code",
   "execution_count": 14,
   "metadata": {},
   "outputs": [],
   "source": [
    "#import model\n",
    "nn_fn = input_fn.split('.')[0]+'_NN_results.pkl'\n",
    "with open(nn_fn, 'rb') as f:\n",
    "    result = pickle.load(f)"
   ]
  },
  {
   "cell_type": "code",
   "execution_count": 15,
   "metadata": {},
   "outputs": [],
   "source": [
    "testFeatures = torch.tensor(X_test.values)\n",
    "testTargets = torch.tensor(Y_test.values)"
   ]
  },
  {
   "cell_type": "code",
   "execution_count": 16,
   "metadata": {},
   "outputs": [
    {
     "data": {
      "text/plain": [
       "MLModel(\n",
       "  (inputLayer): Linear(in_features=12, out_features=12, bias=True)\n",
       "  (hiddenLayers): ModuleList(\n",
       "    (0): Linear(in_features=12, out_features=12, bias=True)\n",
       "    (1): Linear(in_features=12, out_features=12, bias=True)\n",
       "  )\n",
       "  (outputLayer): Linear(in_features=12, out_features=1, bias=True)\n",
       ")"
      ]
     },
     "execution_count": 16,
     "metadata": {},
     "output_type": "execute_result"
    }
   ],
   "source": [
    "model = result[4]['model']\n",
    "device = torch.device('cpu')\n",
    "tt.to_device(model, device)"
   ]
  },
  {
   "cell_type": "code",
   "execution_count": null,
   "metadata": {},
   "outputs": [],
   "source": []
  },
  {
   "cell_type": "code",
   "execution_count": 17,
   "metadata": {},
   "outputs": [
    {
     "name": "stdout",
     "output_type": "stream",
     "text": [
      " |           Test Error |454.971124|\n"
     ]
    }
   ],
   "source": [
    "# get test scores\n",
    "from sklearn.metrics import r2_score, mean_absolute_error\n",
    "\n",
    "testPredictions = model(tt.to_device(testFeatures.float(), device))\n",
    "lformat = ' |{0:>22}|{1:>10.6f}|'\n",
    "print(lformat.format('Test Error ', mean_absolute_error(Y_test, testPredictions.cpu().detach().numpy(), )))"
   ]
  },
  {
   "cell_type": "markdown",
   "metadata": {},
   "source": [
    "#### Plots - comparing surrogate model to test data"
   ]
  },
  {
   "cell_type": "code",
   "execution_count": 18,
   "metadata": {},
   "outputs": [
    {
     "data": {
      "text/plain": [
       "\u001b[0;31mType:\u001b[0m        Tensor\n",
       "\u001b[0;31mString form:\u001b[0m\n",
       "tensor([[71315.8438],\n",
       "        [46672.1133],\n",
       "        [37974.1562],\n",
       "        ...,\n",
       "        [22540.0430],\n",
       "        [49414.3125],\n",
       "        [72397.0859]], grad_fn=<AddmmBackward>)\n",
       "\u001b[0;31mLength:\u001b[0m      20000\n",
       "\u001b[0;31mFile:\u001b[0m        ~/.conda/envs/shadow/lib/python3.7/site-packages/torch/__init__.py\n",
       "\u001b[0;31mDocstring:\u001b[0m   <no docstring>\n"
      ]
     },
     "metadata": {},
     "output_type": "display_data"
    }
   ],
   "source": [
    "testPredictions?"
   ]
  },
  {
   "cell_type": "code",
   "execution_count": 19,
   "metadata": {},
   "outputs": [],
   "source": [
    "testPredarr = testPredictions.detach().numpy()"
   ]
  },
  {
   "cell_type": "code",
   "execution_count": 20,
   "metadata": {},
   "outputs": [
    {
     "data": {
      "text/plain": [
       "array([[71315.84 ],\n",
       "       [46672.113],\n",
       "       [37974.156],\n",
       "       ...,\n",
       "       [22540.043],\n",
       "       [49414.312],\n",
       "       [72397.086]], dtype=float32)"
      ]
     },
     "execution_count": 20,
     "metadata": {},
     "output_type": "execute_result"
    }
   ],
   "source": [
    "testPredarr"
   ]
  },
  {
   "cell_type": "code",
   "execution_count": 21,
   "metadata": {},
   "outputs": [
    {
     "data": {
      "text/html": [
       "<div>\n",
       "<style scoped>\n",
       "    .dataframe tbody tr th:only-of-type {\n",
       "        vertical-align: middle;\n",
       "    }\n",
       "\n",
       "    .dataframe tbody tr th {\n",
       "        vertical-align: top;\n",
       "    }\n",
       "\n",
       "    .dataframe thead th {\n",
       "        text-align: right;\n",
       "    }\n",
       "</style>\n",
       "<table border=\"1\" class=\"dataframe\">\n",
       "  <thead>\n",
       "    <tr style=\"text-align: right;\">\n",
       "      <th></th>\n",
       "      <th>Rays</th>\n",
       "    </tr>\n",
       "  </thead>\n",
       "  <tbody>\n",
       "    <tr>\n",
       "      <th>43660</th>\n",
       "      <td>71890</td>\n",
       "    </tr>\n",
       "    <tr>\n",
       "      <th>87278</th>\n",
       "      <td>46394</td>\n",
       "    </tr>\n",
       "    <tr>\n",
       "      <th>14317</th>\n",
       "      <td>38067</td>\n",
       "    </tr>\n",
       "    <tr>\n",
       "      <th>81932</th>\n",
       "      <td>21117</td>\n",
       "    </tr>\n",
       "    <tr>\n",
       "      <th>95321</th>\n",
       "      <td>17806</td>\n",
       "    </tr>\n",
       "    <tr>\n",
       "      <th>...</th>\n",
       "      <td>...</td>\n",
       "    </tr>\n",
       "    <tr>\n",
       "      <th>73441</th>\n",
       "      <td>56761</td>\n",
       "    </tr>\n",
       "    <tr>\n",
       "      <th>1341</th>\n",
       "      <td>62984</td>\n",
       "    </tr>\n",
       "    <tr>\n",
       "      <th>71987</th>\n",
       "      <td>22545</td>\n",
       "    </tr>\n",
       "    <tr>\n",
       "      <th>26910</th>\n",
       "      <td>49185</td>\n",
       "    </tr>\n",
       "    <tr>\n",
       "      <th>24890</th>\n",
       "      <td>72753</td>\n",
       "    </tr>\n",
       "  </tbody>\n",
       "</table>\n",
       "<p>20000 rows × 1 columns</p>\n",
       "</div>"
      ],
      "text/plain": [
       "        Rays\n",
       "43660  71890\n",
       "87278  46394\n",
       "14317  38067\n",
       "81932  21117\n",
       "95321  17806\n",
       "...      ...\n",
       "73441  56761\n",
       "1341   62984\n",
       "71987  22545\n",
       "26910  49185\n",
       "24890  72753\n",
       "\n",
       "[20000 rows x 1 columns]"
      ]
     },
     "execution_count": 21,
     "metadata": {},
     "output_type": "execute_result"
    }
   ],
   "source": [
    "Y_test"
   ]
  },
  {
   "cell_type": "code",
   "execution_count": 22,
   "metadata": {},
   "outputs": [
    {
     "data": {
      "text/plain": [
       "array([71890, 46394, 38067, ..., 22545, 49185, 72753])"
      ]
     },
     "execution_count": 22,
     "metadata": {},
     "output_type": "execute_result"
    }
   ],
   "source": [
    "np.asarray(Y_test.Rays)"
   ]
  },
  {
   "cell_type": "code",
   "execution_count": 23,
   "metadata": {},
   "outputs": [
    {
     "data": {
      "application/vnd.jupyter.widget-view+json": {
       "model_id": "57fe89cdb4ab42cbb4c9c19f45ab2473",
       "version_major": 2,
       "version_minor": 0
      },
      "text/plain": [
       "Canvas(toolbar=Toolbar(toolitems=[('Home', 'Reset original view', 'home', 'home'), ('Back', 'Back to previous …"
      ]
     },
     "metadata": {},
     "output_type": "display_data"
    },
    {
     "data": {
      "text/plain": [
       "[<matplotlib.lines.Line2D at 0x7fd81e58a250>]"
      ]
     },
     "execution_count": 23,
     "metadata": {},
     "output_type": "execute_result"
    }
   ],
   "source": [
    "# testPredictions vs Y_test\n",
    "fig, axs = plt.subplots(1, 1, tight_layout=True)\n",
    "axs.set(title = '',\n",
    "        xlabel = 'Shadow Data',\n",
    "        ylabel = 'NN predictions')\n",
    "axs.plot(np.asarray(Y_test.Rays), testPredarr, marker = '.', linestyle = ' ')"
   ]
  },
  {
   "cell_type": "code",
   "execution_count": 50,
   "metadata": {},
   "outputs": [
    {
     "data": {
      "text/plain": [
       "(array([ 730.,  801.,  772.,  873.,  919.,  918., 1027., 1049., 1121.,\n",
       "        1172., 1282., 1424., 1435., 1368., 1147., 1142.,  992.,  851.,\n",
       "         647.,  330.]),\n",
       " array([  143.  ,  4302.25,  8461.5 , 12620.75, 16780.  , 20939.25,\n",
       "        25098.5 , 29257.75, 33417.  , 37576.25, 41735.5 , 45894.75,\n",
       "        50054.  , 54213.25, 58372.5 , 62531.75, 66691.  , 70850.25,\n",
       "        75009.5 , 79168.75, 83328.  ]),\n",
       " <a list of 20 Patch objects>)"
      ]
     },
     "execution_count": 50,
     "metadata": {},
     "output_type": "execute_result"
    },
    {
     "data": {
      "image/png": "[encoded data removed]",
      "text/plain": [
       "<Figure size 432x288 with 1 Axes>"
      ]
     },
     "metadata": {
      "needs_background": "light"
     },
     "output_type": "display_data"
    }
   ],
   "source": [
    "# Histograms for both testPredictions and Y_test\n",
    "\n",
    "fig, axs = plt.subplots(1, 1, tight_layout=True)\n",
    "\n",
    "axs.hist(np.asarray(Y_test.Rays), bins = 20, color = 'red')"
   ]
  },
  {
   "cell_type": "code",
   "execution_count": 51,
   "metadata": {},
   "outputs": [
    {
     "data": {
      "text/plain": [
       "array([[<matplotlib.axes._subplots.AxesSubplot object at 0x7fa00c12ae50>]],\n",
       "      dtype=object)"
      ]
     },
     "execution_count": 51,
     "metadata": {},
     "output_type": "execute_result"
    },
    {
     "data": {
      "image/png": "[encoded data removed]",
      "text/plain": [
       "<Figure size 432x288 with 1 Axes>"
      ]
     },
     "metadata": {
      "needs_background": "light"
     },
     "output_type": "display_data"
    }
   ],
   "source": [
    "Y_test.hist(bins=20)"
   ]
  },
  {
   "cell_type": "code",
   "execution_count": 52,
   "metadata": {},
   "outputs": [],
   "source": [
    "comparison = Y_test.copy()"
   ]
  },
  {
   "cell_type": "code",
   "execution_count": 59,
   "metadata": {},
   "outputs": [],
   "source": [
    "comparison['pred'] = testPredarr.flatten().tolist()"
   ]
  },
  {
   "cell_type": "code",
   "execution_count": 60,
   "metadata": {},
   "outputs": [
    {
     "data": {
      "text/html": [
       "<div>\n",
       "<style scoped>\n",
       "    .dataframe tbody tr th:only-of-type {\n",
       "        vertical-align: middle;\n",
       "    }\n",
       "\n",
       "    .dataframe tbody tr th {\n",
       "        vertical-align: top;\n",
       "    }\n",
       "\n",
       "    .dataframe thead th {\n",
       "        text-align: right;\n",
       "    }\n",
       "</style>\n",
       "<table border=\"1\" class=\"dataframe\">\n",
       "  <thead>\n",
       "    <tr style=\"text-align: right;\">\n",
       "      <th></th>\n",
       "      <th>Rays</th>\n",
       "      <th>pred</th>\n",
       "    </tr>\n",
       "  </thead>\n",
       "  <tbody>\n",
       "    <tr>\n",
       "      <th>43660</th>\n",
       "      <td>71890</td>\n",
       "      <td>71315.843750</td>\n",
       "    </tr>\n",
       "    <tr>\n",
       "      <th>87278</th>\n",
       "      <td>46394</td>\n",
       "      <td>46672.113281</td>\n",
       "    </tr>\n",
       "    <tr>\n",
       "      <th>14317</th>\n",
       "      <td>38067</td>\n",
       "      <td>37974.156250</td>\n",
       "    </tr>\n",
       "    <tr>\n",
       "      <th>81932</th>\n",
       "      <td>21117</td>\n",
       "      <td>20883.498047</td>\n",
       "    </tr>\n",
       "    <tr>\n",
       "      <th>95321</th>\n",
       "      <td>17806</td>\n",
       "      <td>17595.228516</td>\n",
       "    </tr>\n",
       "    <tr>\n",
       "      <th>...</th>\n",
       "      <td>...</td>\n",
       "      <td>...</td>\n",
       "    </tr>\n",
       "    <tr>\n",
       "      <th>73441</th>\n",
       "      <td>56761</td>\n",
       "      <td>57992.882812</td>\n",
       "    </tr>\n",
       "    <tr>\n",
       "      <th>1341</th>\n",
       "      <td>62984</td>\n",
       "      <td>62893.617188</td>\n",
       "    </tr>\n",
       "    <tr>\n",
       "      <th>71987</th>\n",
       "      <td>22545</td>\n",
       "      <td>22540.042969</td>\n",
       "    </tr>\n",
       "    <tr>\n",
       "      <th>26910</th>\n",
       "      <td>49185</td>\n",
       "      <td>49414.312500</td>\n",
       "    </tr>\n",
       "    <tr>\n",
       "      <th>24890</th>\n",
       "      <td>72753</td>\n",
       "      <td>72397.085938</td>\n",
       "    </tr>\n",
       "  </tbody>\n",
       "</table>\n",
       "<p>20000 rows × 2 columns</p>\n",
       "</div>"
      ],
      "text/plain": [
       "        Rays          pred\n",
       "43660  71890  71315.843750\n",
       "87278  46394  46672.113281\n",
       "14317  38067  37974.156250\n",
       "81932  21117  20883.498047\n",
       "95321  17806  17595.228516\n",
       "...      ...           ...\n",
       "73441  56761  57992.882812\n",
       "1341   62984  62893.617188\n",
       "71987  22545  22540.042969\n",
       "26910  49185  49414.312500\n",
       "24890  72753  72397.085938\n",
       "\n",
       "[20000 rows x 2 columns]"
      ]
     },
     "execution_count": 60,
     "metadata": {},
     "output_type": "execute_result"
    }
   ],
   "source": [
    "comparison"
   ]
  },
  {
   "cell_type": "code",
   "execution_count": 61,
   "metadata": {},
   "outputs": [
    {
     "data": {
      "text/plain": [
       "array([[<matplotlib.axes._subplots.AxesSubplot object at 0x7fa00c3b7990>,\n",
       "        <matplotlib.axes._subplots.AxesSubplot object at 0x7fa00c4ba490>]],\n",
       "      dtype=object)"
      ]
     },
     "execution_count": 61,
     "metadata": {},
     "output_type": "execute_result"
    },
    {
     "data": {
      "image/png": "[encoded data removed]",
      "text/plain": [
       "<Figure size 432x288 with 2 Axes>"
      ]
     },
     "metadata": {
      "needs_background": "light"
     },
     "output_type": "display_data"
    }
   ],
   "source": [
    "comparison.hist(bins=20)"
   ]
  },
  {
   "cell_type": "code",
   "execution_count": null,
   "metadata": {},
   "outputs": [],
   "source": []
  }
 ],
 "metadata": {
  "kernelspec": {
   "display_name": "Python 3",
   "language": "python",
   "name": "python3"
  },
  "language_info": {
   "codemirror_mode": {
    "name": "ipython",
    "version": 3
   },
   "file_extension": ".py",
   "mimetype": "text/x-python",
   "name": "python",
   "nbconvert_exporter": "python",
   "pygments_lexer": "ipython3",
   "version": "3.7.4"
  }
 },
 "nbformat": 4,
 "nbformat_minor": 4
}
