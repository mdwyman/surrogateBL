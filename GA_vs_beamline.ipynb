{
 "cells": [
  {
   "cell_type": "code",
   "execution_count": 2,
   "metadata": {},
   "outputs": [],
   "source": [
    "import pickle\n",
    "import time\n",
    "import numpy as np\n",
    "import pandas as pd\n",
    "\n",
    "import torch\n",
    "import torchTools as tt"
   ]
  },
  {
   "cell_type": "markdown",
   "metadata": {},
   "source": [
    "## Import beamline\n",
    "\n",
    "Using 29ID/IEX"
   ]
  },
  {
   "cell_type": "code",
   "execution_count": 3,
   "metadata": {},
   "outputs": [],
   "source": [
    "from beamline_29 import IEX"
   ]
  },
  {
   "cell_type": "markdown",
   "metadata": {},
   "source": [
    "## Importing and testing GA package\n",
    "\n",
    "Developed by Rebecca Aloisio during 2020 summer internship with XSD/BC.  Full repo and testing can be found here: https://github.com/Automated-Beamline-Endeavors/GA4beamlines\n",
    "\n",
    "Locally kept in ../GA4beamlines and not quite a \"package\" hence the clunky import process."
   ]
  },
  {
   "cell_type": "code",
   "execution_count": 7,
   "metadata": {},
   "outputs": [
    {
     "name": "stdout",
     "output_type": "stream",
     "text": [
      "Imported!\n",
      "I've been imported!\n"
     ]
    }
   ],
   "source": [
    "import sys\n",
    "# insert at 1, 0 is the script path (or '' in REPL)\n",
    "sys.path.insert(1, '/home/beams/MWYMAN/sandbox/GA4beamlines/')\n",
    "\n",
    "import ga4beamlines as ga4b"
   ]
  },
  {
   "cell_type": "markdown",
   "metadata": {},
   "source": [
    "### Coordinating motor definitions\n",
    "\n",
    "GA4beamlines uses a dictionary for the motors and beamline_29 had it's own class attribute for the positions and ranges"
   ]
  },
  {
   "cell_type": "code",
   "execution_count": null,
   "metadata": {},
   "outputs": [],
   "source": []
  },
  {
   "cell_type": "code",
   "execution_count": null,
   "metadata": {},
   "outputs": [],
   "source": []
  },
  {
   "cell_type": "markdown",
   "metadata": {},
   "source": [
    "### General GA setup"
   ]
  },
  {
   "cell_type": "code",
   "execution_count": null,
   "metadata": {},
   "outputs": [],
   "source": [
    "nGenerations = 10\n",
    "critVal = 0.9 # TODO what's this for beamline? \n",
    "startPop = None\n",
    "\n",
    "popSize = 100\n",
    "nElite = 10\n",
    "alpha = 0.75\n",
    "s = 1.5"
   ]
  },
  {
   "cell_type": "code",
   "execution_count": null,
   "metadata": {},
   "outputs": [],
   "source": [
    "survivSelMode = ga4b.sMode[1]       # Genitor\n",
    "parentSelMode = ga4b.pMode[0]       # ProbRank\n",
    "crossOverMode = ga4b.cxMode[1]      # Simple\n",
    "mutationMode = ga4b.mMode[1]        # Gaussian mutation\n",
    "# fitnessMode = {\"type\": \"Func\", \"name\": funcnName} to be set in each section"
   ]
  },
  {
   "cell_type": "code",
   "execution_count": null,
   "metadata": {},
   "outputs": [],
   "source": []
  },
  {
   "cell_type": "code",
   "execution_count": null,
   "metadata": {},
   "outputs": [],
   "source": []
  },
  {
   "cell_type": "code",
   "execution_count": null,
   "metadata": {},
   "outputs": [],
   "source": []
  },
  {
   "cell_type": "markdown",
   "metadata": {},
   "source": [
    "## GA vs Shadow\n",
    "\n",
    "First need to create fitness function based on shadow ouput"
   ]
  },
  {
   "cell_type": "code",
   "execution_count": null,
   "metadata": {},
   "outputs": [],
   "source": [
    "def shadowFitness(x, beamline):\n",
    "    '''\n",
    "        x                  : array of positions for moveable DOF\n",
    "        beamline           : shadow beamline model\n",
    "    '''    \n",
    "    \n",
    "    #TODO add error checking to make sure x is same shape as where beamline.mask == 1\n",
    "    \n",
    "    beamline.pos[beamline.mask == 1] = x #need to expand to handle masking as x only covers the DOF but pos includes unmoved DOF\n",
    "    fitness = beamline.run()\n",
    "\n",
    "    return fitness"
   ]
  },
  {
   "cell_type": "code",
   "execution_count": null,
   "metadata": {},
   "outputs": [],
   "source": [
    "shadowFitness(x,IEX)"
   ]
  },
  {
   "cell_type": "code",
   "execution_count": null,
   "metadata": {},
   "outputs": [],
   "source": [
    "fitnessMode = {\"type\": \"Func\", \"name\": shadowFitness}"
   ]
  },
  {
   "cell_type": "markdown",
   "metadata": {},
   "source": [
    "## GA vs Surrogate\n",
    "\n",
    "First need to import scaling and model"
   ]
  },
  {
   "cell_type": "code",
   "execution_count": null,
   "metadata": {},
   "outputs": [],
   "source": [
    "#import scaling\n",
    "input_fn = 'IEX_100k_04w.pkl'\n",
    "\n",
    "scaling_fn = input_fn.split('.')[0]+'_scaling.pkl'\n",
    "with open(scaling_fn, 'rb') as f:\n",
    "    scaling = pickle.load(f)"
   ]
  },
  {
   "cell_type": "code",
   "execution_count": null,
   "metadata": {},
   "outputs": [],
   "source": [
    "#import model\n",
    "nn_fn = input_fn.split('.')[0]+'_NN_results.pkl'\n",
    "with open(nn_fn, 'rb') as f:\n",
    "    result = pickle.load(f)"
   ]
  },
  {
   "cell_type": "markdown",
   "metadata": {},
   "source": [
    "Need to create fitness function based on surrogate NN output"
   ]
  },
  {
   "cell_type": "code",
   "execution_count": null,
   "metadata": {},
   "outputs": [],
   "source": [
    "def surrogateNNFitness(x, surrogate_model):\n",
    "    '''\n",
    "        x                  : array of positions that is the expected input for the surrogate model\n",
    "        surrogate_model    : trained pyTorch model\n",
    "    '''\n",
    "    \n",
    "    x_pd = pd.DataFrame(x, columns=['oe1x','oe1xrot','oe2x','oe2xrot','oe3xrot','oe4xrot','oe5y','oe5xrot','oe5yrot','oe6y','oe6xrot','oe6yrot',])\n",
    "    xFeatures = scaling.transform(x_pd)\n",
    "    xFeatures = pd.DataFrame(xFeatures, columns=x_pd.columns)\n",
    "\n",
    "    x_tensor = torch.tensor(xFeatures.values) \n",
    "    \n",
    "    model = surrogate_model\n",
    "    device = torch.device('cpu')\n",
    "    tt.to_device(model, device)\n",
    "\n",
    "    fitness = model(tt.to_device(x_tensor.float(), device))\n",
    "    \n",
    "    return fitness\n",
    "    "
   ]
  },
  {
   "cell_type": "code",
   "execution_count": null,
   "metadata": {},
   "outputs": [],
   "source": [
    "surrogateNNFitness(test_pos, result[4]['model'])"
   ]
  },
  {
   "cell_type": "code",
   "execution_count": null,
   "metadata": {},
   "outputs": [],
   "source": [
    "fitnessMode = {\"type\": \"Func\", \"name\": surrogateNNFitness}"
   ]
  }
 ],
 "metadata": {
  "kernelspec": {
   "display_name": "Python 3",
   "language": "python",
   "name": "python3"
  },
  "language_info": {
   "codemirror_mode": {
    "name": "ipython",
    "version": 3
   },
   "file_extension": ".py",
   "mimetype": "text/x-python",
   "name": "python",
   "nbconvert_exporter": "python",
   "pygments_lexer": "ipython3",
   "version": "3.7.4"
  }
 },
 "nbformat": 4,
 "nbformat_minor": 4
}
