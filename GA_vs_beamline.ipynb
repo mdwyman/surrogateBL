{
 "cells": [
  {
   "cell_type": "code",
   "execution_count": 29,
   "metadata": {},
   "outputs": [],
   "source": [
    "import pickle\n",
    "import time\n",
    "import numpy as np\n",
    "import pandas as pd\n",
    "import math\n",
    "\n",
    "import torch\n",
    "import torchTools as tt"
   ]
  },
  {
   "cell_type": "markdown",
   "metadata": {},
   "source": [
    "## Import beamline\n",
    "\n",
    "Using 29ID/IEX"
   ]
  },
  {
   "cell_type": "code",
   "execution_count": 3,
   "metadata": {},
   "outputs": [],
   "source": [
    "from beamline_29 import IEX"
   ]
  },
  {
   "cell_type": "markdown",
   "metadata": {},
   "source": [
    "## Importing and testing GA package\n",
    "\n",
    "Developed by Rebecca Aloisio during 2020 summer internship with XSD/BC.  Full repo and testing can be found here: https://github.com/Automated-Beamline-Endeavors/GA4beamlines\n",
    "\n",
    "Locally kept in ../GA4beamlines and not quite a \"package\" hence the clunky import process."
   ]
  },
  {
   "cell_type": "code",
   "execution_count": 7,
   "metadata": {},
   "outputs": [
    {
     "name": "stdout",
     "output_type": "stream",
     "text": [
      "Imported!\n",
      "I've been imported!\n"
     ]
    }
   ],
   "source": [
    "import sys\n",
    "# insert at 1, 0 is the script path (or '' in REPL)\n",
    "sys.path.insert(1, '/home/beams/MWYMAN/sandbox/GA4beamlines/')\n",
    "\n",
    "import ga4beamlines as ga4b"
   ]
  },
  {
   "cell_type": "markdown",
   "metadata": {},
   "source": [
    "### Coordinating motor definitions\n",
    "\n",
    "GA4beamlines uses a dictionary for the motors and beamline_29 had it's own class attribute for the positions and ranges"
   ]
  },
  {
   "cell_type": "code",
   "execution_count": 13,
   "metadata": {},
   "outputs": [
    {
     "data": {
      "text/plain": [
       "array([[1, 0, 0, 1, 0, 0],\n",
       "       [1, 0, 0, 1, 0, 0],\n",
       "       [0, 0, 0, 1, 0, 0],\n",
       "       [0, 0, 0, 1, 0, 0],\n",
       "       [0, 1, 0, 1, 1, 0],\n",
       "       [0, 1, 0, 1, 1, 0]])"
      ]
     },
     "execution_count": 13,
     "metadata": {},
     "output_type": "execute_result"
    }
   ],
   "source": [
    "IEX.mask"
   ]
  },
  {
   "cell_type": "code",
   "execution_count": 16,
   "metadata": {},
   "outputs": [],
   "source": [
    "IEX.sRange = IEX.sRange*0.4"
   ]
  },
  {
   "cell_type": "code",
   "execution_count": 18,
   "metadata": {},
   "outputs": [],
   "source": [
    "motorNames = ['oe1x','oe1xrot','oe2x','oe2xrot','oe3xrot','oe4xrot','oe5y','oe5xrot','oe5yrot','oe6y','oe6xrot','oe6yrot',]"
   ]
  },
  {
   "cell_type": "code",
   "execution_count": 25,
   "metadata": {},
   "outputs": [],
   "source": [
    "DOF_limits = IEX.sRange[IEX.mask == 1]"
   ]
  },
  {
   "cell_type": "code",
   "execution_count": 26,
   "metadata": {},
   "outputs": [
    {
     "data": {
      "text/plain": [
       "array([[-8.160e+00,  8.160e+00],\n",
       "       [-4.000e-03,  4.000e-03],\n",
       "       [-9.160e+00,  9.160e+00],\n",
       "       [-4.000e-03,  4.000e-03],\n",
       "       [-8.000e-03,  8.000e-03],\n",
       "       [-8.000e-03,  8.000e-03],\n",
       "       [-1.680e+01,  1.680e+01],\n",
       "       [-1.600e-01,  1.600e-01],\n",
       "       [-1.288e+00,  1.288e+00],\n",
       "       [-3.452e+01,  3.452e+01],\n",
       "       [-5.520e-01,  5.520e-01],\n",
       "       [-3.480e+00,  3.480e+00]])"
      ]
     },
     "execution_count": 26,
     "metadata": {},
     "output_type": "execute_result"
    }
   ],
   "source": [
    "DOF_limits"
   ]
  },
  {
   "cell_type": "code",
   "execution_count": 33,
   "metadata": {},
   "outputs": [],
   "source": [
    "DOF_sigma = [abs((lim[1]-lim[0])/5.) for lim in DOF_limits]"
   ]
  },
  {
   "cell_type": "code",
   "execution_count": 38,
   "metadata": {},
   "outputs": [
    {
     "data": {
      "text/plain": [
       "12"
      ]
     },
     "execution_count": 38,
     "metadata": {},
     "output_type": "execute_result"
    }
   ],
   "source": [
    "len(DOF_limits)"
   ]
  },
  {
   "cell_type": "code",
   "execution_count": 39,
   "metadata": {},
   "outputs": [],
   "source": [
    "motors_29id = []\n",
    "for name, limits, sigma in zip(motorNames, DOF_limits, DOF_sigma):\n",
    "    motors_29id.append({'name':name, 'lo':min(limits), 'hi':max(limits), 'sigma':sigma})"
   ]
  },
  {
   "cell_type": "code",
   "execution_count": 40,
   "metadata": {},
   "outputs": [
    {
     "data": {
      "text/plain": [
       "[{'name': 'oe1x', 'lo': -8.16, 'hi': 8.16, 'sigma': 3.2640000000000002},\n",
       " {'name': 'oe1xrot', 'lo': -0.004, 'hi': 0.004, 'sigma': 0.0016},\n",
       " {'name': 'oe2x', 'lo': -9.16, 'hi': 9.16, 'sigma': 3.664},\n",
       " {'name': 'oe2xrot', 'lo': -0.004, 'hi': 0.004, 'sigma': 0.0016},\n",
       " {'name': 'oe3xrot', 'lo': -0.008, 'hi': 0.008, 'sigma': 0.0032},\n",
       " {'name': 'oe4xrot', 'lo': -0.008, 'hi': 0.008, 'sigma': 0.0032},\n",
       " {'name': 'oe5y', 'lo': -16.8, 'hi': 16.8, 'sigma': 6.720000000000001},\n",
       " {'name': 'oe5xrot',\n",
       "  'lo': -0.16000000000000003,\n",
       "  'hi': 0.16000000000000003,\n",
       "  'sigma': 0.06400000000000002},\n",
       " {'name': 'oe5yrot',\n",
       "  'lo': -1.2880000000000003,\n",
       "  'hi': 1.2880000000000003,\n",
       "  'sigma': 0.5152000000000001},\n",
       " {'name': 'oe6y', 'lo': -34.52, 'hi': 34.52, 'sigma': 13.808000000000002},\n",
       " {'name': 'oe6xrot',\n",
       "  'lo': -0.5519999999999999,\n",
       "  'hi': 0.5519999999999999,\n",
       "  'sigma': 0.22079999999999997},\n",
       " {'name': 'oe6yrot', 'lo': -3.48, 'hi': 3.48, 'sigma': 1.392}]"
      ]
     },
     "execution_count": 40,
     "metadata": {},
     "output_type": "execute_result"
    }
   ],
   "source": [
    "motors_29id"
   ]
  },
  {
   "cell_type": "markdown",
   "metadata": {},
   "source": [
    "### General GA setup"
   ]
  },
  {
   "cell_type": "code",
   "execution_count": 41,
   "metadata": {},
   "outputs": [],
   "source": [
    "nGenerations = 10\n",
    "critVal = 0.9 # TODO what's this for beamline? \n",
    "startPop = None\n",
    "\n",
    "popSize = 100\n",
    "nElite = 10\n",
    "alpha = 0.75\n",
    "s = 1.5"
   ]
  },
  {
   "cell_type": "code",
   "execution_count": 42,
   "metadata": {},
   "outputs": [],
   "source": [
    "survivSelMode = ga4b.sMode[1]       # Genitor\n",
    "parentSelMode = ga4b.pMode[0]       # ProbRank\n",
    "crossOverMode = ga4b.cxMode[1]      # Simple\n",
    "mutationMode = ga4b.mMode[1]        # Gaussian mutation\n",
    "# fitnessMode = {\"type\": \"Func\", \"name\": funcnName} to be set in each section"
   ]
  },
  {
   "cell_type": "code",
   "execution_count": null,
   "metadata": {},
   "outputs": [],
   "source": []
  },
  {
   "cell_type": "code",
   "execution_count": null,
   "metadata": {},
   "outputs": [],
   "source": []
  },
  {
   "cell_type": "markdown",
   "metadata": {},
   "source": [
    "## GA vs Shadow\n",
    "\n",
    "First need to create fitness function based on shadow ouput"
   ]
  },
  {
   "cell_type": "code",
   "execution_count": 43,
   "metadata": {},
   "outputs": [],
   "source": [
    "def shadowFitness(x, beamline):\n",
    "    '''\n",
    "        x                  : array of positions for moveable DOF\n",
    "        beamline           : shadow beamline model\n",
    "    '''    \n",
    "    \n",
    "    #TODO add error checking to make sure x is same shape as where beamline.mask == 1\n",
    "    \n",
    "    beamline.pos[beamline.mask == 1] = x #need to expand to handle masking as x only covers the DOF but pos includes unmoved DOF\n",
    "    fitness = beamline.run()\n",
    "\n",
    "    return fitness"
   ]
  },
  {
   "cell_type": "code",
   "execution_count": 47,
   "metadata": {},
   "outputs": [],
   "source": [
    "fitnessMode = {\"type\": \"Func\", \"name\": shadowFitness, \"args\":IEX}"
   ]
  },
  {
   "cell_type": "code",
   "execution_count": 48,
   "metadata": {},
   "outputs": [],
   "source": [
    "GA29id = ga4b.GA4Beamline(motors_29id, survivSelMode, parentSelMode, crossOverMode, mutationMode, fitnessMode)"
   ]
  },
  {
   "cell_type": "code",
   "execution_count": 49,
   "metadata": {},
   "outputs": [
    {
     "data": {
      "text/html": [
       "<div>\n",
       "<style scoped>\n",
       "    .dataframe tbody tr th:only-of-type {\n",
       "        vertical-align: middle;\n",
       "    }\n",
       "\n",
       "    .dataframe tbody tr th {\n",
       "        vertical-align: top;\n",
       "    }\n",
       "\n",
       "    .dataframe thead th {\n",
       "        text-align: right;\n",
       "    }\n",
       "</style>\n",
       "<table border=\"1\" class=\"dataframe\">\n",
       "  <thead>\n",
       "    <tr style=\"text-align: right;\">\n",
       "      <th></th>\n",
       "      <th>oe1x</th>\n",
       "      <th>oe1xrot</th>\n",
       "      <th>oe2x</th>\n",
       "      <th>oe2xrot</th>\n",
       "      <th>oe3xrot</th>\n",
       "      <th>oe4xrot</th>\n",
       "      <th>oe5y</th>\n",
       "      <th>oe5xrot</th>\n",
       "      <th>oe5yrot</th>\n",
       "      <th>oe6y</th>\n",
       "      <th>oe6xrot</th>\n",
       "      <th>oe6yrot</th>\n",
       "      <th>fitness</th>\n",
       "      <th>ranking</th>\n",
       "      <th>probability</th>\n",
       "    </tr>\n",
       "  </thead>\n",
       "  <tbody>\n",
       "    <tr>\n",
       "      <th>0</th>\n",
       "      <td>-8.030350</td>\n",
       "      <td>0.000956</td>\n",
       "      <td>-9.136891</td>\n",
       "      <td>0.003505</td>\n",
       "      <td>-0.000479</td>\n",
       "      <td>0.003785</td>\n",
       "      <td>10.101513</td>\n",
       "      <td>0.123039</td>\n",
       "      <td>0.777452</td>\n",
       "      <td>20.724196</td>\n",
       "      <td>0.327964</td>\n",
       "      <td>-2.555541</td>\n",
       "      <td>0.0</td>\n",
       "      <td>0</td>\n",
       "      <td>0.0</td>\n",
       "    </tr>\n",
       "    <tr>\n",
       "      <th>1</th>\n",
       "      <td>2.752769</td>\n",
       "      <td>0.001836</td>\n",
       "      <td>0.920625</td>\n",
       "      <td>0.000158</td>\n",
       "      <td>-0.001490</td>\n",
       "      <td>-0.002628</td>\n",
       "      <td>-4.632740</td>\n",
       "      <td>-0.113661</td>\n",
       "      <td>1.169595</td>\n",
       "      <td>0.681830</td>\n",
       "      <td>0.050726</td>\n",
       "      <td>0.197676</td>\n",
       "      <td>0.0</td>\n",
       "      <td>0</td>\n",
       "      <td>0.0</td>\n",
       "    </tr>\n",
       "    <tr>\n",
       "      <th>2</th>\n",
       "      <td>-4.904119</td>\n",
       "      <td>-0.002258</td>\n",
       "      <td>2.617507</td>\n",
       "      <td>-0.003225</td>\n",
       "      <td>0.007613</td>\n",
       "      <td>0.005034</td>\n",
       "      <td>9.524287</td>\n",
       "      <td>-0.082389</td>\n",
       "      <td>-0.008884</td>\n",
       "      <td>14.516457</td>\n",
       "      <td>0.427365</td>\n",
       "      <td>-0.994584</td>\n",
       "      <td>0.0</td>\n",
       "      <td>0</td>\n",
       "      <td>0.0</td>\n",
       "    </tr>\n",
       "    <tr>\n",
       "      <th>3</th>\n",
       "      <td>6.510549</td>\n",
       "      <td>0.001060</td>\n",
       "      <td>-1.893244</td>\n",
       "      <td>-0.003764</td>\n",
       "      <td>-0.007037</td>\n",
       "      <td>-0.001951</td>\n",
       "      <td>-3.227305</td>\n",
       "      <td>0.006425</td>\n",
       "      <td>-0.615829</td>\n",
       "      <td>21.536369</td>\n",
       "      <td>-0.536473</td>\n",
       "      <td>2.421171</td>\n",
       "      <td>0.0</td>\n",
       "      <td>0</td>\n",
       "      <td>0.0</td>\n",
       "    </tr>\n",
       "    <tr>\n",
       "      <th>4</th>\n",
       "      <td>7.416224</td>\n",
       "      <td>-0.002505</td>\n",
       "      <td>-7.107801</td>\n",
       "      <td>0.000300</td>\n",
       "      <td>0.002584</td>\n",
       "      <td>-0.001321</td>\n",
       "      <td>16.303213</td>\n",
       "      <td>-0.073944</td>\n",
       "      <td>1.101421</td>\n",
       "      <td>7.741947</td>\n",
       "      <td>-0.504010</td>\n",
       "      <td>-1.485260</td>\n",
       "      <td>0.0</td>\n",
       "      <td>0</td>\n",
       "      <td>0.0</td>\n",
       "    </tr>\n",
       "    <tr>\n",
       "      <th>5</th>\n",
       "      <td>1.325599</td>\n",
       "      <td>0.003067</td>\n",
       "      <td>-9.142148</td>\n",
       "      <td>0.003238</td>\n",
       "      <td>-0.003153</td>\n",
       "      <td>0.007377</td>\n",
       "      <td>-14.560673</td>\n",
       "      <td>0.020992</td>\n",
       "      <td>-0.929841</td>\n",
       "      <td>-22.485603</td>\n",
       "      <td>0.286890</td>\n",
       "      <td>-2.608384</td>\n",
       "      <td>0.0</td>\n",
       "      <td>0</td>\n",
       "      <td>0.0</td>\n",
       "    </tr>\n",
       "    <tr>\n",
       "      <th>6</th>\n",
       "      <td>0.284522</td>\n",
       "      <td>0.000003</td>\n",
       "      <td>-0.675018</td>\n",
       "      <td>0.002914</td>\n",
       "      <td>-0.004688</td>\n",
       "      <td>0.002656</td>\n",
       "      <td>11.070835</td>\n",
       "      <td>0.067893</td>\n",
       "      <td>1.256108</td>\n",
       "      <td>15.266385</td>\n",
       "      <td>0.499632</td>\n",
       "      <td>-0.212267</td>\n",
       "      <td>0.0</td>\n",
       "      <td>0</td>\n",
       "      <td>0.0</td>\n",
       "    </tr>\n",
       "    <tr>\n",
       "      <th>7</th>\n",
       "      <td>-1.552171</td>\n",
       "      <td>-0.002665</td>\n",
       "      <td>-4.092960</td>\n",
       "      <td>0.001470</td>\n",
       "      <td>0.007126</td>\n",
       "      <td>-0.006462</td>\n",
       "      <td>8.609323</td>\n",
       "      <td>0.146675</td>\n",
       "      <td>0.652178</td>\n",
       "      <td>18.032109</td>\n",
       "      <td>-0.427489</td>\n",
       "      <td>1.212431</td>\n",
       "      <td>0.0</td>\n",
       "      <td>0</td>\n",
       "      <td>0.0</td>\n",
       "    </tr>\n",
       "    <tr>\n",
       "      <th>8</th>\n",
       "      <td>-2.019454</td>\n",
       "      <td>-0.003104</td>\n",
       "      <td>3.115548</td>\n",
       "      <td>-0.001177</td>\n",
       "      <td>0.006355</td>\n",
       "      <td>0.001230</td>\n",
       "      <td>-3.961000</td>\n",
       "      <td>0.061102</td>\n",
       "      <td>1.025875</td>\n",
       "      <td>0.660709</td>\n",
       "      <td>0.512959</td>\n",
       "      <td>-2.549020</td>\n",
       "      <td>0.0</td>\n",
       "      <td>0</td>\n",
       "      <td>0.0</td>\n",
       "    </tr>\n",
       "    <tr>\n",
       "      <th>9</th>\n",
       "      <td>1.940412</td>\n",
       "      <td>-0.001233</td>\n",
       "      <td>-7.424761</td>\n",
       "      <td>-0.000318</td>\n",
       "      <td>0.003549</td>\n",
       "      <td>0.001183</td>\n",
       "      <td>-5.929511</td>\n",
       "      <td>-0.000477</td>\n",
       "      <td>-0.007235</td>\n",
       "      <td>-0.536544</td>\n",
       "      <td>0.284935</td>\n",
       "      <td>-2.979522</td>\n",
       "      <td>0.0</td>\n",
       "      <td>0</td>\n",
       "      <td>0.0</td>\n",
       "    </tr>\n",
       "  </tbody>\n",
       "</table>\n",
       "</div>"
      ],
      "text/plain": [
       "       oe1x   oe1xrot      oe2x   oe2xrot   oe3xrot   oe4xrot       oe5y  \\\n",
       "0 -8.030350  0.000956 -9.136891  0.003505 -0.000479  0.003785  10.101513   \n",
       "1  2.752769  0.001836  0.920625  0.000158 -0.001490 -0.002628  -4.632740   \n",
       "2 -4.904119 -0.002258  2.617507 -0.003225  0.007613  0.005034   9.524287   \n",
       "3  6.510549  0.001060 -1.893244 -0.003764 -0.007037 -0.001951  -3.227305   \n",
       "4  7.416224 -0.002505 -7.107801  0.000300  0.002584 -0.001321  16.303213   \n",
       "5  1.325599  0.003067 -9.142148  0.003238 -0.003153  0.007377 -14.560673   \n",
       "6  0.284522  0.000003 -0.675018  0.002914 -0.004688  0.002656  11.070835   \n",
       "7 -1.552171 -0.002665 -4.092960  0.001470  0.007126 -0.006462   8.609323   \n",
       "8 -2.019454 -0.003104  3.115548 -0.001177  0.006355  0.001230  -3.961000   \n",
       "9  1.940412 -0.001233 -7.424761 -0.000318  0.003549  0.001183  -5.929511   \n",
       "\n",
       "    oe5xrot   oe5yrot       oe6y   oe6xrot   oe6yrot  fitness  ranking  \\\n",
       "0  0.123039  0.777452  20.724196  0.327964 -2.555541      0.0        0   \n",
       "1 -0.113661  1.169595   0.681830  0.050726  0.197676      0.0        0   \n",
       "2 -0.082389 -0.008884  14.516457  0.427365 -0.994584      0.0        0   \n",
       "3  0.006425 -0.615829  21.536369 -0.536473  2.421171      0.0        0   \n",
       "4 -0.073944  1.101421   7.741947 -0.504010 -1.485260      0.0        0   \n",
       "5  0.020992 -0.929841 -22.485603  0.286890 -2.608384      0.0        0   \n",
       "6  0.067893  1.256108  15.266385  0.499632 -0.212267      0.0        0   \n",
       "7  0.146675  0.652178  18.032109 -0.427489  1.212431      0.0        0   \n",
       "8  0.061102  1.025875   0.660709  0.512959 -2.549020      0.0        0   \n",
       "9 -0.000477 -0.007235  -0.536544  0.284935 -2.979522      0.0        0   \n",
       "\n",
       "   probability  \n",
       "0          0.0  \n",
       "1          0.0  \n",
       "2          0.0  \n",
       "3          0.0  \n",
       "4          0.0  \n",
       "5          0.0  \n",
       "6          0.0  \n",
       "7          0.0  \n",
       "8          0.0  \n",
       "9          0.0  "
      ]
     },
     "execution_count": 49,
     "metadata": {},
     "output_type": "execute_result"
    }
   ],
   "source": [
    "GA29id.population"
   ]
  },
  {
   "cell_type": "code",
   "execution_count": 50,
   "metadata": {},
   "outputs": [
    {
     "ename": "TypeError",
     "evalue": "shadowFitness() missing 1 required positional argument: 'beamline'",
     "output_type": "error",
     "traceback": [
      "\u001b[0;31m---------------------------------------------------------------------------\u001b[0m",
      "\u001b[0;31mTypeError\u001b[0m                                 Traceback (most recent call last)",
      "\u001b[0;32m<ipython-input-50-71bcff0a50e8>\u001b[0m in \u001b[0;36m<module>\u001b[0;34m\u001b[0m\n\u001b[0;32m----> 1\u001b[0;31m \u001b[0mGA29id\u001b[0m\u001b[0;34m.\u001b[0m\u001b[0mFirstGeneration\u001b[0m\u001b[0;34m(\u001b[0m\u001b[0;34m)\u001b[0m\u001b[0;34m\u001b[0m\u001b[0;34m\u001b[0m\u001b[0m\n\u001b[0m",
      "\u001b[0;32m~/sandbox/GA4beamlines/ga4beamlines.py\u001b[0m in \u001b[0;36mFirstGeneration\u001b[0;34m(self)\u001b[0m\n\u001b[1;32m    160\u001b[0m         \u001b[0mPrimes\u001b[0m \u001b[0mthe\u001b[0m \u001b[0malgorithm\u001b[0m\u001b[0;34m.\u001b[0m  \u001b[0mMUST\u001b[0m \u001b[0mbe\u001b[0m \u001b[0mrun\u001b[0m \u001b[0mbefore\u001b[0m \u001b[0mNextGeneration\u001b[0m\u001b[0;34m(\u001b[0m\u001b[0;34m)\u001b[0m\u001b[0;34m.\u001b[0m\u001b[0;34m\u001b[0m\u001b[0;34m\u001b[0m\u001b[0m\n\u001b[1;32m    161\u001b[0m         \"\"\"\n\u001b[0;32m--> 162\u001b[0;31m         \u001b[0mself\u001b[0m\u001b[0;34m.\u001b[0m\u001b[0m_Measure\u001b[0m\u001b[0;34m(\u001b[0m\u001b[0mchildrenOnly\u001b[0m \u001b[0;34m=\u001b[0m \u001b[0;32mFalse\u001b[0m\u001b[0;34m)\u001b[0m\u001b[0;34m\u001b[0m\u001b[0;34m\u001b[0m\u001b[0m\n\u001b[0m\u001b[1;32m    163\u001b[0m         \u001b[0mself\u001b[0m\u001b[0;34m.\u001b[0m\u001b[0m_SurvivorSel\u001b[0m\u001b[0;34m(\u001b[0m\u001b[0;34m)\u001b[0m\u001b[0;34m\u001b[0m\u001b[0;34m\u001b[0m\u001b[0m\n\u001b[1;32m    164\u001b[0m \u001b[0;34m\u001b[0m\u001b[0m\n",
      "\u001b[0;32m~/sandbox/GA4beamlines/ga4beamlines.py\u001b[0m in \u001b[0;36m_Measure\u001b[0;34m(self, childrenOnly)\u001b[0m\n\u001b[1;32m    475\u001b[0m \u001b[0;34m\u001b[0m\u001b[0m\n\u001b[1;32m    476\u001b[0m         \u001b[0;32melse\u001b[0m\u001b[0;34m:\u001b[0m\u001b[0;34m\u001b[0m\u001b[0;34m\u001b[0m\u001b[0m\n\u001b[0;32m--> 477\u001b[0;31m             \u001b[0mself\u001b[0m\u001b[0;34m.\u001b[0m\u001b[0m_FitnessFunc\u001b[0m\u001b[0;34m(\u001b[0m\u001b[0mself\u001b[0m\u001b[0;34m.\u001b[0m\u001b[0mpopulation\u001b[0m\u001b[0;34m)\u001b[0m\u001b[0;34m\u001b[0m\u001b[0;34m\u001b[0m\u001b[0m\n\u001b[0m\u001b[1;32m    478\u001b[0m \u001b[0;34m\u001b[0m\u001b[0m\n\u001b[1;32m    479\u001b[0m     \u001b[0;31m#################### INITIALIZATION HELPER FUNCTIONS ####################\u001b[0m\u001b[0;34m\u001b[0m\u001b[0;34m\u001b[0m\u001b[0;34m\u001b[0m\u001b[0m\n",
      "\u001b[0;32m~/sandbox/GA4beamlines/ga4beamlines.py\u001b[0m in \u001b[0;36m_FitnessFunc\u001b[0;34m(self, pop)\u001b[0m\n\u001b[1;32m    419\u001b[0m             \u001b[0;32mfor\u001b[0m \u001b[0mrow\u001b[0m \u001b[0;32min\u001b[0m \u001b[0mrange\u001b[0m\u001b[0;34m(\u001b[0m\u001b[0mlen\u001b[0m\u001b[0;34m(\u001b[0m\u001b[0mpop\u001b[0m\u001b[0;34m.\u001b[0m\u001b[0mindex\u001b[0m\u001b[0;34m)\u001b[0m\u001b[0;34m)\u001b[0m\u001b[0;34m:\u001b[0m\u001b[0;34m\u001b[0m\u001b[0;34m\u001b[0m\u001b[0m\n\u001b[1;32m    420\u001b[0m                 \u001b[0mvalue\u001b[0m \u001b[0;34m=\u001b[0m \u001b[0mpop\u001b[0m\u001b[0;34m.\u001b[0m\u001b[0miloc\u001b[0m\u001b[0;34m[\u001b[0m\u001b[0mrow\u001b[0m\u001b[0;34m,\u001b[0m \u001b[0;34m:\u001b[0m\u001b[0mlen\u001b[0m\u001b[0;34m(\u001b[0m\u001b[0mself\u001b[0m\u001b[0;34m.\u001b[0m\u001b[0mmotors\u001b[0m\u001b[0;34m)\u001b[0m\u001b[0;34m]\u001b[0m\u001b[0;34m.\u001b[0m\u001b[0mtolist\u001b[0m\u001b[0;34m(\u001b[0m\u001b[0;34m)\u001b[0m\u001b[0;34m\u001b[0m\u001b[0;34m\u001b[0m\u001b[0m\n\u001b[0;32m--> 421\u001b[0;31m                 \u001b[0mvalue\u001b[0m \u001b[0;34m=\u001b[0m \u001b[0mself\u001b[0m\u001b[0;34m.\u001b[0m\u001b[0mfitness\u001b[0m\u001b[0;34m[\u001b[0m\u001b[0;34m\"name\"\u001b[0m\u001b[0;34m]\u001b[0m\u001b[0;34m(\u001b[0m\u001b[0mvalue\u001b[0m\u001b[0;34m)\u001b[0m\u001b[0;34m\u001b[0m\u001b[0;34m\u001b[0m\u001b[0m\n\u001b[0m\u001b[1;32m    422\u001b[0m                 \u001b[0mtmpFit\u001b[0m\u001b[0;34m.\u001b[0m\u001b[0mappend\u001b[0m\u001b[0;34m(\u001b[0m\u001b[0mvalue\u001b[0m\u001b[0;34m)\u001b[0m\u001b[0;34m\u001b[0m\u001b[0;34m\u001b[0m\u001b[0m\n\u001b[1;32m    423\u001b[0m \u001b[0;34m\u001b[0m\u001b[0m\n",
      "\u001b[0;31mTypeError\u001b[0m: shadowFitness() missing 1 required positional argument: 'beamline'"
     ]
    }
   ],
   "source": [
    "GA29id.FirstGeneration()"
   ]
  },
  {
   "cell_type": "code",
   "execution_count": 52,
   "metadata": {},
   "outputs": [
    {
     "ename": "SyntaxError",
     "evalue": "can't use starred expression here (<ipython-input-52-e6063ee9fe5e>, line 4)",
     "output_type": "error",
     "traceback": [
      "\u001b[0;36m  File \u001b[0;32m\"<ipython-input-52-e6063ee9fe5e>\"\u001b[0;36m, line \u001b[0;32m4\u001b[0m\n\u001b[0;31mSyntaxError\u001b[0m\u001b[0;31m:\u001b[0m can't use starred expression here\n"
     ]
    }
   ],
   "source": []
  },
  {
   "cell_type": "markdown",
   "metadata": {},
   "source": [
    "## GA vs Surrogate\n",
    "\n",
    "First need to import scaling and model"
   ]
  },
  {
   "cell_type": "code",
   "execution_count": null,
   "metadata": {},
   "outputs": [],
   "source": [
    "#import scaling\n",
    "input_fn = 'IEX_100k_04w.pkl'\n",
    "\n",
    "scaling_fn = input_fn.split('.')[0]+'_scaling.pkl'\n",
    "with open(scaling_fn, 'rb') as f:\n",
    "    scaling = pickle.load(f)"
   ]
  },
  {
   "cell_type": "code",
   "execution_count": null,
   "metadata": {},
   "outputs": [],
   "source": [
    "#import model\n",
    "nn_fn = input_fn.split('.')[0]+'_NN_results.pkl'\n",
    "with open(nn_fn, 'rb') as f:\n",
    "    result = pickle.load(f)"
   ]
  },
  {
   "cell_type": "markdown",
   "metadata": {},
   "source": [
    "Need to create fitness function based on surrogate NN output"
   ]
  },
  {
   "cell_type": "code",
   "execution_count": null,
   "metadata": {},
   "outputs": [],
   "source": [
    "def surrogateNNFitness(x, surrogate_model):\n",
    "    '''\n",
    "        x                  : array of positions that is the expected input for the surrogate model\n",
    "        surrogate_model    : trained pyTorch model\n",
    "    '''\n",
    "    \n",
    "    x_pd = pd.DataFrame(x, columns=['oe1x','oe1xrot','oe2x','oe2xrot','oe3xrot','oe4xrot','oe5y','oe5xrot','oe5yrot','oe6y','oe6xrot','oe6yrot',])\n",
    "    xFeatures = scaling.transform(x_pd)\n",
    "    xFeatures = pd.DataFrame(xFeatures, columns=x_pd.columns)\n",
    "\n",
    "    x_tensor = torch.tensor(xFeatures.values) \n",
    "    \n",
    "    model = surrogate_model\n",
    "    device = torch.device('cpu')\n",
    "    tt.to_device(model, device)\n",
    "\n",
    "    fitness = model(tt.to_device(x_tensor.float(), device))\n",
    "    \n",
    "    return fitness\n",
    "    "
   ]
  },
  {
   "cell_type": "code",
   "execution_count": null,
   "metadata": {},
   "outputs": [],
   "source": [
    "surrogateNNFitness(test_pos, result[4]['model'])"
   ]
  },
  {
   "cell_type": "code",
   "execution_count": null,
   "metadata": {},
   "outputs": [],
   "source": [
    "fitnessMode = {\"type\": \"Func\", \"name\": surrogateNNFitness}"
   ]
  }
 ],
 "metadata": {
  "kernelspec": {
   "display_name": "Python 3",
   "language": "python",
   "name": "python3"
  },
  "language_info": {
   "codemirror_mode": {
    "name": "ipython",
    "version": 3
   },
   "file_extension": ".py",
   "mimetype": "text/x-python",
   "name": "python",
   "nbconvert_exporter": "python",
   "pygments_lexer": "ipython3",
   "version": "3.7.4"
  }
 },
 "nbformat": 4,
 "nbformat_minor": 4
}
