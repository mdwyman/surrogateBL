{
 "cells": [
  {
   "cell_type": "code",
   "execution_count": 1,
   "metadata": {},
   "outputs": [],
   "source": [
    "from epics import PV"
   ]
  },
  {
   "cell_type": "code",
   "execution_count": 2,
   "metadata": {},
   "outputs": [],
   "source": [
    "import matplotlib.pyplot as plt\n",
    "import numpy as np\n",
    "import pandas as pd"
   ]
  },
  {
   "cell_type": "code",
   "execution_count": 3,
   "metadata": {},
   "outputs": [],
   "source": [
    "prefix = '100idWYM'\n",
    "motor_list = ['m1', 'm2', 'm3', 'm4', 'm5']\n",
    "pv_list = [':'.join([prefix,motor]) for motor in motor_list]"
   ]
  },
  {
   "cell_type": "code",
   "execution_count": 4,
   "metadata": {},
   "outputs": [],
   "source": [
    "motors = [PV(motor_pv) for motor_pv in pv_list]"
   ]
  },
  {
   "cell_type": "markdown",
   "metadata": {},
   "source": [
    "### AD NDSA/pyepics notes\n",
    "\n",
    "pyepics callback on Acquire attr\n",
    "\n",
    "attr = ['Acquire','ImageMode','NumImages', 'NDimensions', 'AppendMode', 'CallbackMode','NewArray,'ArrayComplete']\n",
    "\n",
    "read-only: ImageMode, NumImages,  \n",
    "\n",
    "read-write: Acquire, NDimensions (and array size?),\n",
    "\n",
    "write: NewArray, ArrayComplete (would this be after each image in multiple/continuous or after all are complete?)\n",
    "\n",
    "constants: AppendMode (should be disabled)\n",
    "\t   CallbackMode (either on update or on complete)"
   ]
  },
  {
   "cell_type": "code",
   "execution_count": 5,
   "metadata": {},
   "outputs": [],
   "source": [
    "from epics.device import Device\n",
    "\n",
    "class AD_NDSA(Device):\n",
    "    \"\"\"\n",
    "    Basic AreaDetector Camera Device\n",
    "    \"\"\"\n",
    "    attrs = (\"Acquire\", \"AcquirePeriod\", \"AcquirePeriod_RBV\",\n",
    "             \"AcquireTime\", \"AcquireTime_RBV\",\n",
    "             \"ArrayCallbacks\", \"ArrayCallbacks_RBV\",\n",
    "             \"ArrayComplete\",\n",
    "             \"ArrayCounter\", \"ArrayCounter_RBV\", \"ArrayRate_RBV\",\n",
    "             \"ArraySizeX_RBV\", \"ArraySizeY_RBV\", \"ArraySize_RBV\",\n",
    "             \"AppendMode\",\n",
    "             \"BinX\", \"BinX_RBV\", \"BinY\", \"BinY_RBV\",\n",
    "             \"CallbackMode\",\n",
    "             \"ColorMode\", \"ColorMode_RBV\",\n",
    "             \"DataType\", \"DataType_RBV\", \"DetectorState_RBV\",\n",
    "             \"Dimensions\",\n",
    "             \"Gain\", \"Gain_RBV\", \"ImageMode\", \"ImageMode_RBV\",\n",
    "             \"MaxSizeX_RBV\", \"MaxSizeY_RBV\",\n",
    "             \"MinX\", \"MinX_RBV\", \"MinY\", \"MinY_RBV\", \n",
    "             \"NewArray\", \"NDimensions\",\n",
    "             \"NumImages\", \"NumImagesCounter_RBV\", \"NumImages_RBV\",\n",
    "             \"SizeX\", \"SizeX_RBV\", \"SizeY\", \"SizeY_RBV\",\n",
    "             \"TimeRemaining_RBV\",\n",
    "             \"TriggerMode\", \"TriggerMode_RBV\", \"TriggerSoftware\")\n",
    "\n",
    "\n",
    "    _nonpvs = ('_prefix', '_pvs', '_delim')\n",
    "\n",
    "    def __init__(self, prefix):\n",
    "        Device.__init__(self, prefix, delim='', mutable=False,\n",
    "                              attrs=self.attrs)\n",
    "\n",
    "    def ensure_value(self, attr, value, wait=False):\n",
    "        \"\"\"ensures that an attribute with an associated _RBV value is\n",
    "        set to the specifed value\n",
    "        \"\"\"\n",
    "        rbv_attr = \"%s_RBV\" % attr\n",
    "        if rbv_attr not in self._pvs:\n",
    "            return self._pvs[attr].put(value, wait=wait)\n",
    "\n",
    "        if  self._pvs[rbv_attr].get(as_string=True) != value:\n",
    "            self._pvs[attr].put(value, wait=wait)"
   ]
  },
  {
   "cell_type": "code",
   "execution_count": 6,
   "metadata": {},
   "outputs": [],
   "source": [
    "ndsa = AD_NDSA(\"100idWYM:ndsa:cam1:\")"
   ]
  },
  {
   "cell_type": "code",
   "execution_count": 7,
   "metadata": {},
   "outputs": [],
   "source": [
    "xSize = 1001\n",
    "ySize = 1001"
   ]
  },
  {
   "cell_type": "code",
   "execution_count": 8,
   "metadata": {},
   "outputs": [
    {
     "data": {
      "text/plain": [
       "1"
      ]
     },
     "execution_count": 8,
     "metadata": {},
     "output_type": "execute_result"
    }
   ],
   "source": [
    "ndsa.put(\"NDimensions\", 2)\n",
    "ndsa.put(\"Dimensions\", [xSize,ySize])"
   ]
  },
  {
   "cell_type": "code",
   "execution_count": 9,
   "metadata": {},
   "outputs": [],
   "source": [
    "def triggered(pvname = None, value = None, **kw):\n",
    "    if value == 0:\n",
    "        print('Acquisition stopped')\n",
    "    elif value == 1:\n",
    "        print('Acquistion started')\n",
    "    else:\n",
    "        print('Acquisition state indeterminate')\n",
    "        "
   ]
  },
  {
   "cell_type": "code",
   "execution_count": 10,
   "metadata": {},
   "outputs": [
    {
     "data": {
      "text/plain": [
       "1"
      ]
     },
     "execution_count": 10,
     "metadata": {},
     "output_type": "execute_result"
    },
    {
     "name": "stdout",
     "output_type": "stream",
     "text": [
      "Acquistion started\n",
      "Acquisition stopped\n"
     ]
    }
   ],
   "source": [
    "ndsa.add_callback('Acquire',triggered)"
   ]
  },
  {
   "cell_type": "code",
   "execution_count": 11,
   "metadata": {},
   "outputs": [],
   "source": [
    "ndsa.remove_callbacks(\"Acquire\", index = 1)"
   ]
  },
  {
   "cell_type": "code",
   "execution_count": 12,
   "metadata": {},
   "outputs": [],
   "source": [
    "def gaus2d(x, y, mx=0, my=0, sx=1, sy=1, scale = 1):\n",
    "    return scale * 1. / (2. * np.pi * sx * sy) * np.exp(-((x - mx)**2. / (2. * sx**2.) + (y - my)**2. / (2. * sy**2.)))\n",
    "    \n",
    "    \n",
    "def gausImage(size_x = 1000, size_y = 1000, num = 1001, \n",
    "              x_center = 600, y_center = 300, \n",
    "              x_sigma = 100,  y_sigma = 300,\n",
    "             scale = 1):\n",
    "\n",
    "    x = np.linspace(0,size_x, num = num)\n",
    "    y = np.linspace(0,size_y, num = num)\n",
    "  \n",
    "    x, y = np.meshgrid(x, y) # get 2D variables instead of 1D\n",
    "\n",
    "    return gaus2d(x, y, mx=x_center, my=y_center, sx=x_sigma, sy=y_sigma, scale = scale)"
   ]
  },
  {
   "cell_type": "code",
   "execution_count": 13,
   "metadata": {},
   "outputs": [
    {
     "ename": "ModuleNotFoundError",
     "evalue": "No module named 'ipympl'",
     "output_type": "error",
     "traceback": [
      "\u001b[0;31m---------------------------------------------------------------------------\u001b[0m",
      "\u001b[0;31mModuleNotFoundError\u001b[0m                       Traceback (most recent call last)",
      "Input \u001b[0;32mIn [13]\u001b[0m, in \u001b[0;36m<cell line: 1>\u001b[0;34m()\u001b[0m\n\u001b[0;32m----> 1\u001b[0m \u001b[43mget_ipython\u001b[49m\u001b[43m(\u001b[49m\u001b[43m)\u001b[49m\u001b[38;5;241;43m.\u001b[39;49m\u001b[43mrun_line_magic\u001b[49m\u001b[43m(\u001b[49m\u001b[38;5;124;43m'\u001b[39;49m\u001b[38;5;124;43mmatplotlib\u001b[39;49m\u001b[38;5;124;43m'\u001b[39;49m\u001b[43m,\u001b[49m\u001b[43m \u001b[49m\u001b[38;5;124;43m'\u001b[39;49m\u001b[38;5;124;43mwidget\u001b[39;49m\u001b[38;5;124;43m'\u001b[39;49m\u001b[43m)\u001b[49m\n",
      "File \u001b[0;32m/APSshare/anaconda3/x86_64/lib/python3.9/site-packages/IPython/core/interactiveshell.py:2294\u001b[0m, in \u001b[0;36mInteractiveShell.run_line_magic\u001b[0;34m(self, magic_name, line, _stack_depth)\u001b[0m\n\u001b[1;32m   2292\u001b[0m     kwargs[\u001b[38;5;124m'\u001b[39m\u001b[38;5;124mlocal_ns\u001b[39m\u001b[38;5;124m'\u001b[39m] \u001b[38;5;241m=\u001b[39m \u001b[38;5;28mself\u001b[39m\u001b[38;5;241m.\u001b[39mget_local_scope(stack_depth)\n\u001b[1;32m   2293\u001b[0m \u001b[38;5;28;01mwith\u001b[39;00m \u001b[38;5;28mself\u001b[39m\u001b[38;5;241m.\u001b[39mbuiltin_trap:\n\u001b[0;32m-> 2294\u001b[0m     result \u001b[38;5;241m=\u001b[39m \u001b[43mfn\u001b[49m\u001b[43m(\u001b[49m\u001b[38;5;241;43m*\u001b[39;49m\u001b[43margs\u001b[49m\u001b[43m,\u001b[49m\u001b[43m \u001b[49m\u001b[38;5;241;43m*\u001b[39;49m\u001b[38;5;241;43m*\u001b[39;49m\u001b[43mkwargs\u001b[49m\u001b[43m)\u001b[49m\n\u001b[1;32m   2295\u001b[0m \u001b[38;5;28;01mreturn\u001b[39;00m result\n",
      "File \u001b[0;32m/APSshare/anaconda3/x86_64/lib/python3.9/site-packages/IPython/core/magics/pylab.py:99\u001b[0m, in \u001b[0;36mPylabMagics.matplotlib\u001b[0;34m(self, line)\u001b[0m\n\u001b[1;32m     97\u001b[0m     \u001b[38;5;28mprint\u001b[39m(\u001b[38;5;124m\"\u001b[39m\u001b[38;5;124mAvailable matplotlib backends: \u001b[39m\u001b[38;5;132;01m%s\u001b[39;00m\u001b[38;5;124m\"\u001b[39m \u001b[38;5;241m%\u001b[39m backends_list)\n\u001b[1;32m     98\u001b[0m \u001b[38;5;28;01melse\u001b[39;00m:\n\u001b[0;32m---> 99\u001b[0m     gui, backend \u001b[38;5;241m=\u001b[39m \u001b[38;5;28;43mself\u001b[39;49m\u001b[38;5;241;43m.\u001b[39;49m\u001b[43mshell\u001b[49m\u001b[38;5;241;43m.\u001b[39;49m\u001b[43menable_matplotlib\u001b[49m\u001b[43m(\u001b[49m\u001b[43margs\u001b[49m\u001b[38;5;241;43m.\u001b[39;49m\u001b[43mgui\u001b[49m\u001b[38;5;241;43m.\u001b[39;49m\u001b[43mlower\u001b[49m\u001b[43m(\u001b[49m\u001b[43m)\u001b[49m\u001b[43m \u001b[49m\u001b[38;5;28;43;01mif\u001b[39;49;00m\u001b[43m \u001b[49m\u001b[38;5;28;43misinstance\u001b[39;49m\u001b[43m(\u001b[49m\u001b[43margs\u001b[49m\u001b[38;5;241;43m.\u001b[39;49m\u001b[43mgui\u001b[49m\u001b[43m,\u001b[49m\u001b[43m \u001b[49m\u001b[38;5;28;43mstr\u001b[39;49m\u001b[43m)\u001b[49m\u001b[43m \u001b[49m\u001b[38;5;28;43;01melse\u001b[39;49;00m\u001b[43m \u001b[49m\u001b[43margs\u001b[49m\u001b[38;5;241;43m.\u001b[39;49m\u001b[43mgui\u001b[49m\u001b[43m)\u001b[49m\n\u001b[1;32m    100\u001b[0m     \u001b[38;5;28mself\u001b[39m\u001b[38;5;241m.\u001b[39m_show_matplotlib_backend(args\u001b[38;5;241m.\u001b[39mgui, backend)\n",
      "File \u001b[0;32m/APSshare/anaconda3/x86_64/lib/python3.9/site-packages/IPython/core/interactiveshell.py:3459\u001b[0m, in \u001b[0;36mInteractiveShell.enable_matplotlib\u001b[0;34m(self, gui)\u001b[0m\n\u001b[1;32m   3455\u001b[0m         \u001b[38;5;28mprint\u001b[39m(\u001b[38;5;124m'\u001b[39m\u001b[38;5;124mWarning: Cannot change to a different GUI toolkit: \u001b[39m\u001b[38;5;132;01m%s\u001b[39;00m\u001b[38;5;124m.\u001b[39m\u001b[38;5;124m'\u001b[39m\n\u001b[1;32m   3456\u001b[0m                 \u001b[38;5;124m'\u001b[39m\u001b[38;5;124m Using \u001b[39m\u001b[38;5;132;01m%s\u001b[39;00m\u001b[38;5;124m instead.\u001b[39m\u001b[38;5;124m'\u001b[39m \u001b[38;5;241m%\u001b[39m (gui, \u001b[38;5;28mself\u001b[39m\u001b[38;5;241m.\u001b[39mpylab_gui_select))\n\u001b[1;32m   3457\u001b[0m         gui, backend \u001b[38;5;241m=\u001b[39m pt\u001b[38;5;241m.\u001b[39mfind_gui_and_backend(\u001b[38;5;28mself\u001b[39m\u001b[38;5;241m.\u001b[39mpylab_gui_select)\n\u001b[0;32m-> 3459\u001b[0m \u001b[43mpt\u001b[49m\u001b[38;5;241;43m.\u001b[39;49m\u001b[43mactivate_matplotlib\u001b[49m\u001b[43m(\u001b[49m\u001b[43mbackend\u001b[49m\u001b[43m)\u001b[49m\n\u001b[1;32m   3460\u001b[0m configure_inline_support(\u001b[38;5;28mself\u001b[39m, backend)\n\u001b[1;32m   3462\u001b[0m \u001b[38;5;66;03m# Now we must activate the gui pylab wants to use, and fix %run to take\u001b[39;00m\n\u001b[1;32m   3463\u001b[0m \u001b[38;5;66;03m# plot updates into account\u001b[39;00m\n",
      "File \u001b[0;32m/APSshare/anaconda3/x86_64/lib/python3.9/site-packages/IPython/core/pylabtools.py:359\u001b[0m, in \u001b[0;36mactivate_matplotlib\u001b[0;34m(backend)\u001b[0m\n\u001b[1;32m    354\u001b[0m \u001b[38;5;66;03m# Due to circular imports, pyplot may be only partially initialised\u001b[39;00m\n\u001b[1;32m    355\u001b[0m \u001b[38;5;66;03m# when this function runs.\u001b[39;00m\n\u001b[1;32m    356\u001b[0m \u001b[38;5;66;03m# So avoid needing matplotlib attribute-lookup to access pyplot.\u001b[39;00m\n\u001b[1;32m    357\u001b[0m \u001b[38;5;28;01mfrom\u001b[39;00m \u001b[38;5;21;01mmatplotlib\u001b[39;00m \u001b[38;5;28;01mimport\u001b[39;00m pyplot \u001b[38;5;28;01mas\u001b[39;00m plt\n\u001b[0;32m--> 359\u001b[0m \u001b[43mplt\u001b[49m\u001b[38;5;241;43m.\u001b[39;49m\u001b[43mswitch_backend\u001b[49m\u001b[43m(\u001b[49m\u001b[43mbackend\u001b[49m\u001b[43m)\u001b[49m\n\u001b[1;32m    361\u001b[0m plt\u001b[38;5;241m.\u001b[39mshow\u001b[38;5;241m.\u001b[39m_needmain \u001b[38;5;241m=\u001b[39m \u001b[38;5;28;01mFalse\u001b[39;00m\n\u001b[1;32m    362\u001b[0m \u001b[38;5;66;03m# We need to detect at runtime whether show() is called by the user.\u001b[39;00m\n\u001b[1;32m    363\u001b[0m \u001b[38;5;66;03m# For this, we wrap it into a decorator which adds a 'called' flag.\u001b[39;00m\n",
      "File \u001b[0;32m/APSshare/anaconda3/x86_64/lib/python3.9/site-packages/matplotlib/pyplot.py:267\u001b[0m, in \u001b[0;36mswitch_backend\u001b[0;34m(newbackend)\u001b[0m\n\u001b[1;32m    260\u001b[0m \u001b[38;5;66;03m# Backends are implemented as modules, but \"inherit\" default method\u001b[39;00m\n\u001b[1;32m    261\u001b[0m \u001b[38;5;66;03m# implementations from backend_bases._Backend.  This is achieved by\u001b[39;00m\n\u001b[1;32m    262\u001b[0m \u001b[38;5;66;03m# creating a \"class\" that inherits from backend_bases._Backend and whose\u001b[39;00m\n\u001b[1;32m    263\u001b[0m \u001b[38;5;66;03m# body is filled with the module's globals.\u001b[39;00m\n\u001b[1;32m    265\u001b[0m backend_name \u001b[38;5;241m=\u001b[39m cbook\u001b[38;5;241m.\u001b[39m_backend_module_name(newbackend)\n\u001b[0;32m--> 267\u001b[0m \u001b[38;5;28;01mclass\u001b[39;00m \u001b[38;5;21;01mbackend_mod\u001b[39;00m(matplotlib\u001b[38;5;241m.\u001b[39mbackend_bases\u001b[38;5;241m.\u001b[39m_Backend):\n\u001b[1;32m    268\u001b[0m     \u001b[38;5;28mlocals\u001b[39m()\u001b[38;5;241m.\u001b[39mupdate(\u001b[38;5;28mvars\u001b[39m(importlib\u001b[38;5;241m.\u001b[39mimport_module(backend_name)))\n\u001b[1;32m    270\u001b[0m required_framework \u001b[38;5;241m=\u001b[39m _get_required_interactive_framework(backend_mod)\n",
      "File \u001b[0;32m/APSshare/anaconda3/x86_64/lib/python3.9/site-packages/matplotlib/pyplot.py:268\u001b[0m, in \u001b[0;36mswitch_backend.<locals>.backend_mod\u001b[0;34m()\u001b[0m\n\u001b[1;32m    267\u001b[0m \u001b[38;5;28;01mclass\u001b[39;00m \u001b[38;5;21;01mbackend_mod\u001b[39;00m(matplotlib\u001b[38;5;241m.\u001b[39mbackend_bases\u001b[38;5;241m.\u001b[39m_Backend):\n\u001b[0;32m--> 268\u001b[0m     \u001b[38;5;28mlocals\u001b[39m()\u001b[38;5;241m.\u001b[39mupdate(\u001b[38;5;28mvars\u001b[39m(\u001b[43mimportlib\u001b[49m\u001b[38;5;241;43m.\u001b[39;49m\u001b[43mimport_module\u001b[49m\u001b[43m(\u001b[49m\u001b[43mbackend_name\u001b[49m\u001b[43m)\u001b[49m))\n",
      "File \u001b[0;32m/APSshare/anaconda3/x86_64/lib/python3.9/importlib/__init__.py:127\u001b[0m, in \u001b[0;36mimport_module\u001b[0;34m(name, package)\u001b[0m\n\u001b[1;32m    125\u001b[0m             \u001b[38;5;28;01mbreak\u001b[39;00m\n\u001b[1;32m    126\u001b[0m         level \u001b[38;5;241m+\u001b[39m\u001b[38;5;241m=\u001b[39m \u001b[38;5;241m1\u001b[39m\n\u001b[0;32m--> 127\u001b[0m \u001b[38;5;28;01mreturn\u001b[39;00m \u001b[43m_bootstrap\u001b[49m\u001b[38;5;241;43m.\u001b[39;49m\u001b[43m_gcd_import\u001b[49m\u001b[43m(\u001b[49m\u001b[43mname\u001b[49m\u001b[43m[\u001b[49m\u001b[43mlevel\u001b[49m\u001b[43m:\u001b[49m\u001b[43m]\u001b[49m\u001b[43m,\u001b[49m\u001b[43m \u001b[49m\u001b[43mpackage\u001b[49m\u001b[43m,\u001b[49m\u001b[43m \u001b[49m\u001b[43mlevel\u001b[49m\u001b[43m)\u001b[49m\n",
      "File \u001b[0;32m<frozen importlib._bootstrap>:1030\u001b[0m, in \u001b[0;36m_gcd_import\u001b[0;34m(name, package, level)\u001b[0m\n",
      "File \u001b[0;32m<frozen importlib._bootstrap>:1007\u001b[0m, in \u001b[0;36m_find_and_load\u001b[0;34m(name, import_)\u001b[0m\n",
      "File \u001b[0;32m<frozen importlib._bootstrap>:972\u001b[0m, in \u001b[0;36m_find_and_load_unlocked\u001b[0;34m(name, import_)\u001b[0m\n",
      "File \u001b[0;32m<frozen importlib._bootstrap>:228\u001b[0m, in \u001b[0;36m_call_with_frames_removed\u001b[0;34m(f, *args, **kwds)\u001b[0m\n",
      "File \u001b[0;32m<frozen importlib._bootstrap>:1030\u001b[0m, in \u001b[0;36m_gcd_import\u001b[0;34m(name, package, level)\u001b[0m\n",
      "File \u001b[0;32m<frozen importlib._bootstrap>:1007\u001b[0m, in \u001b[0;36m_find_and_load\u001b[0;34m(name, import_)\u001b[0m\n",
      "File \u001b[0;32m<frozen importlib._bootstrap>:984\u001b[0m, in \u001b[0;36m_find_and_load_unlocked\u001b[0;34m(name, import_)\u001b[0m\n",
      "\u001b[0;31mModuleNotFoundError\u001b[0m: No module named 'ipympl'"
     ]
    }
   ],
   "source": [
    "%matplotlib widget"
   ]
  },
  {
   "cell_type": "code",
   "execution_count": 14,
   "metadata": {},
   "outputs": [],
   "source": [
    "img = gausImage(x_center = 500, y_center = 500, scale = 1e7)"
   ]
  },
  {
   "cell_type": "code",
   "execution_count": 15,
   "metadata": {},
   "outputs": [
    {
     "data": {
      "image/png": "[encoded data removed]",
      "text/plain": [
       "<Figure size 864x576 with 6 Axes>"
      ]
     },
     "metadata": {
      "needs_background": "light"
     },
     "output_type": "display_data"
    }
   ],
   "source": [
    "cmaps = ['viridis', 'plasma', 'inferno', 'magma', 'cividis','hot']\n",
    "\n",
    "fig, axs = plt.subplots(2,3, figsize = (12,8))\n",
    "ax_flat = axs.flatten()"
   ]
  },
  {
   "cell_type": "code",
   "execution_count": 16,
   "metadata": {},
   "outputs": [
    {
     "name": "stdout",
     "output_type": "stream",
     "text": [
      "viridis\n",
      "(1001, 1001)\n",
      "plasma\n",
      "(1001, 1001)\n",
      "inferno\n",
      "(1001, 1001)\n",
      "magma\n",
      "(1001, 1001)\n",
      "cividis\n",
      "(1001, 1001)\n",
      "hot\n",
      "(1001, 1001)\n"
     ]
    }
   ],
   "source": [
    "for ax, cmap in zip(ax_flat, cmaps):\n",
    "    print(cmap)\n",
    "    print(img.shape)\n",
    "    ax.imshow(img, cmap = cmap)\n",
    "    ax.set_title(cmap)"
   ]
  },
  {
   "cell_type": "code",
   "execution_count": 17,
   "metadata": {},
   "outputs": [
    {
     "name": "stdout",
     "output_type": "stream",
     "text": [
      "53\n"
     ]
    }
   ],
   "source": [
    "imgf = img.astype(int)\n",
    "print(np.max(imgf))"
   ]
  },
  {
   "cell_type": "code",
   "execution_count": 18,
   "metadata": {},
   "outputs": [
    {
     "data": {
      "text/plain": [
       "1"
      ]
     },
     "execution_count": 18,
     "metadata": {},
     "output_type": "execute_result"
    }
   ],
   "source": [
    "# Manually set acquire\n",
    "ndsa.put(\"Acquire\", 1)\n",
    "ndsa.put(\"NewArray\", 1)\n",
    "\n",
    "# Manually stuff array into ArrayIn\n",
    "ndsa.put(\"ArrayIn\", imgf.flatten())\n",
    "\n",
    "# Do I need to set sizes beforehand?\n",
    "ndsa.put(\"Acquire\", 0)\n",
    "ndsa.put(\"ArrayComplete\", 1)\n",
    "\n"
   ]
  },
  {
   "cell_type": "code",
   "execution_count": 37,
   "metadata": {},
   "outputs": [
    {
     "data": {
      "text/plain": [
       "(1001, 1001)"
      ]
     },
     "execution_count": 37,
     "metadata": {},
     "output_type": "execute_result"
    }
   ],
   "source": [
    "img.shape"
   ]
  },
  {
   "cell_type": "code",
   "execution_count": 38,
   "metadata": {},
   "outputs": [
    {
     "data": {
      "text/plain": [
       "(1002001,)"
      ]
     },
     "execution_count": 38,
     "metadata": {},
     "output_type": "execute_result"
    }
   ],
   "source": [
    "imgf.flatten().shape"
   ]
  },
  {
   "cell_type": "code",
   "execution_count": 117,
   "metadata": {},
   "outputs": [
    {
     "data": {
      "text/plain": [
       "53.05164769729845"
      ]
     },
     "execution_count": 117,
     "metadata": {},
     "output_type": "execute_result"
    },
    {
     "name": "stdout",
     "output_type": "stream",
     "text": [
      "Acquisition started\n",
      "Acquisition stopped\n"
     ]
    }
   ],
   "source": [
    "np.max(img)"
   ]
  },
  {
   "cell_type": "code",
   "execution_count": null,
   "metadata": {},
   "outputs": [],
   "source": []
  },
  {
   "cell_type": "code",
   "execution_count": 19,
   "metadata": {},
   "outputs": [],
   "source": [
    "import random"
   ]
  },
  {
   "cell_type": "code",
   "execution_count": 20,
   "metadata": {},
   "outputs": [
    {
     "data": {
      "text/plain": [
       "395"
      ]
     },
     "execution_count": 20,
     "metadata": {},
     "output_type": "execute_result"
    }
   ],
   "source": [
    "random.randint(200,500)"
   ]
  },
  {
   "cell_type": "code",
   "execution_count": null,
   "metadata": {},
   "outputs": [],
   "source": []
  },
  {
   "cell_type": "code",
   "execution_count": 21,
   "metadata": {},
   "outputs": [],
   "source": [
    "def produce_image(pvname = None, value = None, **kw):\n",
    "    if value == 0:\n",
    "        print('Acquisition stopped')\n",
    "    elif value == 1:\n",
    "        print('Acquisition started')\n",
    "        \n",
    "        # put in single mode (TODO workout multiple and continuous later)\n",
    "        # ndsa.put(\"ImageMode\", 0)\n",
    "        \n",
    "        # set new array to 1\n",
    "        ndsa.put('NewArray', 1)\n",
    "        \n",
    "        # call function for creating image array -- for now just singles\n",
    "        # image = surrogateBL()\n",
    "        # flattend_image = image.flatten?\n",
    "        img = gausImage(x_center = random.randint(700,800), y_center = random.randint(300,400), scale = 1e7)\n",
    "        imgf = img.astype(int)\n",
    "        \n",
    "        # put array in ndsa:ArrayIn\n",
    "        ndsa.put('ArrayIn', imgf.flatten())        \n",
    "        \n",
    "        # set array complete to 1\n",
    "        ndsa.put('ArrayComplete', 1)\n",
    "        \n",
    "        # end acquisition\n",
    "        ndsa.put('Acquire', 0)\n",
    "        \n",
    "       \n",
    "        \n",
    "        print('Acquisition complete')\n",
    "    else:\n",
    "        print('Acquisition state indeterminate')"
   ]
  },
  {
   "cell_type": "code",
   "execution_count": 22,
   "metadata": {},
   "outputs": [
    {
     "data": {
      "text/plain": [
       "1"
      ]
     },
     "execution_count": 22,
     "metadata": {},
     "output_type": "execute_result"
    },
    {
     "name": "stdout",
     "output_type": "stream",
     "text": [
      "Acquisition started\n",
      "Acquisition complete\n",
      "Acquisition stopped\n",
      "Acquisition started\n",
      "Acquisition complete\n",
      "Acquisition stopped\n",
      "Acquisition started\n",
      "Acquisition complete\n",
      "Acquisition stopped\n",
      "Acquisition started\n",
      "Acquisition complete\n",
      "Acquisition stopped\n",
      "Acquisition started\n",
      "Acquisition complete\n",
      "Acquisition stopped\n",
      "Acquisition started\n",
      "Acquisition complete\n",
      "Acquisition stopped\n",
      "Acquisition started\n",
      "Acquisition complete\n",
      "Acquisition stopped\n",
      "Acquisition started\n",
      "Acquisition complete\n",
      "Acquisition stopped\n",
      "Acquisition started\n",
      "Acquisition complete\n",
      "Acquisition stopped\n",
      "Acquisition started\n",
      "Acquisition complete\n",
      "Acquisition stopped\n",
      "Acquisition started\n",
      "Acquisition complete\n",
      "Acquisition stopped\n",
      "Acquisition started\n",
      "Acquisition complete\n",
      "Acquisition stopped\n"
     ]
    }
   ],
   "source": [
    "ndsa.add_callback('Acquire',produce_image)"
   ]
  },
  {
   "cell_type": "code",
   "execution_count": 23,
   "metadata": {},
   "outputs": [],
   "source": [
    "ndsa.remove_callbacks(\"Acquire\", index = 1)"
   ]
  },
  {
   "cell_type": "code",
   "execution_count": 24,
   "metadata": {},
   "outputs": [
    {
     "data": {
      "text/plain": [
       "[<PV '100idWYM:m1', count=1, type=time_double, access=read/write>,\n",
       " <PV '100idWYM:m2', count=1, type=time_double, access=read/write>,\n",
       " <PV '100idWYM:m3', count=1, type=time_double, access=read/write>,\n",
       " <PV '100idWYM:m4', count=1, type=time_double, access=read/write>,\n",
       " <PV '100idWYM:m5', count=1, type=time_double, access=read/write>]"
      ]
     },
     "execution_count": 24,
     "metadata": {},
     "output_type": "execute_result"
    }
   ],
   "source": [
    "motors"
   ]
  },
  {
   "cell_type": "code",
   "execution_count": 25,
   "metadata": {},
   "outputs": [
    {
     "name": "stdout",
     "output_type": "stream",
     "text": [
      "0.0\n",
      "10.0\n",
      "0.0\n",
      "20.0\n",
      "10.0\n"
     ]
    }
   ],
   "source": [
    "for m in motors:\n",
    "    print(m.get())"
   ]
  },
  {
   "cell_type": "code",
   "execution_count": 26,
   "metadata": {},
   "outputs": [
    {
     "data": {
      "image/png": "[encoded data removed]",
      "text/plain": [
       "<Figure size 432x288 with 1 Axes>"
      ]
     },
     "metadata": {
      "needs_background": "light"
     },
     "output_type": "display_data"
    }
   ],
   "source": [
    "# motors defined earlier\n",
    "\n",
    "figLive, ax = plt.subplots(1,1)\n",
    "\n",
    "def simulated_image():\n",
    "    pos = [m.get() for m in motors]\n",
    "        \n",
    "    x_pos = (pos[0]+100)/200*1000\n",
    "    y_pos = (pos[1]+100)/200*1000\n",
    "    # smallest beam at m3 = 0    \n",
    "    x_width = (((pos[2]/100)**2)+0.1)*150+200\n",
    "    # smallest beam at m4 = 0\n",
    "    y_width = (((pos[3]/100)**2)+0.1)*250+400\n",
    "    # max intensity at m5 = 0\n",
    "    z = (1-((pos[4]/100)**2))*250*2*np.pi*x_width*y_width\n",
    "    \n",
    "    img = gausImage(x_center = x_pos, y_center = y_pos, scale = z, x_sigma = x_width, y_sigma=y_width)\n",
    "\n",
    "    return img\n",
    "\n",
    "\n",
    "def simulated_acquire(pvname = None, value = None, **kw):\n",
    "    if value == 0:\n",
    "        print('Acquisition stopped')\n",
    "    elif value == 1:\n",
    "        print('Acquisition started')\n",
    "        \n",
    "        # put in single mode (TODO workout multiple and continuous later)\n",
    "        # ndsa.put(\"ImageMode\", 0)\n",
    "        \n",
    "        # set new array to 1\n",
    "        ndsa.put('NewArray', 1)\n",
    "        \n",
    "        # call function for creating image array -- for now just singles\n",
    "       \n",
    "        img = simulated_image()\n",
    "        print(\"Image Triggered\")\n",
    "        imgf = img.astype(int)\n",
    "        \n",
    "        # put array in ndsa:ArrayIn\n",
    "        ndsa.put('ArrayIn', imgf.flatten())        \n",
    "        print(\"Image Acquired\")\n",
    "        # set array complete to 1\n",
    "        ndsa.put('ArrayComplete', 1)\n",
    "        \n",
    "        # end acquisition\n",
    "        ndsa.put('Acquire', 0)\n",
    "        \n",
    "        ax.imshow(img, cmap = 'viridis')\n",
    "        ax.set_title(\"Image # \" + str(ndsa.get(\"ArrayCounter_RBV\")))\n",
    "       \n",
    "        \n",
    "        print('Acquisition complete')\n",
    "    else:\n",
    "        print('Acquisition state indeterminate')\n",
    "        \n"
   ]
  },
  {
   "cell_type": "code",
   "execution_count": 27,
   "metadata": {},
   "outputs": [
    {
     "data": {
      "text/plain": [
       "1"
      ]
     },
     "execution_count": 27,
     "metadata": {},
     "output_type": "execute_result"
    },
    {
     "name": "stdout",
     "output_type": "stream",
     "text": [
      "Acquisition started\n",
      "Image Triggered\n",
      "Image Acquired\n",
      "Acquisition complete\n",
      "Acquisition stopped\n",
      "Acquisition started\n",
      "Image Triggered\n",
      "Image Acquired\n",
      "Acquisition complete\n",
      "Acquisition stopped\n"
     ]
    },
    {
     "name": "stderr",
     "output_type": "stream",
     "text": [
      "CA.Client.Exception...............................................\n",
      "    Warning: \"Virtual circuit disconnect\"\n",
      "    Context: \"ravioli.xray.aps.anl.gov:5064\"\n",
      "    Source File: ../cac.cpp line 1237\n",
      "    Current Time: Thu Apr 14 2022 14:09:33.681392496\n",
      "..................................................................\n"
     ]
    },
    {
     "name": "stdout",
     "output_type": "stream",
     "text": [
      "Acquisition stopped\n"
     ]
    }
   ],
   "source": [
    "ndsa.add_callback('Acquire',simulated_acquire)"
   ]
  },
  {
   "cell_type": "code",
   "execution_count": 48,
   "metadata": {},
   "outputs": [],
   "source": [
    "ndsa.remove_callbacks(\"Acquire\", index = 1)"
   ]
  },
  {
   "cell_type": "code",
   "execution_count": 17,
   "metadata": {},
   "outputs": [
    {
     "data": {
      "text/plain": [
       "2"
      ]
     },
     "execution_count": 17,
     "metadata": {},
     "output_type": "execute_result"
    }
   ],
   "source": [
    "ndsa.add_callback('Acquire',simulated_acquire)"
   ]
  },
  {
   "cell_type": "code",
   "execution_count": 40,
   "metadata": {},
   "outputs": [
    {
     "data": {
      "text/plain": [
       "1"
      ]
     },
     "execution_count": 40,
     "metadata": {},
     "output_type": "execute_result"
    },
    {
     "name": "stdout",
     "output_type": "stream",
     "text": [
      "Acquisition started\n",
      "Image Triggered\n",
      "Image Acquired\n",
      "Acquisition complete\n",
      "Acquisition stopped\n",
      "Acquisition started\n",
      "Image Triggered\n",
      "Image Acquired\n",
      "Acquisition complete\n",
      "Acquisition stopped\n",
      "Acquisition started\n",
      "Image Triggered\n",
      "Image Acquired\n",
      "Acquisition complete\n",
      "Acquisition stopped\n",
      "Acquisition started\n",
      "Image Triggered\n",
      "Image Acquired\n",
      "Acquisition complete\n",
      "Acquisition stopped\n",
      "Acquisition started\n",
      "Image Triggered\n",
      "Image Acquired\n",
      "Acquisition complete\n",
      "Acquisition stopped\n",
      "Acquisition started\n",
      "Image Triggered\n",
      "Image Acquired\n",
      "Acquisition complete\n",
      "Acquisition stopped\n",
      "Acquisition started\n",
      "Image Triggered\n",
      "Image Acquired\n",
      "Acquisition complete\n",
      "Acquisition stopped\n",
      "Acquisition started\n",
      "Image Triggered\n",
      "Image Acquired\n",
      "Acquisition complete\n",
      "Acquisition stopped\n",
      "Acquisition started\n",
      "Image Triggered\n",
      "Image Acquired\n",
      "Acquisition complete\n",
      "Acquisition stopped\n",
      "Acquisition started\n",
      "Image Triggered\n",
      "Image Acquired\n",
      "Acquisition complete\n",
      "Acquisition stopped\n",
      "Acquisition started\n",
      "Image Triggered\n",
      "Image Acquired\n",
      "Acquisition complete\n",
      "Acquisition stopped\n"
     ]
    }
   ],
   "source": [
    "ndsa.put(\"DataType\",\"UInt8\")"
   ]
  },
  {
   "cell_type": "code",
   "execution_count": null,
   "metadata": {},
   "outputs": [],
   "source": []
  }
 ],
 "metadata": {
  "kernelspec": {
   "display_name": "Python 3 (ipykernel)",
   "language": "python",
   "name": "python3"
  },
  "language_info": {
   "codemirror_mode": {
    "name": "ipython",
    "version": 3
   },
   "file_extension": ".py",
   "mimetype": "text/x-python",
   "name": "python",
   "nbconvert_exporter": "python",
   "pygments_lexer": "ipython3",
   "version": "3.10.4"
  }
 },
 "nbformat": 4,
 "nbformat_minor": 4
}
