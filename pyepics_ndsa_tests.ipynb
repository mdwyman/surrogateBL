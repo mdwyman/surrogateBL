{
 "cells": [
  {
   "cell_type": "code",
   "execution_count": 1,
   "metadata": {},
   "outputs": [],
   "source": [
    "from epics import PV"
   ]
  },
  {
   "cell_type": "code",
   "execution_count": 2,
   "metadata": {},
   "outputs": [],
   "source": [
    "import matplotlib.pyplot as plt\n",
    "import numpy as np\n",
    "import pandas as pd"
   ]
  },
  {
   "cell_type": "code",
   "execution_count": 3,
   "metadata": {},
   "outputs": [],
   "source": [
    "prefix = '100idWYM'\n",
    "motor_list = ['m1', 'm2', 'm3', 'm4', 'm5']\n",
    "pv_list = [':'.join([prefix,motor]) for motor in motor_list]"
   ]
  },
  {
   "cell_type": "code",
   "execution_count": 4,
   "metadata": {},
   "outputs": [],
   "source": [
    "motors = [PV(motor_pv) for motor_pv in pv_list]"
   ]
  },
  {
   "cell_type": "markdown",
   "metadata": {},
   "source": [
    "### AD NDSA/pyepics notes\n",
    "\n",
    "pyepics callback on Acquire attr\n",
    "\n",
    "attr = ['Acquire','ImageMode','NumImages', 'NDimensions', 'AppendMode', 'CallbackMode','NewArray,'ArrayComplete']\n",
    "\n",
    "read-only: ImageMode, NumImages,  \n",
    "\n",
    "read-write: Acquire, NDimensions (and array size?),\n",
    "\n",
    "write: NewArray, ArrayComplete (would this be after each image in multiple/continuous or after all are complete?)\n",
    "\n",
    "constants: AppendMode (should be disabled)\n",
    "\t   CallbackMode (either on update or on complete)"
   ]
  },
  {
   "cell_type": "code",
   "execution_count": 5,
   "metadata": {},
   "outputs": [],
   "source": [
    "from epics.device import Device\n",
    "\n",
    "class AD_NDSA(Device):\n",
    "    \"\"\"\n",
    "    Basic AreaDetector Camera Device\n",
    "    \"\"\"\n",
    "    attrs = (\"Acquire\", \"AcquirePeriod\", \"AcquirePeriod_RBV\",\n",
    "             \"AcquireTime\", \"AcquireTime_RBV\",\n",
    "             \"ArrayCallbacks\", \"ArrayCallbacks_RBV\",\n",
    "             \"ArrayComplete\",\n",
    "             \"ArrayCounter\", \"ArrayCounter_RBV\", \"ArrayRate_RBV\",\n",
    "             \"ArraySizeX_RBV\", \"ArraySizeY_RBV\", \"ArraySize_RBV\",\n",
    "             \"AppendMode\",\n",
    "             \"BinX\", \"BinX_RBV\", \"BinY\", \"BinY_RBV\",\n",
    "             \"CallbackMode\",\n",
    "             \"ColorMode\", \"ColorMode_RBV\",\n",
    "             \"DataType\", \"DataType_RBV\", \"DetectorState_RBV\",\n",
    "             \"Dimensions\",\n",
    "             \"Gain\", \"Gain_RBV\", \"ImageMode\", \"ImageMode_RBV\",\n",
    "             \"MaxSizeX_RBV\", \"MaxSizeY_RBV\",\n",
    "             \"MinX\", \"MinX_RBV\", \"MinY\", \"MinY_RBV\", \n",
    "             \"NewArray\", \"NDimensions\",\n",
    "             \"NumImages\", \"NumImagesCounter_RBV\", \"NumImages_RBV\",\n",
    "             \"SizeX\", \"SizeX_RBV\", \"SizeY\", \"SizeY_RBV\",\n",
    "             \"TimeRemaining_RBV\",\n",
    "             \"TriggerMode\", \"TriggerMode_RBV\", \"TriggerSoftware\")\n",
    "\n",
    "\n",
    "    _nonpvs = ('_prefix', '_pvs', '_delim')\n",
    "\n",
    "    def __init__(self, prefix):\n",
    "        Device.__init__(self, prefix, delim='', mutable=False,\n",
    "                              attrs=self.attrs)\n",
    "\n",
    "    def ensure_value(self, attr, value, wait=False):\n",
    "        \"\"\"ensures that an attribute with an associated _RBV value is\n",
    "        set to the specifed value\n",
    "        \"\"\"\n",
    "        rbv_attr = \"%s_RBV\" % attr\n",
    "        if rbv_attr not in self._pvs:\n",
    "            return self._pvs[attr].put(value, wait=wait)\n",
    "\n",
    "        if  self._pvs[rbv_attr].get(as_string=True) != value:\n",
    "            self._pvs[attr].put(value, wait=wait)"
   ]
  },
  {
   "cell_type": "code",
   "execution_count": 6,
   "metadata": {},
   "outputs": [],
   "source": [
    "ndsa = AD_NDSA(\"100idWYM:ndsa:cam1:\")"
   ]
  },
  {
   "cell_type": "code",
   "execution_count": 7,
   "metadata": {},
   "outputs": [],
   "source": [
    "xSize = 1001\n",
    "ySize = 1001"
   ]
  },
  {
   "cell_type": "code",
   "execution_count": 8,
   "metadata": {},
   "outputs": [
    {
     "data": {
      "text/plain": [
       "1"
      ]
     },
     "execution_count": 8,
     "metadata": {},
     "output_type": "execute_result"
    }
   ],
   "source": [
    "ndsa.put(\"NDimensions\", 2)\n",
    "ndsa.put(\"Dimensions\", [xSize,ySize])"
   ]
  },
  {
   "cell_type": "code",
   "execution_count": 24,
   "metadata": {},
   "outputs": [],
   "source": [
    "def triggered(pvname = None, value = None, **kw):\n",
    "    if value == 0:\n",
    "        print('Acquisition stopped')\n",
    "    elif value == 1:\n",
    "        print('Acquistion started')\n",
    "    else:\n",
    "        print('Acquisition state indeterminate')\n",
    "        "
   ]
  },
  {
   "cell_type": "code",
   "execution_count": 25,
   "metadata": {},
   "outputs": [
    {
     "data": {
      "text/plain": [
       "1"
      ]
     },
     "execution_count": 25,
     "metadata": {},
     "output_type": "execute_result"
    },
    {
     "name": "stdout",
     "output_type": "stream",
     "text": [
      "Acquistion started\n",
      "Acquisition stopped\n",
      "Acquistion started\n",
      "Acquisition stopped\n"
     ]
    }
   ],
   "source": [
    "ndsa.add_callback('Acquire',triggered)"
   ]
  },
  {
   "cell_type": "code",
   "execution_count": 101,
   "metadata": {},
   "outputs": [],
   "source": [
    "ndsa.remove_callbacks(\"Acquire\", index = 1)"
   ]
  },
  {
   "cell_type": "code",
   "execution_count": 9,
   "metadata": {},
   "outputs": [],
   "source": [
    "def gaus2d(x, y, mx=0, my=0, sx=1, sy=1, scale = 1):\n",
    "    return scale * 1. / (2. * np.pi * sx * sy) * np.exp(-((x - mx)**2. / (2. * sx**2.) + (y - my)**2. / (2. * sy**2.)))\n",
    "    \n",
    "    \n",
    "def gausImage(size_x = 1000, size_y = 1000, num = 1001, \n",
    "              x_center = 600, y_center = 300, \n",
    "              x_sigma = 100,  y_sigma = 300,\n",
    "             scale = 1):\n",
    "\n",
    "    x = np.linspace(0,size_x, num = num)\n",
    "    y = np.linspace(0,size_y, num = num)\n",
    "  \n",
    "    x, y = np.meshgrid(x, y) # get 2D variables instead of 1D\n",
    "\n",
    "    return gaus2d(x, y, mx=x_center, my=y_center, sx=x_sigma, sy=y_sigma, scale = scale)"
   ]
  },
  {
   "cell_type": "code",
   "execution_count": 10,
   "metadata": {},
   "outputs": [],
   "source": [
    "%matplotlib widget"
   ]
  },
  {
   "cell_type": "code",
   "execution_count": 11,
   "metadata": {},
   "outputs": [],
   "source": [
    "img = gausImage(x_center = 500, y_center = 500, scale = 1e7)"
   ]
  },
  {
   "cell_type": "code",
   "execution_count": 12,
   "metadata": {},
   "outputs": [
    {
     "data": {
      "application/vnd.jupyter.widget-view+json": {
       "model_id": "2047269f0f164583abd59539e4e9dcf9",
       "version_major": 2,
       "version_minor": 0
      },
      "text/plain": [
       "Canvas(toolbar=Toolbar(toolitems=[('Home', 'Reset original view', 'home', 'home'), ('Back', 'Back to previous …"
      ]
     },
     "metadata": {},
     "output_type": "display_data"
    }
   ],
   "source": [
    "cmaps = ['viridis', 'plasma', 'inferno', 'magma', 'cividis','hot']\n",
    "\n",
    "fig, axs = plt.subplots(2,3, figsize = (12,8))\n",
    "ax_flat = axs.flatten()"
   ]
  },
  {
   "cell_type": "code",
   "execution_count": 13,
   "metadata": {},
   "outputs": [
    {
     "name": "stdout",
     "output_type": "stream",
     "text": [
      "viridis\n",
      "(1001, 1001)\n",
      "plasma\n",
      "(1001, 1001)\n",
      "inferno\n",
      "(1001, 1001)\n",
      "magma\n",
      "(1001, 1001)\n",
      "cividis\n",
      "(1001, 1001)\n",
      "hot\n",
      "(1001, 1001)\n"
     ]
    }
   ],
   "source": [
    "for ax, cmap in zip(ax_flat, cmaps):\n",
    "    print(cmap)\n",
    "    print(img.shape)\n",
    "    ax.imshow(img, cmap = cmap)\n",
    "    ax.set_title(cmap)"
   ]
  },
  {
   "cell_type": "code",
   "execution_count": 14,
   "metadata": {},
   "outputs": [
    {
     "name": "stdout",
     "output_type": "stream",
     "text": [
      "53\n"
     ]
    }
   ],
   "source": [
    "imgf = img.astype(int)\n",
    "print(np.max(imgf))"
   ]
  },
  {
   "cell_type": "code",
   "execution_count": 51,
   "metadata": {},
   "outputs": [
    {
     "data": {
      "text/plain": [
       "1"
      ]
     },
     "execution_count": 51,
     "metadata": {},
     "output_type": "execute_result"
    }
   ],
   "source": [
    "# Manually set acquire\n",
    "ndsa.put(\"Acquire\", 1)\n",
    "ndsa.put(\"NewArray\", 1)\n",
    "\n",
    "# Manually stuff array into ArrayIn\n",
    "ndsa.put(\"ArrayIn\", imgf.flatten())\n",
    "\n",
    "# Do I need to set sizes beforehand?\n",
    "ndsa.put(\"Acquire\", 0)\n",
    "ndsa.put(\"ArrayComplete\", 1)\n",
    "\n"
   ]
  },
  {
   "cell_type": "code",
   "execution_count": 37,
   "metadata": {},
   "outputs": [
    {
     "data": {
      "text/plain": [
       "(1001, 1001)"
      ]
     },
     "execution_count": 37,
     "metadata": {},
     "output_type": "execute_result"
    }
   ],
   "source": [
    "img.shape"
   ]
  },
  {
   "cell_type": "code",
   "execution_count": 38,
   "metadata": {},
   "outputs": [
    {
     "data": {
      "text/plain": [
       "(1002001,)"
      ]
     },
     "execution_count": 38,
     "metadata": {},
     "output_type": "execute_result"
    }
   ],
   "source": [
    "imgf.flatten().shape"
   ]
  },
  {
   "cell_type": "code",
   "execution_count": 117,
   "metadata": {},
   "outputs": [
    {
     "data": {
      "text/plain": [
       "53.05164769729845"
      ]
     },
     "execution_count": 117,
     "metadata": {},
     "output_type": "execute_result"
    },
    {
     "name": "stdout",
     "output_type": "stream",
     "text": [
      "Acquisition started\n",
      "Acquisition stopped\n"
     ]
    }
   ],
   "source": [
    "np.max(img)"
   ]
  },
  {
   "cell_type": "code",
   "execution_count": null,
   "metadata": {},
   "outputs": [],
   "source": []
  },
  {
   "cell_type": "code",
   "execution_count": 45,
   "metadata": {},
   "outputs": [],
   "source": [
    "import random"
   ]
  },
  {
   "cell_type": "code",
   "execution_count": 46,
   "metadata": {},
   "outputs": [
    {
     "data": {
      "text/plain": [
       "287"
      ]
     },
     "execution_count": 46,
     "metadata": {},
     "output_type": "execute_result"
    }
   ],
   "source": [
    "random.randint(200,500)"
   ]
  },
  {
   "cell_type": "code",
   "execution_count": null,
   "metadata": {},
   "outputs": [],
   "source": []
  },
  {
   "cell_type": "code",
   "execution_count": 55,
   "metadata": {},
   "outputs": [],
   "source": [
    "def produce_image(pvname = None, value = None, **kw):\n",
    "    if value == 0:\n",
    "        print('Acquisition stopped')\n",
    "    elif value == 1:\n",
    "        print('Acquisition started')\n",
    "        \n",
    "        # put in single mode (TODO workout multiple and continuous later)\n",
    "        # ndsa.put(\"ImageMode\", 0)\n",
    "        \n",
    "        # set new array to 1\n",
    "        ndsa.put('NewArray', 1)\n",
    "        \n",
    "        # call function for creating image array -- for now just singles\n",
    "        # image = surrogateBL()\n",
    "        # flattend_image = image.flatten?\n",
    "        img = gausImage(x_center = random.randint(700,800), y_center = random.randint(300,400), scale = 1e7)\n",
    "        imgf = img.astype(int)\n",
    "        \n",
    "        # put array in ndsa:ArrayIn\n",
    "        ndsa.put('ArrayIn', imgf.flatten())        \n",
    "        \n",
    "        # set array complete to 1\n",
    "        ndsa.put('ArrayComplete', 1)\n",
    "        \n",
    "        # end acquisition\n",
    "        ndsa.put('Acquire', 0)\n",
    "        \n",
    "       \n",
    "        \n",
    "        print('Acquisition complete')\n",
    "    else:\n",
    "        print('Acquisition state indeterminate')"
   ]
  },
  {
   "cell_type": "code",
   "execution_count": 56,
   "metadata": {},
   "outputs": [
    {
     "data": {
      "text/plain": [
       "1"
      ]
     },
     "execution_count": 56,
     "metadata": {},
     "output_type": "execute_result"
    },
    {
     "name": "stdout",
     "output_type": "stream",
     "text": [
      "Acquisition started\n",
      "Acquisition complete\n",
      "Acquisition stopped\n",
      "Acquisition started\n",
      "Acquisition complete\n",
      "Acquisition stopped\n",
      "Acquisition started\n",
      "Acquisition complete\n",
      "Acquisition stopped\n",
      "Acquisition started\n",
      "Acquisition complete\n",
      "Acquisition stopped\n",
      "Acquisition started\n",
      "Acquisition complete\n",
      "Acquisition stopped\n",
      "Acquisition started\n",
      "Acquisition complete\n",
      "Acquisition stopped\n"
     ]
    }
   ],
   "source": [
    "ndsa.add_callback('Acquire',produce_image)"
   ]
  },
  {
   "cell_type": "code",
   "execution_count": 58,
   "metadata": {},
   "outputs": [],
   "source": [
    "ndsa.remove_callbacks(\"Acquire\", index = 1)"
   ]
  },
  {
   "cell_type": "code",
   "execution_count": 59,
   "metadata": {},
   "outputs": [
    {
     "data": {
      "text/plain": [
       "[<PV '100idWYM:m1', count=1, type=time_double, access=read/write>,\n",
       " <PV '100idWYM:m2', count=1, type=time_double, access=read/write>,\n",
       " <PV '100idWYM:m3', count=1, type=time_double, access=read/write>,\n",
       " <PV '100idWYM:m4', count=1, type=time_double, access=read/write>,\n",
       " <PV '100idWYM:m5', count=1, type=time_double, access=read/write>]"
      ]
     },
     "execution_count": 59,
     "metadata": {},
     "output_type": "execute_result"
    }
   ],
   "source": [
    "motors"
   ]
  },
  {
   "cell_type": "code",
   "execution_count": 60,
   "metadata": {},
   "outputs": [
    {
     "name": "stdout",
     "output_type": "stream",
     "text": [
      "20.0\n",
      "70.0\n",
      "50.0\n",
      "-100.0\n",
      "0.0\n"
     ]
    }
   ],
   "source": [
    "for m in motors:\n",
    "    print(m.get())"
   ]
  },
  {
   "cell_type": "code",
   "execution_count": 49,
   "metadata": {},
   "outputs": [
    {
     "data": {
      "application/vnd.jupyter.widget-view+json": {
       "model_id": "b931111850b945bfbff9f8a3bd052e51",
       "version_major": 2,
       "version_minor": 0
      },
      "text/plain": [
       "Canvas(toolbar=Toolbar(toolitems=[('Home', 'Reset original view', 'home', 'home'), ('Back', 'Back to previous …"
      ]
     },
     "metadata": {},
     "output_type": "display_data"
    }
   ],
   "source": [
    "# motors defined earlier\n",
    "\n",
    "figLive, ax = plt.subplots(1,1)\n",
    "\n",
    "def simulated_image():\n",
    "    pos = [m.get() for m in motors]\n",
    "        \n",
    "    x_pos = (pos[0]+100)/200*1000\n",
    "    y_pos = (pos[1]+100)/200*1000\n",
    "    # smallest beam at m3 = 0    \n",
    "    x_width = (((pos[2]/100)**2)+0.1)*150+200\n",
    "    # smallest beam at m4 = 0\n",
    "    y_width = (((pos[3]/100)**2)+0.1)*250+400\n",
    "    # max intensity at m5 = 0\n",
    "    z = (1-((pos[4]/100)**2))*250*2*np.pi*x_width*y_width\n",
    "    \n",
    "    img = gausImage(x_center = x_pos, y_center = y_pos, scale = z, x_sigma = x_width, y_sigma=y_width)\n",
    "\n",
    "    return img\n",
    "\n",
    "\n",
    "def simulated_acquire(pvname = None, value = None, **kw):\n",
    "    if value == 0:\n",
    "        print('Acquisition stopped')\n",
    "    elif value == 1:\n",
    "        print('Acquisition started')\n",
    "        \n",
    "        # put in single mode (TODO workout multiple and continuous later)\n",
    "        # ndsa.put(\"ImageMode\", 0)\n",
    "        \n",
    "        # set new array to 1\n",
    "        ndsa.put('NewArray', 1)\n",
    "        \n",
    "        # call function for creating image array -- for now just singles\n",
    "       \n",
    "        img = simulated_image()\n",
    "        print(\"Image Triggered\")\n",
    "        imgf = img.astype(int)\n",
    "        \n",
    "        # put array in ndsa:ArrayIn\n",
    "        ndsa.put('ArrayIn', imgf.flatten())        \n",
    "        print(\"Image Acquired\")\n",
    "        # set array complete to 1\n",
    "        ndsa.put('ArrayComplete', 1)\n",
    "        \n",
    "        # end acquisition\n",
    "        ndsa.put('Acquire', 0)\n",
    "        \n",
    "        ax.imshow(img, cmap = 'viridis')\n",
    "        ax.set_title(\"Image # \" + str(ndsa.get(\"ArrayCounter_RBV\")))\n",
    "       \n",
    "        \n",
    "        print('Acquisition complete')\n",
    "    else:\n",
    "        print('Acquisition state indeterminate')\n",
    "        \n"
   ]
  },
  {
   "cell_type": "code",
   "execution_count": 50,
   "metadata": {},
   "outputs": [
    {
     "data": {
      "text/plain": [
       "1"
      ]
     },
     "execution_count": 50,
     "metadata": {},
     "output_type": "execute_result"
    }
   ],
   "source": [
    "ndsa.add_callback('Acquire',simulated_acquire)"
   ]
  },
  {
   "cell_type": "code",
   "execution_count": 48,
   "metadata": {},
   "outputs": [],
   "source": [
    "ndsa.remove_callbacks(\"Acquire\", index = 1)"
   ]
  },
  {
   "cell_type": "code",
   "execution_count": 17,
   "metadata": {},
   "outputs": [
    {
     "data": {
      "text/plain": [
       "2"
      ]
     },
     "execution_count": 17,
     "metadata": {},
     "output_type": "execute_result"
    }
   ],
   "source": [
    "ndsa.add_callback('Acquire',simulated_acquire)"
   ]
  },
  {
   "cell_type": "code",
   "execution_count": 40,
   "metadata": {},
   "outputs": [
    {
     "data": {
      "text/plain": [
       "1"
      ]
     },
     "execution_count": 40,
     "metadata": {},
     "output_type": "execute_result"
    },
    {
     "name": "stdout",
     "output_type": "stream",
     "text": [
      "Acquisition started\n",
      "Image Triggered\n",
      "Image Acquired\n",
      "Acquisition complete\n",
      "Acquisition stopped\n",
      "Acquisition started\n",
      "Image Triggered\n",
      "Image Acquired\n",
      "Acquisition complete\n",
      "Acquisition stopped\n",
      "Acquisition started\n",
      "Image Triggered\n",
      "Image Acquired\n",
      "Acquisition complete\n",
      "Acquisition stopped\n",
      "Acquisition started\n",
      "Image Triggered\n",
      "Image Acquired\n",
      "Acquisition complete\n",
      "Acquisition stopped\n",
      "Acquisition started\n",
      "Image Triggered\n",
      "Image Acquired\n",
      "Acquisition complete\n",
      "Acquisition stopped\n",
      "Acquisition started\n",
      "Image Triggered\n",
      "Image Acquired\n",
      "Acquisition complete\n",
      "Acquisition stopped\n",
      "Acquisition started\n",
      "Image Triggered\n",
      "Image Acquired\n",
      "Acquisition complete\n",
      "Acquisition stopped\n",
      "Acquisition started\n",
      "Image Triggered\n",
      "Image Acquired\n",
      "Acquisition complete\n",
      "Acquisition stopped\n",
      "Acquisition started\n",
      "Image Triggered\n",
      "Image Acquired\n",
      "Acquisition complete\n",
      "Acquisition stopped\n",
      "Acquisition started\n",
      "Image Triggered\n",
      "Image Acquired\n",
      "Acquisition complete\n",
      "Acquisition stopped\n",
      "Acquisition started\n",
      "Image Triggered\n",
      "Image Acquired\n",
      "Acquisition complete\n",
      "Acquisition stopped\n"
     ]
    }
   ],
   "source": [
    "ndsa.put(\"DataType\",\"UInt8\")"
   ]
  },
  {
   "cell_type": "code",
   "execution_count": null,
   "metadata": {},
   "outputs": [],
   "source": []
  }
 ],
 "metadata": {
  "kernelspec": {
   "display_name": "Python 3 (ipykernel)",
   "language": "python",
   "name": "python3"
  },
  "language_info": {
   "codemirror_mode": {
    "name": "ipython",
    "version": 3
   },
   "file_extension": ".py",
   "mimetype": "text/x-python",
   "name": "python",
   "nbconvert_exporter": "python",
   "pygments_lexer": "ipython3",
   "version": "3.8.11"
  }
 },
 "nbformat": 4,
 "nbformat_minor": 4
}
