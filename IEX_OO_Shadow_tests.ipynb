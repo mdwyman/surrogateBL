{
 "cells": [
  {
   "cell_type": "code",
   "execution_count": 1,
   "metadata": {},
   "outputs": [],
   "source": [
    "from beamline_29 import IEX"
   ]
  },
  {
   "cell_type": "code",
   "execution_count": 2,
   "metadata": {},
   "outputs": [],
   "source": [
    "import time\n",
    "import matplotlib.pyplot as plt\n",
    "import math"
   ]
  },
  {
   "cell_type": "code",
   "execution_count": 3,
   "metadata": {},
   "outputs": [
    {
     "data": {
      "text/plain": [
       "68412"
      ]
     },
     "execution_count": 3,
     "metadata": {},
     "output_type": "execute_result"
    }
   ],
   "source": [
    "IEX.run()"
   ]
  },
  {
   "cell_type": "code",
   "execution_count": 4,
   "metadata": {},
   "outputs": [
    {
     "data": {
      "text/plain": [
       "319"
      ]
     },
     "execution_count": 4,
     "metadata": {},
     "output_type": "execute_result"
    }
   ],
   "source": [
    "IEX.sample()\n",
    "IEX.run()"
   ]
  },
  {
   "cell_type": "code",
   "execution_count": 5,
   "metadata": {},
   "outputs": [
    {
     "data": {
      "text/plain": [
       "319"
      ]
     },
     "execution_count": 5,
     "metadata": {},
     "output_type": "execute_result"
    }
   ],
   "source": [
    "IEX.run()"
   ]
  },
  {
   "cell_type": "code",
   "execution_count": 6,
   "metadata": {},
   "outputs": [
    {
     "data": {
      "text/plain": [
       "68412"
      ]
     },
     "execution_count": 6,
     "metadata": {},
     "output_type": "execute_result"
    }
   ],
   "source": [
    "IEX.center()\n",
    "IEX.run()"
   ]
  },
  {
   "cell_type": "markdown",
   "metadata": {},
   "source": [
    "Things are working as expected"
   ]
  },
  {
   "cell_type": "code",
   "execution_count": 10,
   "metadata": {},
   "outputs": [
    {
     "name": "stdout",
     "output_type": "stream",
     "text": [
      "646 ms ± 19.2 ms per loop (mean ± std. dev. of 7 runs, 1 loop each)\n"
     ]
    }
   ],
   "source": [
    "%%timeit\n",
    "IEX.sample()\n",
    "IEX.run()"
   ]
  },
  {
   "cell_type": "code",
   "execution_count": 8,
   "metadata": {},
   "outputs": [
    {
     "name": "stdout",
     "output_type": "stream",
     "text": [
      " "
     ]
    },
    {
     "data": {
      "text/plain": [
       "         36 function calls in 0.799 seconds\n",
       "\n",
       "   Ordered by: internal time\n",
       "\n",
       "   ncalls  tottime  percall  cumtime  percall filename:lineno(function)\n",
       "        6    0.748    0.125    0.748    0.125 {method 'traceOE' of 'Beam' objects}\n",
       "        1    0.048    0.048    0.048    0.048 {method 'genSource' of 'Beam' objects}\n",
       "        1    0.001    0.001    0.001    0.001 {method 'copy' of 'numpy.ndarray' objects}\n",
       "        1    0.001    0.001    0.799    0.799 beamline_29.py:297(run)\n",
       "        1    0.000    0.000    0.000    0.000 {built-in method numpy.core._multiarray_umath.implement_array_function}\n",
       "        1    0.000    0.000    0.002    0.002 ShadowLibExtensions.py:399(nrays)\n",
       "        1    0.000    0.000    0.000    0.000 beamline_29.py:108(resetBeamline)\n",
       "        1    0.000    0.000    0.799    0.799 {built-in method builtins.exec}\n",
       "        1    0.000    0.000    0.001    0.001 ShadowLibExtensions.py:180(getshonecol)\n",
       "        4    0.000    0.000    0.000    0.000 {built-in method numpy.array}\n",
       "        6    0.000    0.000    0.000    0.000 ShadowLibExtensions.py:823(__init__)\n",
       "        1    0.000    0.000    0.000    0.000 <__array_function__ internals>:2(where)\n",
       "        1    0.000    0.000    0.799    0.799 <string>:1(<module>)\n",
       "        1    0.000    0.000    0.000    0.000 ShadowLibExtensions.py:18(__init__)\n",
       "        6    0.000    0.000    0.000    0.000 {method 'append' of 'list' objects}\n",
       "        1    0.000    0.000    0.000    0.000 ShadowLibExtensions.py:3075(__init__)\n",
       "        1    0.000    0.000    0.000    0.000 multiarray.py:312(where)\n",
       "        1    0.000    0.000    0.000    0.000 {method 'disable' of '_lsprof.Profiler' objects}"
      ]
     },
     "metadata": {},
     "output_type": "display_data"
    }
   ],
   "source": [
    "%prun IEX.run()"
   ]
  },
  {
   "cell_type": "code",
   "execution_count": 9,
   "metadata": {},
   "outputs": [
    {
     "name": "stdout",
     "output_type": "stream",
     "text": [
      " Iteration 2999  \n",
      "Duration: 1995.507697\n"
     ]
    }
   ],
   "source": [
    "rays = []\n",
    "t1 = time.time()\n",
    "for i in range(3000):\n",
    "    IEX.sample()\n",
    "    rays.append(IEX.run())\n",
    "    print('\\r Iteration %d' % i, end = ' ')\n",
    "    \n",
    "print(' ')\n",
    "t2 = time.time()\n",
    "print('Duration: %f' % (t2 - t1))"
   ]
  },
  {
   "cell_type": "code",
   "execution_count": 12,
   "metadata": {},
   "outputs": [
    {
     "data": {
      "text/plain": [
       "(array([2084.,  183.,  118.,   71.,   82.,   61.,   60.,   48.,   39.,\n",
       "          33.,   36.,   31.,   27.,   29.,   27.,   19.,   10.,   18.,\n",
       "          14.,   10.]),\n",
       " array([    0.  ,  4720.75,  9441.5 , 14162.25, 18883.  , 23603.75,\n",
       "        28324.5 , 33045.25, 37766.  , 42486.75, 47207.5 , 51928.25,\n",
       "        56649.  , 61369.75, 66090.5 , 70811.25, 75532.  , 80252.75,\n",
       "        84973.5 , 89694.25, 94415.  ]),\n",
       " <a list of 20 Patch objects>)"
      ]
     },
     "execution_count": 12,
     "metadata": {},
     "output_type": "execute_result"
    },
    {
     "data": {
      "image/png": "[encoded data removed]",
      "text/plain": [
       "<Figure size 432x288 with 1 Axes>"
      ]
     },
     "metadata": {
      "needs_background": "light"
     },
     "output_type": "display_data"
    }
   ],
   "source": [
    "fig, axs = plt.subplots(1, 1, tight_layout=True)\n",
    "\n",
    "# We can set the number of bins with the `bins` kwarg\n",
    "\n",
    "axs.hist(rays, bins=20)"
   ]
  },
  {
   "cell_type": "markdown",
   "metadata": {},
   "source": [
    "Reducing sampling region by 90%"
   ]
  },
  {
   "cell_type": "code",
   "execution_count": 11,
   "metadata": {},
   "outputs": [],
   "source": [
    "IEX.sRange = IEX.sRange *0.1"
   ]
  },
  {
   "cell_type": "code",
   "execution_count": 12,
   "metadata": {},
   "outputs": [
    {
     "name": "stdout",
     "output_type": "stream",
     "text": [
      " Iteration 2999  \n",
      "Duration: 2033.158911\n"
     ]
    }
   ],
   "source": [
    "rays2 = []\n",
    "t1 = time.time()\n",
    "for i in range(3000):\n",
    "    IEX.sample()\n",
    "    rays2.append(IEX.run())\n",
    "    print('\\r Iteration %d' % i, end = ' ')\n",
    "    \n",
    "print(' ')\n",
    "t2 = time.time()\n",
    "print('Duration: %f' % (t2 - t1))"
   ]
  },
  {
   "cell_type": "code",
   "execution_count": 13,
   "metadata": {},
   "outputs": [
    {
     "data": {
      "text/plain": [
       "(array([  1.,   1.,   6.,  12.,  11.,  28.,  41.,  52.,  66., 102., 161.,\n",
       "        213., 330., 368., 380., 332., 316., 249., 230., 101.]),\n",
       " array([49472.  , 50640.95, 51809.9 , 52978.85, 54147.8 , 55316.75,\n",
       "        56485.7 , 57654.65, 58823.6 , 59992.55, 61161.5 , 62330.45,\n",
       "        63499.4 , 64668.35, 65837.3 , 67006.25, 68175.2 , 69344.15,\n",
       "        70513.1 , 71682.05, 72851.  ]),\n",
       " <a list of 20 Patch objects>)"
      ]
     },
     "execution_count": 13,
     "metadata": {},
     "output_type": "execute_result"
    },
    {
     "data": {
      "image/png": "[encoded data removed]",
      "text/plain": [
       "<Figure size 432x288 with 1 Axes>"
      ]
     },
     "metadata": {
      "needs_background": "light"
     },
     "output_type": "display_data"
    }
   ],
   "source": [
    "fig, axs = plt.subplots(1, 1, tight_layout=True)\n",
    "\n",
    "# We can set the number of bins with the `bins` kwarg\n",
    "\n",
    "axs.hist(rays2, bins=20)"
   ]
  },
  {
   "cell_type": "markdown",
   "metadata": {},
   "source": [
    "Setting window to 0.25 of original"
   ]
  },
  {
   "cell_type": "code",
   "execution_count": 14,
   "metadata": {},
   "outputs": [],
   "source": [
    "IEX.sRange = IEX.sRange *2.5"
   ]
  },
  {
   "cell_type": "code",
   "execution_count": 15,
   "metadata": {},
   "outputs": [
    {
     "name": "stdout",
     "output_type": "stream",
     "text": [
      " Iteration 2999  \n",
      "Duration: 2028.777374\n"
     ]
    }
   ],
   "source": [
    "rays3 = []\n",
    "t1 = time.time()\n",
    "for i in range(3000):\n",
    "    IEX.sample()\n",
    "    rays3.append(IEX.run())\n",
    "    print('\\r Iteration %d' % i, end = ' ')\n",
    "    \n",
    "print(' ')\n",
    "t2 = time.time()\n",
    "print('Duration: %f' % (t2 - t1))"
   ]
  },
  {
   "cell_type": "code",
   "execution_count": 16,
   "metadata": {},
   "outputs": [
    {
     "data": {
      "text/plain": [
       "(array([  6.,  19.,  27.,  39.,  47.,  69.,  66.,  94., 105., 125., 131.,\n",
       "        172., 219., 335., 323., 307., 317., 237., 238., 124.]),\n",
       " array([ 9193.  , 12645.25, 16097.5 , 19549.75, 23002.  , 26454.25,\n",
       "        29906.5 , 33358.75, 36811.  , 40263.25, 43715.5 , 47167.75,\n",
       "        50620.  , 54072.25, 57524.5 , 60976.75, 64429.  , 67881.25,\n",
       "        71333.5 , 74785.75, 78238.  ]),\n",
       " <a list of 20 Patch objects>)"
      ]
     },
     "execution_count": 16,
     "metadata": {},
     "output_type": "execute_result"
    },
    {
     "data": {
      "image/png": "[encoded data removed]",
      "text/plain": [
       "<Figure size 432x288 with 1 Axes>"
      ]
     },
     "metadata": {
      "needs_background": "light"
     },
     "output_type": "display_data"
    }
   ],
   "source": [
    "fig, axs = plt.subplots(1, 1, tight_layout=True)\n",
    "\n",
    "# We can set the number of bins with the `bins` kwarg\n",
    "\n",
    "axs.hist(rays3, bins=20)"
   ]
  },
  {
   "cell_type": "code",
   "execution_count": 17,
   "metadata": {},
   "outputs": [],
   "source": [
    "IEX.sRange = IEX.sRange * 4.0 * 0.4 # now at 0.4 of original"
   ]
  },
  {
   "cell_type": "code",
   "execution_count": 18,
   "metadata": {
    "collapsed": true,
    "jupyter": {
     "outputs_hidden": true
    }
   },
   "outputs": [
    {
     "data": {
      "text/plain": [
       "array([[[-8.160e+00,  8.160e+00],\n",
       "        [-8.000e+00,  8.000e+00],\n",
       "        [-6.000e-01,  6.000e-01],\n",
       "        [-4.000e-03,  4.000e-03],\n",
       "        [-2.480e-01,  2.480e-01],\n",
       "        [-8.000e+00,  8.000e+00]],\n",
       "\n",
       "       [[-9.160e+00,  9.160e+00],\n",
       "        [-8.000e+00,  8.000e+00],\n",
       "        [-1.000e+00,  1.000e+00],\n",
       "        [-4.000e-03,  4.000e-03],\n",
       "        [-7.200e-02,  7.200e-02],\n",
       "        [-8.000e+00,  8.000e+00]],\n",
       "\n",
       "       [[-6.440e+00,  6.440e+00],\n",
       "        [-8.000e+00,  8.000e+00],\n",
       "        [-3.600e-01,  3.600e-01],\n",
       "        [-8.000e-03,  8.000e-03],\n",
       "        [-1.480e-01,  1.480e-01],\n",
       "        [-8.000e+00,  8.000e+00]],\n",
       "\n",
       "       [[-5.440e+00,  5.440e+00],\n",
       "        [-1.400e+00,  1.400e+00],\n",
       "        [-4.000e-01,  4.000e-01],\n",
       "        [-8.000e-03,  8.000e-03],\n",
       "        [-1.400e-01,  1.400e-01],\n",
       "        [-2.996e+00,  2.996e+00]],\n",
       "\n",
       "       [[-3.320e+00,  3.320e+00],\n",
       "        [-1.680e+01,  1.680e+01],\n",
       "        [-2.000e+00,  2.000e+00],\n",
       "        [-1.600e-01,  1.600e-01],\n",
       "        [-1.288e+00,  1.288e+00],\n",
       "        [-8.000e+00,  8.000e+00]],\n",
       "\n",
       "       [[-4.320e+00,  4.320e+00],\n",
       "        [-3.452e+01,  3.452e+01],\n",
       "        [-9.200e-01,  9.200e-01],\n",
       "        [-5.520e-01,  5.520e-01],\n",
       "        [-3.480e+00,  3.480e+00],\n",
       "        [-8.000e+00,  8.000e+00]]])"
      ]
     },
     "execution_count": 18,
     "metadata": {},
     "output_type": "execute_result"
    }
   ],
   "source": [
    "IEX.sRange"
   ]
  },
  {
   "cell_type": "code",
   "execution_count": 19,
   "metadata": {},
   "outputs": [
    {
     "name": "stdout",
     "output_type": "stream",
     "text": [
      " Iteration 2999  \n",
      "Duration: 1916.172643\n"
     ]
    }
   ],
   "source": [
    "rays4 = []\n",
    "t1 = time.time()\n",
    "for i in range(3000):\n",
    "    IEX.sample()\n",
    "    rays4.append(IEX.run())\n",
    "    print('\\r Iteration %d' % i, end = ' ')\n",
    "    \n",
    "print(' ')\n",
    "t2 = time.time()\n",
    "print('Duration: %f' % (t2 - t1))"
   ]
  },
  {
   "cell_type": "code",
   "execution_count": 20,
   "metadata": {},
   "outputs": [
    {
     "data": {
      "text/plain": [
       "(array([105., 118., 154., 127., 146., 161., 134., 159., 174., 167., 193.,\n",
       "        185., 221., 181., 177., 167., 147., 135., 102.,  47.]),\n",
       " array([  112. ,  4267.8,  8423.6, 12579.4, 16735.2, 20891. , 25046.8,\n",
       "        29202.6, 33358.4, 37514.2, 41670. , 45825.8, 49981.6, 54137.4,\n",
       "        58293.2, 62449. , 66604.8, 70760.6, 74916.4, 79072.2, 83228. ]),\n",
       " <a list of 20 Patch objects>)"
      ]
     },
     "execution_count": 20,
     "metadata": {},
     "output_type": "execute_result"
    },
    {
     "data": {
      "image/png": "[encoded data removed]",
      "text/plain": [
       "<Figure size 432x288 with 1 Axes>"
      ]
     },
     "metadata": {
      "needs_background": "light"
     },
     "output_type": "display_data"
    }
   ],
   "source": [
    "fig, axs = plt.subplots(1, 1, tight_layout=True)\n",
    "\n",
    "# We can set the number of bins with the `bins` kwarg\n",
    "\n",
    "axs.hist(rays4, bins=20)"
   ]
  },
  {
   "cell_type": "code",
   "execution_count": 21,
   "metadata": {},
   "outputs": [
    {
     "data": {
      "text/plain": [
       "array([[-7.24294901e-01,  0.00000000e+00,  0.00000000e+00,\n",
       "         2.06602667e-03,  0.00000000e+00,  0.00000000e+00],\n",
       "       [ 1.95474745e+00,  0.00000000e+00,  0.00000000e+00,\n",
       "         9.59910989e-04,  0.00000000e+00,  0.00000000e+00],\n",
       "       [ 0.00000000e+00,  0.00000000e+00,  0.00000000e+00,\n",
       "        -3.35735988e-03,  0.00000000e+00,  0.00000000e+00],\n",
       "       [ 0.00000000e+00,  0.00000000e+00,  0.00000000e+00,\n",
       "        -7.52590956e-03,  0.00000000e+00,  0.00000000e+00],\n",
       "       [ 0.00000000e+00, -7.29849903e+00,  0.00000000e+00,\n",
       "        -9.79470338e-02, -4.47809545e-01,  0.00000000e+00],\n",
       "       [ 0.00000000e+00,  1.84877822e+01,  0.00000000e+00,\n",
       "         4.63330644e-01, -1.41332606e+00,  0.00000000e+00]])"
      ]
     },
     "execution_count": 21,
     "metadata": {},
     "output_type": "execute_result"
    }
   ],
   "source": [
    "IEX.pos"
   ]
  },
  {
   "cell_type": "code",
   "execution_count": 22,
   "metadata": {},
   "outputs": [
    {
     "data": {
      "text/plain": [
       "array([-7.24294901e-01,  2.06602667e-03,  1.95474745e+00,  9.59910989e-04,\n",
       "       -3.35735988e-03, -7.52590956e-03, -7.29849903e+00, -9.79470338e-02,\n",
       "       -4.47809545e-01,  1.84877822e+01,  4.63330644e-01, -1.41332606e+00])"
      ]
     },
     "execution_count": 22,
     "metadata": {},
     "output_type": "execute_result"
    }
   ],
   "source": [
    "IEX.pos[IEX.mask == 1]"
   ]
  },
  {
   "cell_type": "code",
   "execution_count": 43,
   "metadata": {},
   "outputs": [
    {
     "name": "stdout",
     "output_type": "stream",
     "text": [
      " Iteration 99999 -- run duration 64213 s  \n",
      "Duration: 64212.236860\n"
     ]
    },
    {
     "data": {
      "text/plain": [
       "(array([3506., 3977., 4119., 4325., 4465., 4771., 4900., 5199., 5509.,\n",
       "        6059., 6588., 7380., 7245., 6685., 5898., 5643., 4968., 4274.,\n",
       "        3187., 1302.]),\n",
       " array([  112.  ,  4297.75,  8483.5 , 12669.25, 16855.  , 21040.75,\n",
       "        25226.5 , 29412.25, 33598.  , 37783.75, 41969.5 , 46155.25,\n",
       "        50341.  , 54526.75, 58712.5 , 62898.25, 67084.  , 71269.75,\n",
       "        75455.5 , 79641.25, 83827.  ]),\n",
       " <a list of 20 Patch objects>)"
      ]
     },
     "execution_count": 43,
     "metadata": {},
     "output_type": "execute_result"
    },
    {
     "data": {
      "image/png": "[encoded data removed]",
      "text/plain": [
       "<Figure size 432x288 with 1 Axes>"
      ]
     },
     "metadata": {
      "needs_background": "light"
     },
     "output_type": "display_data"
    }
   ],
   "source": [
    "rays5 = []\n",
    "positioners = []\n",
    "\n",
    "t1 = time.time()\n",
    "for i in range(100000):\n",
    "    IEX.sample()\n",
    "    rays5.append(IEX.run())\n",
    "    positioners.append(IEX.pos[IEX.mask == 1])\n",
    "    print(\"\\r Iteration {:} -- run duration {:1d} s\".format(i, math.ceil(time.time()-t1)), end = ' ')\n",
    "    \n",
    "print(' ')\n",
    "t2 = time.time()\n",
    "print('Duration: %f' % (t2 - t1))\n",
    "\n",
    "fig, axs = plt.subplots(1, 1, tight_layout=True)\n",
    "axs.hist(rays5, bins=20)"
   ]
  },
  {
   "cell_type": "code",
   "execution_count": 47,
   "metadata": {},
   "outputs": [
    {
     "data": {
      "text/plain": [
       "(12,)"
      ]
     },
     "execution_count": 47,
     "metadata": {},
     "output_type": "execute_result"
    }
   ],
   "source": [
    "positioners[0].shape"
   ]
  },
  {
   "cell_type": "code",
   "execution_count": 48,
   "metadata": {},
   "outputs": [
    {
     "data": {
      "text/plain": [
       "100000"
      ]
     },
     "execution_count": 48,
     "metadata": {},
     "output_type": "execute_result"
    }
   ],
   "source": [
    "len(rays5)"
   ]
  },
  {
   "cell_type": "code",
   "execution_count": 49,
   "metadata": {},
   "outputs": [],
   "source": [
    "import pickle"
   ]
  },
  {
   "cell_type": "code",
   "execution_count": 50,
   "metadata": {},
   "outputs": [],
   "source": [
    "data = {'y': rays5, 'x':positioners}"
   ]
  },
  {
   "cell_type": "code",
   "execution_count": 53,
   "metadata": {},
   "outputs": [
    {
     "data": {
      "text/plain": [
       "array([ 4.11249165e-01,  3.72877390e-03, -5.42909342e+00,  1.34745851e-03,\n",
       "        2.71554575e-03,  4.17568269e-03, -4.53801650e+00, -5.52804760e-02,\n",
       "        1.16616223e+00,  5.21392605e-01,  3.74671810e-01, -6.61753323e-01])"
      ]
     },
     "execution_count": 53,
     "metadata": {},
     "output_type": "execute_result"
    }
   ],
   "source": [
    "data['x'][1]"
   ]
  },
  {
   "cell_type": "code",
   "execution_count": 58,
   "metadata": {},
   "outputs": [
    {
     "data": {
      "text/plain": [
       "(62184,\n",
       " 7104,\n",
       " array([ 4.11249165e-01,  3.72877390e-03, -5.42909342e+00,  1.34745851e-03,\n",
       "         2.71554575e-03,  4.17568269e-03, -4.53801650e+00, -5.52804760e-02,\n",
       "         1.16616223e+00,  5.21392605e-01,  3.74671810e-01, -6.61753323e-01]))"
      ]
     },
     "execution_count": 58,
     "metadata": {},
     "output_type": "execute_result"
    }
   ],
   "source": [
    "rays5[0], rays5[1], positioners[1]"
   ]
  },
  {
   "cell_type": "code",
   "execution_count": 59,
   "metadata": {},
   "outputs": [],
   "source": [
    "pickle.dump(data, open(\"IEX_100k_04w.pkl\", \"wb\"))"
   ]
  },
  {
   "cell_type": "code",
   "execution_count": null,
   "metadata": {},
   "outputs": [],
   "source": []
  }
 ],
 "metadata": {
  "kernelspec": {
   "display_name": "Python 3",
   "language": "python",
   "name": "python3"
  },
  "language_info": {
   "codemirror_mode": {
    "name": "ipython",
    "version": 3
   },
   "file_extension": ".py",
   "mimetype": "text/x-python",
   "name": "python",
   "nbconvert_exporter": "python",
   "pygments_lexer": "ipython3",
   "version": "3.7.4"
  }
 },
 "nbformat": 4,
 "nbformat_minor": 4
}
