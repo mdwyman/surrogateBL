{
 "cells": [
  {
   "cell_type": "code",
   "execution_count": 17,
   "metadata": {},
   "outputs": [],
   "source": [
    "from beamline_29 import IEX"
   ]
  },
  {
   "cell_type": "code",
   "execution_count": 18,
   "metadata": {},
   "outputs": [],
   "source": [
    "import time\n",
    "import matplotlib.pyplot as plt\n",
    "import math"
   ]
  },
  {
   "cell_type": "code",
   "execution_count": 19,
   "metadata": {},
   "outputs": [],
   "source": [
    "%matplotlib widget"
   ]
  },
  {
   "cell_type": "code",
   "execution_count": 20,
   "metadata": {},
   "outputs": [
    {
     "data": {
      "text/plain": [
       "17570"
      ]
     },
     "execution_count": 20,
     "metadata": {},
     "output_type": "execute_result"
    }
   ],
   "source": [
    "IEX.run()"
   ]
  },
  {
   "cell_type": "code",
   "execution_count": 21,
   "metadata": {},
   "outputs": [
    {
     "data": {
      "text/plain": [
       "0"
      ]
     },
     "execution_count": 21,
     "metadata": {},
     "output_type": "execute_result"
    }
   ],
   "source": [
    "IEX.sample()\n",
    "IEX.run()"
   ]
  },
  {
   "cell_type": "code",
   "execution_count": 22,
   "metadata": {},
   "outputs": [
    {
     "data": {
      "text/plain": [
       "0"
      ]
     },
     "execution_count": 22,
     "metadata": {},
     "output_type": "execute_result"
    }
   ],
   "source": [
    "IEX.run()"
   ]
  },
  {
   "cell_type": "code",
   "execution_count": 23,
   "metadata": {},
   "outputs": [
    {
     "data": {
      "text/plain": [
       "68412"
      ]
     },
     "execution_count": 23,
     "metadata": {},
     "output_type": "execute_result"
    }
   ],
   "source": [
    "IEX.center()\n",
    "IEX.run()"
   ]
  },
  {
   "cell_type": "markdown",
   "metadata": {},
   "source": [
    "Things are working as expected"
   ]
  },
  {
   "cell_type": "code",
   "execution_count": 24,
   "metadata": {},
   "outputs": [
    {
     "name": "stdout",
     "output_type": "stream",
     "text": [
      "710 ms ± 74.5 ms per loop (mean ± std. dev. of 7 runs, 1 loop each)\n"
     ]
    }
   ],
   "source": [
    "%%timeit\n",
    "IEX.sample()\n",
    "IEX.run()"
   ]
  },
  {
   "cell_type": "code",
   "execution_count": 25,
   "metadata": {},
   "outputs": [
    {
     "name": "stdout",
     "output_type": "stream",
     "text": [
      " "
     ]
    },
    {
     "data": {
      "text/plain": [
       "         36 function calls in 0.860 seconds\n",
       "\n",
       "   Ordered by: internal time\n",
       "\n",
       "   ncalls  tottime  percall  cumtime  percall filename:lineno(function)\n",
       "        6    0.808    0.135    0.808    0.135 {method 'traceOE' of 'Beam' objects}\n",
       "        1    0.046    0.046    0.046    0.046 {method 'genSource' of 'Beam' objects}\n",
       "        1    0.004    0.004    0.004    0.004 {method 'copy' of 'numpy.ndarray' objects}\n",
       "        1    0.001    0.001    0.860    0.860 beamline_29.py:297(run)\n",
       "        1    0.001    0.001    0.005    0.005 ShadowLibExtensions.py:399(nrays)\n",
       "        1    0.000    0.000    0.001    0.001 beamline_29.py:108(resetBeamline)\n",
       "        1    0.000    0.000    0.000    0.000 {built-in method numpy.core._multiarray_umath.implement_array_function}\n",
       "        1    0.000    0.000    0.004    0.004 ShadowLibExtensions.py:180(getshonecol)\n",
       "        4    0.000    0.000    0.000    0.000 {built-in method numpy.array}\n",
       "        1    0.000    0.000    0.860    0.860 {built-in method builtins.exec}\n",
       "        1    0.000    0.000    0.000    0.000 <__array_function__ internals>:2(where)\n",
       "        1    0.000    0.000    0.860    0.860 <string>:1(<module>)\n",
       "        6    0.000    0.000    0.000    0.000 ShadowLibExtensions.py:823(__init__)\n",
       "        1    0.000    0.000    0.000    0.000 ShadowLibExtensions.py:18(__init__)\n",
       "        1    0.000    0.000    0.000    0.000 ShadowLibExtensions.py:3075(__init__)\n",
       "        1    0.000    0.000    0.000    0.000 {method 'disable' of '_lsprof.Profiler' objects}\n",
       "        6    0.000    0.000    0.000    0.000 {method 'append' of 'list' objects}\n",
       "        1    0.000    0.000    0.000    0.000 multiarray.py:312(where)"
      ]
     },
     "metadata": {},
     "output_type": "display_data"
    }
   ],
   "source": [
    "%prun IEX.run()"
   ]
  },
  {
   "cell_type": "code",
   "execution_count": 35,
   "metadata": {},
   "outputs": [
    {
     "name": "stdout",
     "output_type": "stream",
     "text": [
      " Iteration 2999  \n",
      "Duration: 2017.745414\n"
     ]
    }
   ],
   "source": [
    "rays = []\n",
    "t1 = time.time()\n",
    "for i in range(3000):\n",
    "    IEX.sample()\n",
    "    rays.append(IEX.run())\n",
    "    print('\\r Iteration %d' % i, end = ' ')\n",
    "    \n",
    "print(' ')\n",
    "t2 = time.time()\n",
    "print('Duration: %f' % (t2 - t1))"
   ]
  },
  {
   "cell_type": "code",
   "execution_count": 53,
   "metadata": {},
   "outputs": [
    {
     "data": {
      "application/vnd.jupyter.widget-view+json": {
       "model_id": "8d2c52e87cf3436f8004c1a58644b960",
       "version_major": 2,
       "version_minor": 0
      },
      "text/plain": [
       "Canvas(toolbar=Toolbar(toolitems=[('Home', 'Reset original view', 'home', 'home'), ('Back', 'Back to previous …"
      ]
     },
     "metadata": {},
     "output_type": "display_data"
    },
    {
     "data": {
      "text/plain": [
       "(array([2074.,  161.,  109.,   94.,   50.,   67.,   53.,   45.,   38.,\n",
       "          37.,   32.,   38.,   40.,   28.,   26.,   37.,   19.,   26.,\n",
       "          15.,   11.]),\n",
       " array([    0.  ,  4696.55,  9393.1 , 14089.65, 18786.2 , 23482.75,\n",
       "        28179.3 , 32875.85, 37572.4 , 42268.95, 46965.5 , 51662.05,\n",
       "        56358.6 , 61055.15, 65751.7 , 70448.25, 75144.8 , 79841.35,\n",
       "        84537.9 , 89234.45, 93931.  ]),\n",
       " <a list of 20 Patch objects>)"
      ]
     },
     "execution_count": 53,
     "metadata": {},
     "output_type": "execute_result"
    }
   ],
   "source": [
    "fig, axs = plt.subplots(1, 1, tight_layout=True)\n",
    "\n",
    "# We can set the number of bins with the `bins` kwarg\n",
    "#axs.title = '1000 configs, full range'\n",
    "#axs.xtitle = \"Number of rays\"\n",
    "axs.set(title = '3k Configs, Full range',\n",
    "        xlabel = 'Number of rays')\n",
    "axs.hist(rays, bins=20)"
   ]
  },
  {
   "cell_type": "markdown",
   "metadata": {},
   "source": [
    "Reducing sampling region by 90%"
   ]
  },
  {
   "cell_type": "code",
   "execution_count": 37,
   "metadata": {},
   "outputs": [],
   "source": [
    "IEX.sRange = IEX.sRange *0.1"
   ]
  },
  {
   "cell_type": "code",
   "execution_count": 38,
   "metadata": {},
   "outputs": [
    {
     "name": "stdout",
     "output_type": "stream",
     "text": [
      " Iteration 2999  \n",
      "Duration: 2005.083708\n"
     ]
    }
   ],
   "source": [
    "rays2 = []\n",
    "t1 = time.time()\n",
    "for i in range(3000):\n",
    "    IEX.sample()\n",
    "    rays2.append(IEX.run())\n",
    "    print('\\r Iteration %d' % i, end = ' ')\n",
    "    \n",
    "print(' ')\n",
    "t2 = time.time()\n",
    "print('Duration: %f' % (t2 - t1))"
   ]
  },
  {
   "cell_type": "code",
   "execution_count": 52,
   "metadata": {},
   "outputs": [
    {
     "data": {
      "application/vnd.jupyter.widget-view+json": {
       "model_id": "c7fcf80897cf470f819acd6b732774b2",
       "version_major": 2,
       "version_minor": 0
      },
      "text/plain": [
       "Canvas(toolbar=Toolbar(toolitems=[('Home', 'Reset original view', 'home', 'home'), ('Back', 'Back to previous …"
      ]
     },
     "metadata": {},
     "output_type": "display_data"
    },
    {
     "data": {
      "text/plain": [
       "(array([  6.,   1.,  10.,  14.,  29.,  42.,  38.,  61.,  66., 108., 138.,\n",
       "        253., 371., 372., 306., 334., 311., 250., 208.,  82.]),\n",
       " array([50280. , 51410.3, 52540.6, 53670.9, 54801.2, 55931.5, 57061.8,\n",
       "        58192.1, 59322.4, 60452.7, 61583. , 62713.3, 63843.6, 64973.9,\n",
       "        66104.2, 67234.5, 68364.8, 69495.1, 70625.4, 71755.7, 72886. ]),\n",
       " <a list of 20 Patch objects>)"
      ]
     },
     "execution_count": 52,
     "metadata": {},
     "output_type": "execute_result"
    }
   ],
   "source": [
    "fig, axs = plt.subplots(1, 1, tight_layout=True)\n",
    "\n",
    "# We can set the number of bins with the `bins` kwarg\n",
    "axs.set(title = '3k Configs, 0.1x Range',\n",
    "        xlabel = 'Number of rays')\n",
    "axs.hist(rays2, bins=20)"
   ]
  },
  {
   "cell_type": "markdown",
   "metadata": {},
   "source": [
    "Setting window to 0.25 of original"
   ]
  },
  {
   "cell_type": "code",
   "execution_count": 40,
   "metadata": {},
   "outputs": [],
   "source": [
    "IEX.sRange = IEX.sRange *2.5"
   ]
  },
  {
   "cell_type": "code",
   "execution_count": 41,
   "metadata": {},
   "outputs": [
    {
     "name": "stdout",
     "output_type": "stream",
     "text": [
      " Iteration 2999  \n",
      "Duration: 1997.787697\n"
     ]
    }
   ],
   "source": [
    "rays3 = []\n",
    "t1 = time.time()\n",
    "for i in range(3000):\n",
    "    IEX.sample()\n",
    "    rays3.append(IEX.run())\n",
    "    print('\\r Iteration %d' % i, end = ' ')\n",
    "    \n",
    "print(' ')\n",
    "t2 = time.time()\n",
    "print('Duration: %f' % (t2 - t1))"
   ]
  },
  {
   "cell_type": "code",
   "execution_count": 51,
   "metadata": {},
   "outputs": [
    {
     "data": {
      "application/vnd.jupyter.widget-view+json": {
       "model_id": "a266204af1bd4923a640df6b21af2142",
       "version_major": 2,
       "version_minor": 0
      },
      "text/plain": [
       "Canvas(toolbar=Toolbar(toolitems=[('Home', 'Reset original view', 'home', 'home'), ('Back', 'Back to previous …"
      ]
     },
     "metadata": {},
     "output_type": "display_data"
    },
    {
     "data": {
      "text/plain": [
       "(array([  7.,  18.,  29.,  38.,  55.,  61.,  62.,  83., 121., 126., 150.,\n",
       "        213., 256., 287., 317., 326., 297., 241., 221.,  92.]),\n",
       " array([ 8996.  , 12489.45, 15982.9 , 19476.35, 22969.8 , 26463.25,\n",
       "        29956.7 , 33450.15, 36943.6 , 40437.05, 43930.5 , 47423.95,\n",
       "        50917.4 , 54410.85, 57904.3 , 61397.75, 64891.2 , 68384.65,\n",
       "        71878.1 , 75371.55, 78865.  ]),\n",
       " <a list of 20 Patch objects>)"
      ]
     },
     "execution_count": 51,
     "metadata": {},
     "output_type": "execute_result"
    }
   ],
   "source": [
    "fig, axs = plt.subplots(1, 1, tight_layout=True)\n",
    "\n",
    "# We can set the number of bins with the `bins` kwarg\n",
    "axs.set(title = '3k Configs, 0.25x Range',\n",
    "        xlabel = 'Number of rays')\n",
    "axs.hist(rays3, bins=20)"
   ]
  },
  {
   "cell_type": "code",
   "execution_count": 43,
   "metadata": {},
   "outputs": [],
   "source": [
    "IEX.sRange = IEX.sRange * 4.0 * 0.4 # now at 0.4 of original"
   ]
  },
  {
   "cell_type": "code",
   "execution_count": 44,
   "metadata": {},
   "outputs": [
    {
     "data": {
      "text/plain": [
       "array([[[-8.160e+00,  8.160e+00],\n",
       "        [-8.000e+00,  8.000e+00],\n",
       "        [-6.000e-01,  6.000e-01],\n",
       "        [-4.000e-03,  4.000e-03],\n",
       "        [-2.480e-01,  2.480e-01],\n",
       "        [-8.000e+00,  8.000e+00]],\n",
       "\n",
       "       [[-9.160e+00,  9.160e+00],\n",
       "        [-8.000e+00,  8.000e+00],\n",
       "        [-1.000e+00,  1.000e+00],\n",
       "        [-4.000e-03,  4.000e-03],\n",
       "        [-7.200e-02,  7.200e-02],\n",
       "        [-8.000e+00,  8.000e+00]],\n",
       "\n",
       "       [[-6.440e+00,  6.440e+00],\n",
       "        [-8.000e+00,  8.000e+00],\n",
       "        [-3.600e-01,  3.600e-01],\n",
       "        [-8.000e-03,  8.000e-03],\n",
       "        [-1.480e-01,  1.480e-01],\n",
       "        [-8.000e+00,  8.000e+00]],\n",
       "\n",
       "       [[-5.440e+00,  5.440e+00],\n",
       "        [-1.400e+00,  1.400e+00],\n",
       "        [-4.000e-01,  4.000e-01],\n",
       "        [-8.000e-03,  8.000e-03],\n",
       "        [-1.400e-01,  1.400e-01],\n",
       "        [-2.996e+00,  2.996e+00]],\n",
       "\n",
       "       [[-3.320e+00,  3.320e+00],\n",
       "        [-1.680e+01,  1.680e+01],\n",
       "        [-2.000e+00,  2.000e+00],\n",
       "        [-1.600e-01,  1.600e-01],\n",
       "        [-1.288e+00,  1.288e+00],\n",
       "        [-8.000e+00,  8.000e+00]],\n",
       "\n",
       "       [[-4.320e+00,  4.320e+00],\n",
       "        [-3.452e+01,  3.452e+01],\n",
       "        [-9.200e-01,  9.200e-01],\n",
       "        [-5.520e-01,  5.520e-01],\n",
       "        [-3.480e+00,  3.480e+00],\n",
       "        [-8.000e+00,  8.000e+00]]])"
      ]
     },
     "execution_count": 44,
     "metadata": {},
     "output_type": "execute_result"
    }
   ],
   "source": [
    "IEX.sRange"
   ]
  },
  {
   "cell_type": "code",
   "execution_count": 45,
   "metadata": {},
   "outputs": [
    {
     "name": "stdout",
     "output_type": "stream",
     "text": [
      " Iteration 2999  \n",
      "Duration: 2001.688273\n"
     ]
    }
   ],
   "source": [
    "rays4 = []\n",
    "t1 = time.time()\n",
    "for i in range(3000):\n",
    "    IEX.sample()\n",
    "    rays4.append(IEX.run())\n",
    "    print('\\r Iteration %d' % i, end = ' ')\n",
    "    \n",
    "print(' ')\n",
    "t2 = time.time()\n",
    "print('Duration: %f' % (t2 - t1))"
   ]
  },
  {
   "cell_type": "code",
   "execution_count": 50,
   "metadata": {},
   "outputs": [
    {
     "data": {
      "application/vnd.jupyter.widget-view+json": {
       "model_id": "83a66efd2c9841d58271a03f8df3c152",
       "version_major": 2,
       "version_minor": 0
      },
      "text/plain": [
       "Canvas(toolbar=Toolbar(toolitems=[('Home', 'Reset original view', 'home', 'home'), ('Back', 'Back to previous …"
      ]
     },
     "metadata": {},
     "output_type": "display_data"
    },
    {
     "data": {
      "text/plain": [
       "(array([103., 116., 124., 121., 139., 135., 136., 177., 150., 179., 190.,\n",
       "        215., 183., 203., 167., 205., 170., 149., 100.,  38.]),\n",
       " array([8.30000e+01, 4.25120e+03, 8.41940e+03, 1.25876e+04, 1.67558e+04,\n",
       "        2.09240e+04, 2.50922e+04, 2.92604e+04, 3.34286e+04, 3.75968e+04,\n",
       "        4.17650e+04, 4.59332e+04, 5.01014e+04, 5.42696e+04, 5.84378e+04,\n",
       "        6.26060e+04, 6.67742e+04, 7.09424e+04, 7.51106e+04, 7.92788e+04,\n",
       "        8.34470e+04]),\n",
       " <a list of 20 Patch objects>)"
      ]
     },
     "execution_count": 50,
     "metadata": {},
     "output_type": "execute_result"
    }
   ],
   "source": [
    "fig, axs = plt.subplots(1, 1, tight_layout=True)\n",
    "\n",
    "# We can set the number of bins with the `bins` kwarg\n",
    "axs.set(title = '3k Configs, 0.4x Range',\n",
    "        xlabel = 'Number of rays')\n",
    "axs.hist(rays4, bins=20)"
   ]
  },
  {
   "cell_type": "code",
   "execution_count": 47,
   "metadata": {},
   "outputs": [
    {
     "data": {
      "text/plain": [
       "array([[ 4.49842512e+00,  0.00000000e+00,  0.00000000e+00,\n",
       "         8.51957821e-06,  0.00000000e+00,  0.00000000e+00],\n",
       "       [ 2.44427238e+00,  0.00000000e+00,  0.00000000e+00,\n",
       "        -1.27767337e-03,  0.00000000e+00,  0.00000000e+00],\n",
       "       [ 0.00000000e+00,  0.00000000e+00,  0.00000000e+00,\n",
       "         6.43706878e-03,  0.00000000e+00,  0.00000000e+00],\n",
       "       [ 0.00000000e+00,  0.00000000e+00,  0.00000000e+00,\n",
       "         4.33749439e-03,  0.00000000e+00,  0.00000000e+00],\n",
       "       [ 0.00000000e+00, -1.78986972e+00,  0.00000000e+00,\n",
       "        -1.11017120e-03, -1.06124179e+00,  0.00000000e+00],\n",
       "       [ 0.00000000e+00,  1.17808644e+00,  0.00000000e+00,\n",
       "        -4.80408694e-02,  9.61734954e-01,  0.00000000e+00]])"
      ]
     },
     "execution_count": 47,
     "metadata": {},
     "output_type": "execute_result"
    }
   ],
   "source": [
    "IEX.pos"
   ]
  },
  {
   "cell_type": "code",
   "execution_count": 48,
   "metadata": {},
   "outputs": [
    {
     "data": {
      "text/plain": [
       "array([ 4.49842512e+00,  8.51957821e-06,  2.44427238e+00, -1.27767337e-03,\n",
       "        6.43706878e-03,  4.33749439e-03, -1.78986972e+00, -1.11017120e-03,\n",
       "       -1.06124179e+00,  1.17808644e+00, -4.80408694e-02,  9.61734954e-01])"
      ]
     },
     "execution_count": 48,
     "metadata": {},
     "output_type": "execute_result"
    }
   ],
   "source": [
    "IEX.pos[IEX.mask == 1]"
   ]
  },
  {
   "cell_type": "code",
   "execution_count": 54,
   "metadata": {},
   "outputs": [
    {
     "name": "stdout",
     "output_type": "stream",
     "text": [
      " Iteration 99999 -- run duration 67638 s  \n",
      "Duration: 67637.240258\n"
     ]
    },
    {
     "data": {
      "application/vnd.jupyter.widget-view+json": {
       "model_id": "d9b5cb53d26144b592f83db3e71c1be9",
       "version_major": 2,
       "version_minor": 0
      },
      "text/plain": [
       "Canvas(toolbar=Toolbar(toolitems=[('Home', 'Reset original view', 'home', 'home'), ('Back', 'Back to previous …"
      ]
     },
     "metadata": {},
     "output_type": "display_data"
    },
    {
     "data": {
      "text/plain": [
       "(array([3438., 4107., 4309., 4370., 4523., 4889., 4977., 5253., 5361.,\n",
       "        6015., 6550., 7233., 7144., 6587., 6010., 5526., 4974., 4311.,\n",
       "        3204., 1219.]),\n",
       " array([4.800000e+01, 4.242350e+03, 8.436700e+03, 1.263105e+04,\n",
       "        1.682540e+04, 2.101975e+04, 2.521410e+04, 2.940845e+04,\n",
       "        3.360280e+04, 3.779715e+04, 4.199150e+04, 4.618585e+04,\n",
       "        5.038020e+04, 5.457455e+04, 5.876890e+04, 6.296325e+04,\n",
       "        6.715760e+04, 7.135195e+04, 7.554630e+04, 7.974065e+04,\n",
       "        8.393500e+04]),\n",
       " <a list of 20 Patch objects>)"
      ]
     },
     "execution_count": 54,
     "metadata": {},
     "output_type": "execute_result"
    }
   ],
   "source": [
    "rays5 = []\n",
    "positioners = []\n",
    "\n",
    "t1 = time.time()\n",
    "for i in range(100000):\n",
    "    IEX.sample()\n",
    "    rays5.append(IEX.run())\n",
    "    positioners.append(IEX.pos[IEX.mask == 1])\n",
    "    print(\"\\r Iteration {:} -- run duration {:1d} s\".format(i, math.ceil(time.time()-t1)), end = ' ')\n",
    "    \n",
    "print(' ')\n",
    "t2 = time.time()\n",
    "print('Duration: %f' % (t2 - t1))\n",
    "\n",
    "fig, axs = plt.subplots(1, 1, tight_layout=True)\n",
    "axs.set(title = '100k Configs, 0.4x Range',\n",
    "        xlabel = 'Number of rays')\n",
    "axs.hist(rays5, bins=20)"
   ]
  },
  {
   "cell_type": "code",
   "execution_count": 47,
   "metadata": {},
   "outputs": [
    {
     "data": {
      "text/plain": [
       "(12,)"
      ]
     },
     "execution_count": 47,
     "metadata": {},
     "output_type": "execute_result"
    }
   ],
   "source": [
    "positioners[0].shape"
   ]
  },
  {
   "cell_type": "code",
   "execution_count": 48,
   "metadata": {},
   "outputs": [
    {
     "data": {
      "text/plain": [
       "100000"
      ]
     },
     "execution_count": 48,
     "metadata": {},
     "output_type": "execute_result"
    }
   ],
   "source": [
    "len(rays5)"
   ]
  },
  {
   "cell_type": "code",
   "execution_count": 49,
   "metadata": {},
   "outputs": [],
   "source": [
    "import pickle"
   ]
  },
  {
   "cell_type": "code",
   "execution_count": 50,
   "metadata": {},
   "outputs": [],
   "source": [
    "data = {'y': rays5, 'x':positioners}"
   ]
  },
  {
   "cell_type": "code",
   "execution_count": 53,
   "metadata": {},
   "outputs": [
    {
     "data": {
      "text/plain": [
       "array([ 4.11249165e-01,  3.72877390e-03, -5.42909342e+00,  1.34745851e-03,\n",
       "        2.71554575e-03,  4.17568269e-03, -4.53801650e+00, -5.52804760e-02,\n",
       "        1.16616223e+00,  5.21392605e-01,  3.74671810e-01, -6.61753323e-01])"
      ]
     },
     "execution_count": 53,
     "metadata": {},
     "output_type": "execute_result"
    }
   ],
   "source": [
    "data['x'][1]"
   ]
  },
  {
   "cell_type": "code",
   "execution_count": 58,
   "metadata": {},
   "outputs": [
    {
     "data": {
      "text/plain": [
       "(62184,\n",
       " 7104,\n",
       " array([ 4.11249165e-01,  3.72877390e-03, -5.42909342e+00,  1.34745851e-03,\n",
       "         2.71554575e-03,  4.17568269e-03, -4.53801650e+00, -5.52804760e-02,\n",
       "         1.16616223e+00,  5.21392605e-01,  3.74671810e-01, -6.61753323e-01]))"
      ]
     },
     "execution_count": 58,
     "metadata": {},
     "output_type": "execute_result"
    }
   ],
   "source": [
    "rays5[0], rays5[1], positioners[1]"
   ]
  },
  {
   "cell_type": "code",
   "execution_count": 59,
   "metadata": {},
   "outputs": [],
   "source": [
    "pickle.dump(data, open(\"IEX_100k_04w.pkl\", \"wb\"))"
   ]
  },
  {
   "cell_type": "code",
   "execution_count": null,
   "metadata": {},
   "outputs": [],
   "source": []
  }
 ],
 "metadata": {
  "kernelspec": {
   "display_name": "Python 3",
   "language": "python",
   "name": "python3"
  },
  "language_info": {
   "codemirror_mode": {
    "name": "ipython",
    "version": 3
   },
   "file_extension": ".py",
   "mimetype": "text/x-python",
   "name": "python",
   "nbconvert_exporter": "python",
   "pygments_lexer": "ipython3",
   "version": "3.7.4"
  }
 },
 "nbformat": 4,
 "nbformat_minor": 4
}
