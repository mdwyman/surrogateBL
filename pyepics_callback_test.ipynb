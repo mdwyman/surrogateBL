{
 "cells": [
  {
   "cell_type": "code",
   "execution_count": 1,
   "id": "ace6d318",
   "metadata": {},
   "outputs": [],
   "source": [
    "from epics import PV"
   ]
  },
  {
   "cell_type": "code",
   "execution_count": 3,
   "id": "c32ac6eb",
   "metadata": {},
   "outputs": [],
   "source": [
    "prefix = '100idWYM'\n",
    "motor_list = ['m1', 'm2', 'm3', 'm4', 'm5']\n",
    "pv_list = [':'.join([prefix,motor]) for motor in motor_list]"
   ]
  },
  {
   "cell_type": "code",
   "execution_count": 4,
   "id": "5d1be744",
   "metadata": {},
   "outputs": [
    {
     "name": "stdout",
     "output_type": "stream",
     "text": [
      "['100idWYM:m1', '100idWYM:m2', '100idWYM:m3', '100idWYM:m4', '100idWYM:m5']\n"
     ]
    }
   ],
   "source": [
    "print(pv_list)"
   ]
  },
  {
   "cell_type": "code",
   "execution_count": 5,
   "id": "8e2ca3d6",
   "metadata": {},
   "outputs": [],
   "source": [
    "motors = [PV(motor_pv) for motor_pv in pv_list]"
   ]
  },
  {
   "cell_type": "code",
   "execution_count": 6,
   "id": "656bc153",
   "metadata": {},
   "outputs": [
    {
     "data": {
      "text/plain": [
       "90.0"
      ]
     },
     "execution_count": 6,
     "metadata": {},
     "output_type": "execute_result"
    }
   ],
   "source": [
    "motors[0].get()"
   ]
  },
  {
   "cell_type": "code",
   "execution_count": 8,
   "id": "d604532c",
   "metadata": {},
   "outputs": [
    {
     "data": {
      "text/plain": [
       "'100idWYM:m1'"
      ]
     },
     "execution_count": 8,
     "metadata": {},
     "output_type": "execute_result"
    }
   ],
   "source": [
    "motors[0].pvname"
   ]
  },
  {
   "cell_type": "code",
   "execution_count": 10,
   "id": "f1545869",
   "metadata": {},
   "outputs": [],
   "source": [
    "def update_model(pvname = None, value = None, **kw):\n",
    "    print('PV changed: ', pvname,' + ', value)\n",
    "    for pvs in motors:\n",
    "        if pvname != pvs.pvname:\n",
    "            print(pvs.pvname,' is still at ',pvs.get())"
   ]
  },
  {
   "cell_type": "code",
   "execution_count": 11,
   "id": "b147ef53",
   "metadata": {
    "collapsed": true,
    "jupyter": {
     "outputs_hidden": true
    },
    "tags": []
   },
   "outputs": [
    {
     "name": "stdout",
     "output_type": "stream",
     "text": [
      "PV changed:  100idWYM:m1  +  80.0\n",
      "100idWYM:m2  is still at  50.0\n",
      "100idWYM:m3  is still at  90.0\n",
      "100idWYM:m4  is still at  -100.0\n",
      "100idWYM:m5  is still at  0.0\n",
      "PV changed:  100idWYM:m1  +  70.0\n",
      "100idWYM:m2  is still at  50.0\n",
      "100idWYM:m3  is still at  90.0\n",
      "100idWYM:m4  is still at  -100.0\n",
      "100idWYM:m5  is still at  0.0\n",
      "PV changed:  100idWYM:m1  +  70.0\n",
      "100idWYM:m2  is still at  50.0\n",
      "100idWYM:m3  is still at  90.0\n",
      "100idWYM:m4  is still at  -100.0\n",
      "100idWYM:m5  is still at  0.0\n",
      "PV changed:  100idWYM:m1  +  60.0\n",
      "100idWYM:m2  is still at  50.0\n",
      "100idWYM:m3  is still at  90.0\n",
      "100idWYM:m4  is still at  -100.0\n",
      "100idWYM:m5  is still at  0.0\n",
      "PV changed:  100idWYM:m2  +  40.0\n",
      "100idWYM:m1  is still at  60.0\n",
      "100idWYM:m3  is still at  90.0\n",
      "100idWYM:m4  is still at  -100.0\n",
      "100idWYM:m5  is still at  0.0\n",
      "PV changed:  100idWYM:m2  +  50.0\n",
      "100idWYM:m1  is still at  60.0\n",
      "100idWYM:m3  is still at  90.0\n",
      "100idWYM:m4  is still at  -100.0\n",
      "100idWYM:m5  is still at  0.0\n",
      "PV changed:  100idWYM:m3  +  80.0\n",
      "100idWYM:m1  is still at  60.0\n",
      "100idWYM:m2  is still at  50.0\n",
      "100idWYM:m4  is still at  -100.0\n",
      "100idWYM:m5  is still at  0.0\n",
      "PV changed:  100idWYM:m3  +  70.0\n",
      "100idWYM:m1  is still at  60.0\n",
      "100idWYM:m2  is still at  50.0\n",
      "100idWYM:m4  is still at  -100.0\n",
      "100idWYM:m5  is still at  0.0\n",
      "PV changed:  100idWYM:m2  +  60.0\n",
      "100idWYM:m1  is still at  60.0\n",
      "100idWYM:m3  is still at  70.0\n",
      "100idWYM:m4  is still at  -100.0\n",
      "100idWYM:m5  is still at  0.0\n",
      "PV changed:  100idWYM:m3  +  60.0\n",
      "100idWYM:m1  is still at  60.0\n",
      "100idWYM:m2  is still at  60.0\n",
      "100idWYM:m4  is still at  -100.0\n",
      "100idWYM:m5  is still at  0.0\n",
      "PV changed:  100idWYM:m3  +  50.0\n",
      "100idWYM:m1  is still at  60.0\n",
      "100idWYM:m2  is still at  60.0\n",
      "100idWYM:m4  is still at  -100.0\n",
      "100idWYM:m5  is still at  0.0\n",
      "PV changed:  100idWYM:m3  +  40.0\n",
      "100idWYM:m1  is still at  60.0\n",
      "100idWYM:m2  is still at  60.0\n",
      "100idWYM:m4  is still at  -100.0\n",
      "100idWYM:m5  is still at  0.0\n",
      "PV changed:  100idWYM:m3  +  40.0\n",
      "100idWYM:m1  is still at  60.0\n",
      "100idWYM:m2  is still at  60.0\n",
      "100idWYM:m4  is still at  -100.0\n",
      "100idWYM:m5  is still at  0.0\n",
      "PV changed:  100idWYM:m2  +  70.0\n",
      "100idWYM:m1  is still at  60.0\n",
      "100idWYM:m3  is still at  40.0\n",
      "100idWYM:m4  is still at  -100.0\n",
      "100idWYM:m5  is still at  0.0\n",
      "PV changed:  100idWYM:m2  +  80.0\n",
      "100idWYM:m1  is still at  60.0\n",
      "100idWYM:m3  is still at  40.0\n",
      "100idWYM:m4  is still at  -100.0\n",
      "100idWYM:m5  is still at  0.0\n",
      "PV changed:  100idWYM:m1  +  50.0\n",
      "100idWYM:m2  is still at  80.0\n",
      "100idWYM:m3  is still at  40.0\n",
      "100idWYM:m4  is still at  -100.0\n",
      "100idWYM:m5  is still at  0.0\n",
      "PV changed:  100idWYM:m1  +  40.0\n",
      "100idWYM:m2  is still at  80.0\n",
      "100idWYM:m3  is still at  40.0\n",
      "100idWYM:m4  is still at  -100.0\n",
      "100idWYM:m5  is still at  0.0\n",
      "PV changed:  100idWYM:m1  +  40.0\n",
      "100idWYM:m2  is still at  80.0\n",
      "100idWYM:m3  is still at  40.0\n",
      "100idWYM:m4  is still at  -100.0\n",
      "100idWYM:m5  is still at  0.0\n",
      "PV changed:  100idWYM:m1  +  30.0\n",
      "100idWYM:m2  is still at  80.0\n",
      "100idWYM:m3  is still at  40.0\n",
      "100idWYM:m4  is still at  -100.0\n",
      "100idWYM:m5  is still at  0.0\n",
      "PV changed:  100idWYM:m1  +  30.0\n",
      "100idWYM:m2  is still at  80.0\n",
      "100idWYM:m3  is still at  40.0\n",
      "100idWYM:m4  is still at  -100.0\n",
      "100idWYM:m5  is still at  0.0\n",
      "PV changed:  100idWYM:m1  +  30.0\n",
      "100idWYM:m2  is still at  80.0\n",
      "100idWYM:m3  is still at  40.0\n",
      "100idWYM:m4  is still at  -100.0\n",
      "100idWYM:m5  is still at  0.0\n",
      "PV changed:  100idWYM:m1  +  30.0\n",
      "100idWYM:m2  is still at  80.0\n",
      "100idWYM:m3  is still at  40.0\n",
      "100idWYM:m4  is still at  -100.0\n",
      "100idWYM:m5  is still at  0.0\n",
      "PV changed:  100idWYM:m2  +  70.0\n",
      "100idWYM:m1  is still at  30.0\n",
      "100idWYM:m3  is still at  40.0\n",
      "100idWYM:m4  is still at  -100.0\n",
      "100idWYM:m5  is still at  0.0\n",
      "PV changed:  100idWYM:m3  +  30.0\n",
      "100idWYM:m1  is still at  30.0\n",
      "100idWYM:m2  is still at  70.0\n",
      "100idWYM:m4  is still at  -100.0\n",
      "100idWYM:m5  is still at  0.0\n"
     ]
    }
   ],
   "source": [
    "for motor in motors:\n",
    "    motor.add_callback(callback=update_model)"
   ]
  },
  {
   "cell_type": "code",
   "execution_count": 20,
   "id": "8627b6d5",
   "metadata": {},
   "outputs": [
    {
     "name": "stdout",
     "output_type": "stream",
     "text": [
      "PV changed:  100idWYM:m1  +  70.0\n",
      "100idWYM:m2  is still at  60.0\n",
      "100idWYM:m3  is still at  30.0\n",
      "100idWYM:m4  is still at  -100.0\n",
      "100idWYM:m5  is still at  0.0\n",
      "PV changed:  100idWYM:m1  +  70.0\n",
      "100idWYM:m2  is still at  60.0\n",
      "100idWYM:m3  is still at  30.0\n",
      "100idWYM:m4  is still at  -100.0\n",
      "100idWYM:m5  is still at  0.0\n",
      "PV changed:  100idWYM:m2  +  70.0\n",
      "100idWYM:m1  is still at  70.0\n",
      "100idWYM:m3  is still at  30.0\n",
      "100idWYM:m4  is still at  -100.0\n",
      "100idWYM:m5  is still at  0.0\n",
      "PV changed:  100idWYM:m2  +  70.0\n",
      "100idWYM:m1  is still at  70.0\n",
      "100idWYM:m3  is still at  30.0\n",
      "100idWYM:m4  is still at  -100.0\n",
      "100idWYM:m5  is still at  0.0\n"
     ]
    }
   ],
   "source": [
    "def clear_motor_cbs(motors):\n",
    "    for motor in motors:\n",
    "        motor.clear_callbacks()"
   ]
  },
  {
   "cell_type": "code",
   "execution_count": 28,
   "id": "24926426",
   "metadata": {},
   "outputs": [
    {
     "name": "stdout",
     "output_type": "stream",
     "text": [
      "PV changed:  100idWYM:m2  +  80.0\n",
      "100idWYM:m1  is still at  90.0\n",
      "100idWYM:m3  is still at  50.0\n",
      "100idWYM:m4  is still at  -100.0\n",
      "100idWYM:m5  is still at  0.0\n"
     ]
    }
   ],
   "source": [
    "def clear_simulation_cbs(motors, indices):\n",
    "    for motor, index in zip(motors, indices):\n",
    "        motor.remove_callback(index=index)"
   ]
  },
  {
   "cell_type": "code",
   "execution_count": 24,
   "id": "acb5946d",
   "metadata": {},
   "outputs": [],
   "source": [
    "clear_motor_cbs(motors)"
   ]
  },
  {
   "cell_type": "code",
   "execution_count": 25,
   "id": "d1ccb60c",
   "metadata": {},
   "outputs": [],
   "source": [
    "def install_simulation_cb(motors, func):\n",
    "    indices = []\n",
    "    for motor in motors:\n",
    "        indices.append(motor.add_callback(callback=func))\n",
    "    return indices\n",
    "        "
   ]
  },
  {
   "cell_type": "code",
   "execution_count": 26,
   "id": "a494aa90",
   "metadata": {},
   "outputs": [
    {
     "name": "stdout",
     "output_type": "stream",
     "text": [
      "PV changed:  100idWYM:m3  +  40.0\n",
      "100idWYM:m1  is still at  90.0\n",
      "100idWYM:m2  is still at  70.0\n",
      "100idWYM:m4  is still at  -100.0\n",
      "100idWYM:m5  is still at  0.0\n",
      "PV changed:  100idWYM:m3  +  50.0\n",
      "100idWYM:m1  is still at  90.0\n",
      "100idWYM:m2  is still at  70.0\n",
      "100idWYM:m4  is still at  -100.0\n",
      "100idWYM:m5  is still at  0.0\n"
     ]
    }
   ],
   "source": [
    "sim_indices = install_simulation_cb(motors, update_model)"
   ]
  },
  {
   "cell_type": "code",
   "execution_count": 29,
   "id": "54a72f86",
   "metadata": {},
   "outputs": [],
   "source": [
    "clear_simulation_cbs(motors, sim_indices)"
   ]
  },
  {
   "cell_type": "code",
   "execution_count": 30,
   "id": "476b07f2",
   "metadata": {},
   "outputs": [
    {
     "data": {
      "text/plain": [
       "[1, 1, 1, 1, 1]"
      ]
     },
     "execution_count": 30,
     "metadata": {},
     "output_type": "execute_result"
    }
   ],
   "source": [
    "sim_indices"
   ]
  },
  {
   "cell_type": "code",
   "execution_count": null,
   "id": "9dd83836",
   "metadata": {},
   "outputs": [],
   "source": []
  }
 ],
 "metadata": {
  "kernelspec": {
   "display_name": "Python 3 (ipykernel)",
   "language": "python",
   "name": "python3"
  },
  "language_info": {
   "codemirror_mode": {
    "name": "ipython",
    "version": 3
   },
   "file_extension": ".py",
   "mimetype": "text/x-python",
   "name": "python",
   "nbconvert_exporter": "python",
   "pygments_lexer": "ipython3",
   "version": "3.9.7"
  }
 },
 "nbformat": 4,
 "nbformat_minor": 5
}
