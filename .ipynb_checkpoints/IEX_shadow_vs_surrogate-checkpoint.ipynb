{
 "cells": [
  {
   "cell_type": "code",
   "execution_count": 2,
   "metadata": {},
   "outputs": [],
   "source": [
    "import pickle"
   ]
  },
  {
   "cell_type": "code",
   "execution_count": 3,
   "metadata": {},
   "outputs": [],
   "source": [
    "#import scaling\n",
    "input_fn = 'IEX_100k_04w.pkl'\n",
    "\n",
    "scaling_fn = input_fn.split('.')[0]+'_scaling.pkl'\n",
    "with open(scaling_fn, 'rb') as f:\n",
    "    scaling = pickle.load(f)"
   ]
  },
  {
   "cell_type": "code",
   "execution_count": 4,
   "metadata": {},
   "outputs": [],
   "source": [
    "#import model\n",
    "nn_fn = input_fn.split('.')[0]+'_NN_results.pkl'\n",
    "with open(nn_fn, 'rb') as f:\n",
    "    result = pickle.load(f)"
   ]
  },
  {
   "cell_type": "code",
   "execution_count": 5,
   "metadata": {},
   "outputs": [
    {
     "data": {
      "text/plain": [
       "5"
      ]
     },
     "execution_count": 5,
     "metadata": {},
     "output_type": "execute_result"
    }
   ],
   "source": [
    "len(result)"
   ]
  },
  {
   "cell_type": "code",
   "execution_count": 6,
   "metadata": {},
   "outputs": [
    {
     "data": {
      "text/plain": [
       "dict_keys(['model', 'loss', 'metric'])"
      ]
     },
     "execution_count": 6,
     "metadata": {},
     "output_type": "execute_result"
    }
   ],
   "source": [
    "result[4].keys()"
   ]
  },
  {
   "cell_type": "code",
   "execution_count": 7,
   "metadata": {},
   "outputs": [
    {
     "data": {
      "text/plain": [
       "MLModel(\n",
       "  (inputLayer): Linear(in_features=12, out_features=12, bias=True)\n",
       "  (hiddenLayers): ModuleList(\n",
       "    (0): Linear(in_features=12, out_features=12, bias=True)\n",
       "    (1): Linear(in_features=12, out_features=12, bias=True)\n",
       "  )\n",
       "  (outputLayer): Linear(in_features=12, out_features=1, bias=True)\n",
       ")"
      ]
     },
     "execution_count": 7,
     "metadata": {},
     "output_type": "execute_result"
    }
   ],
   "source": [
    "result[4]['model']"
   ]
  },
  {
   "cell_type": "code",
   "execution_count": 8,
   "metadata": {},
   "outputs": [],
   "source": [
    "#import beamline\n",
    "from beamline_29 import IEX"
   ]
  },
  {
   "cell_type": "code",
   "execution_count": 9,
   "metadata": {
    "collapsed": true,
    "jupyter": {
     "outputs_hidden": true
    }
   },
   "outputs": [
    {
     "data": {
      "text/plain": [
       "array([[[-8.160e+00,  8.160e+00],\n",
       "        [-8.000e+00,  8.000e+00],\n",
       "        [-6.000e-01,  6.000e-01],\n",
       "        [-4.000e-03,  4.000e-03],\n",
       "        [-2.480e-01,  2.480e-01],\n",
       "        [-8.000e+00,  8.000e+00]],\n",
       "\n",
       "       [[-9.160e+00,  9.160e+00],\n",
       "        [-8.000e+00,  8.000e+00],\n",
       "        [-1.000e+00,  1.000e+00],\n",
       "        [-4.000e-03,  4.000e-03],\n",
       "        [-7.200e-02,  7.200e-02],\n",
       "        [-8.000e+00,  8.000e+00]],\n",
       "\n",
       "       [[-6.440e+00,  6.440e+00],\n",
       "        [-8.000e+00,  8.000e+00],\n",
       "        [-3.600e-01,  3.600e-01],\n",
       "        [-8.000e-03,  8.000e-03],\n",
       "        [-1.480e-01,  1.480e-01],\n",
       "        [-8.000e+00,  8.000e+00]],\n",
       "\n",
       "       [[-5.440e+00,  5.440e+00],\n",
       "        [-1.400e+00,  1.400e+00],\n",
       "        [-4.000e-01,  4.000e-01],\n",
       "        [-8.000e-03,  8.000e-03],\n",
       "        [-1.400e-01,  1.400e-01],\n",
       "        [-2.996e+00,  2.996e+00]],\n",
       "\n",
       "       [[-3.320e+00,  3.320e+00],\n",
       "        [-1.680e+01,  1.680e+01],\n",
       "        [-2.000e+00,  2.000e+00],\n",
       "        [-1.600e-01,  1.600e-01],\n",
       "        [-1.288e+00,  1.288e+00],\n",
       "        [-8.000e+00,  8.000e+00]],\n",
       "\n",
       "       [[-4.320e+00,  4.320e+00],\n",
       "        [-3.452e+01,  3.452e+01],\n",
       "        [-9.200e-01,  9.200e-01],\n",
       "        [-5.520e-01,  5.520e-01],\n",
       "        [-3.480e+00,  3.480e+00],\n",
       "        [-8.000e+00,  8.000e+00]]])"
      ]
     },
     "execution_count": 9,
     "metadata": {},
     "output_type": "execute_result"
    }
   ],
   "source": [
    "#using 40% window for sampling\n",
    "IEX.sRange = IEX.sRange * 0.4 # now at 0.4 of original\n",
    "IEX.sRange"
   ]
  },
  {
   "cell_type": "code",
   "execution_count": null,
   "metadata": {},
   "outputs": [],
   "source": [
    "#create beamline settings array (100-1000 configs)"
   ]
  },
  {
   "cell_type": "code",
   "execution_count": null,
   "metadata": {},
   "outputs": [],
   "source": [
    "#run configs through shadow model and time it"
   ]
  },
  {
   "cell_type": "code",
   "execution_count": null,
   "metadata": {},
   "outputs": [],
   "source": [
    "# Get model predictions\n",
    "# 1. scale beamline settings for NN"
   ]
  },
  {
   "cell_type": "code",
   "execution_count": null,
   "metadata": {},
   "outputs": [],
   "source": [
    "# 2. run scaled configs through model and time it"
   ]
  },
  {
   "cell_type": "code",
   "execution_count": null,
   "metadata": {},
   "outputs": [],
   "source": [
    "#plot comparison of results\n",
    "#shadow vs surrogate\n",
    "#histogram for shadow, surrogate"
   ]
  }
 ],
 "metadata": {
  "kernelspec": {
   "display_name": "Python 3",
   "language": "python",
   "name": "python3"
  },
  "language_info": {
   "codemirror_mode": {
    "name": "ipython",
    "version": 3
   },
   "file_extension": ".py",
   "mimetype": "text/x-python",
   "name": "python",
   "nbconvert_exporter": "python",
   "pygments_lexer": "ipython3",
   "version": "3.7.4"
  }
 },
 "nbformat": 4,
 "nbformat_minor": 4
}
