{
 "cells": [
  {
   "cell_type": "code",
   "execution_count": 2,
   "metadata": {},
   "outputs": [],
   "source": [
    "import pickle\n",
    "import pandas as pd\n",
    "import numpy as np\n",
    "from sklearn.preprocessing import StandardScaler\n",
    "from sklearn.model_selection import train_test_split\n",
    "from sklearn.linear_model import LinearRegression\n",
    "import torch\n",
    "import torch.utils.data as data_utils\n",
    "\n",
    "import torchTools as tt\n",
    "\n",
    "import matplotlib.pyplot as plt"
   ]
  },
  {
   "cell_type": "code",
   "execution_count": 3,
   "metadata": {},
   "outputs": [],
   "source": [
    "#data was pickled as dictionary:\n",
    "#  y: list of 100k floats\n",
    "#  x: list 100k of 1-d, length 12 arrays\n",
    "\n",
    "input_fn = 'IEX_100k_04w.pkl'\n",
    "data = pickle.load(open(input_fn,\"rb\"))"
   ]
  },
  {
   "cell_type": "code",
   "execution_count": 4,
   "metadata": {},
   "outputs": [],
   "source": [
    "Y = pd.DataFrame(data['y'], columns=['Rays'])"
   ]
  },
  {
   "cell_type": "code",
   "execution_count": 5,
   "metadata": {},
   "outputs": [
    {
     "data": {
      "text/html": [
       "<div>\n",
       "<style scoped>\n",
       "    .dataframe tbody tr th:only-of-type {\n",
       "        vertical-align: middle;\n",
       "    }\n",
       "\n",
       "    .dataframe tbody tr th {\n",
       "        vertical-align: top;\n",
       "    }\n",
       "\n",
       "    .dataframe thead th {\n",
       "        text-align: right;\n",
       "    }\n",
       "</style>\n",
       "<table border=\"1\" class=\"dataframe\">\n",
       "  <thead>\n",
       "    <tr style=\"text-align: right;\">\n",
       "      <th></th>\n",
       "      <th>Rays</th>\n",
       "    </tr>\n",
       "  </thead>\n",
       "  <tbody>\n",
       "    <tr>\n",
       "      <th>0</th>\n",
       "      <td>62184</td>\n",
       "    </tr>\n",
       "    <tr>\n",
       "      <th>1</th>\n",
       "      <td>7104</td>\n",
       "    </tr>\n",
       "    <tr>\n",
       "      <th>2</th>\n",
       "      <td>45266</td>\n",
       "    </tr>\n",
       "    <tr>\n",
       "      <th>3</th>\n",
       "      <td>54623</td>\n",
       "    </tr>\n",
       "    <tr>\n",
       "      <th>4</th>\n",
       "      <td>59044</td>\n",
       "    </tr>\n",
       "    <tr>\n",
       "      <th>...</th>\n",
       "      <td>...</td>\n",
       "    </tr>\n",
       "    <tr>\n",
       "      <th>99995</th>\n",
       "      <td>24556</td>\n",
       "    </tr>\n",
       "    <tr>\n",
       "      <th>99996</th>\n",
       "      <td>28734</td>\n",
       "    </tr>\n",
       "    <tr>\n",
       "      <th>99997</th>\n",
       "      <td>71323</td>\n",
       "    </tr>\n",
       "    <tr>\n",
       "      <th>99998</th>\n",
       "      <td>7266</td>\n",
       "    </tr>\n",
       "    <tr>\n",
       "      <th>99999</th>\n",
       "      <td>58703</td>\n",
       "    </tr>\n",
       "  </tbody>\n",
       "</table>\n",
       "<p>100000 rows × 1 columns</p>\n",
       "</div>"
      ],
      "text/plain": [
       "        Rays\n",
       "0      62184\n",
       "1       7104\n",
       "2      45266\n",
       "3      54623\n",
       "4      59044\n",
       "...      ...\n",
       "99995  24556\n",
       "99996  28734\n",
       "99997  71323\n",
       "99998   7266\n",
       "99999  58703\n",
       "\n",
       "[100000 rows x 1 columns]"
      ]
     },
     "execution_count": 5,
     "metadata": {},
     "output_type": "execute_result"
    }
   ],
   "source": [
    "Y"
   ]
  },
  {
   "cell_type": "code",
   "execution_count": 6,
   "metadata": {},
   "outputs": [],
   "source": [
    "pos_array = np.asarray(data['x'])"
   ]
  },
  {
   "cell_type": "code",
   "execution_count": 7,
   "metadata": {},
   "outputs": [],
   "source": [
    "X = pd.DataFrame(pos_array, columns=['oe1x','oe1xrot','oe2x','oe2xrot','oe3xrot','oe4xrot','oe5y','oe5xrot','oe5yrot','oe6y','oe6xrot','oe6yrot',])"
   ]
  },
  {
   "cell_type": "code",
   "execution_count": 8,
   "metadata": {},
   "outputs": [
    {
     "data": {
      "text/html": [
       "<div>\n",
       "<style scoped>\n",
       "    .dataframe tbody tr th:only-of-type {\n",
       "        vertical-align: middle;\n",
       "    }\n",
       "\n",
       "    .dataframe tbody tr th {\n",
       "        vertical-align: top;\n",
       "    }\n",
       "\n",
       "    .dataframe thead th {\n",
       "        text-align: right;\n",
       "    }\n",
       "</style>\n",
       "<table border=\"1\" class=\"dataframe\">\n",
       "  <thead>\n",
       "    <tr style=\"text-align: right;\">\n",
       "      <th></th>\n",
       "      <th>oe1x</th>\n",
       "      <th>oe1xrot</th>\n",
       "      <th>oe2x</th>\n",
       "      <th>oe2xrot</th>\n",
       "      <th>oe3xrot</th>\n",
       "      <th>oe4xrot</th>\n",
       "      <th>oe5y</th>\n",
       "      <th>oe5xrot</th>\n",
       "      <th>oe5yrot</th>\n",
       "      <th>oe6y</th>\n",
       "      <th>oe6xrot</th>\n",
       "      <th>oe6yrot</th>\n",
       "    </tr>\n",
       "  </thead>\n",
       "  <tbody>\n",
       "    <tr>\n",
       "      <th>0</th>\n",
       "      <td>3.145288</td>\n",
       "      <td>-0.003274</td>\n",
       "      <td>0.821222</td>\n",
       "      <td>-0.003335</td>\n",
       "      <td>-0.007931</td>\n",
       "      <td>0.005732</td>\n",
       "      <td>-3.347656</td>\n",
       "      <td>-0.021918</td>\n",
       "      <td>-0.952138</td>\n",
       "      <td>2.523249</td>\n",
       "      <td>-0.127230</td>\n",
       "      <td>3.315194</td>\n",
       "    </tr>\n",
       "    <tr>\n",
       "      <th>1</th>\n",
       "      <td>0.411249</td>\n",
       "      <td>0.003729</td>\n",
       "      <td>-5.429093</td>\n",
       "      <td>0.001347</td>\n",
       "      <td>0.002716</td>\n",
       "      <td>0.004176</td>\n",
       "      <td>-4.538017</td>\n",
       "      <td>-0.055280</td>\n",
       "      <td>1.166162</td>\n",
       "      <td>0.521393</td>\n",
       "      <td>0.374672</td>\n",
       "      <td>-0.661753</td>\n",
       "    </tr>\n",
       "    <tr>\n",
       "      <th>2</th>\n",
       "      <td>7.357904</td>\n",
       "      <td>-0.000461</td>\n",
       "      <td>-2.747643</td>\n",
       "      <td>0.001471</td>\n",
       "      <td>-0.001400</td>\n",
       "      <td>0.006020</td>\n",
       "      <td>-15.492510</td>\n",
       "      <td>0.144513</td>\n",
       "      <td>-0.371621</td>\n",
       "      <td>-3.498419</td>\n",
       "      <td>0.483969</td>\n",
       "      <td>-3.284848</td>\n",
       "    </tr>\n",
       "    <tr>\n",
       "      <th>3</th>\n",
       "      <td>7.110999</td>\n",
       "      <td>-0.003396</td>\n",
       "      <td>6.899192</td>\n",
       "      <td>-0.001306</td>\n",
       "      <td>-0.000743</td>\n",
       "      <td>0.002116</td>\n",
       "      <td>-1.696894</td>\n",
       "      <td>0.071932</td>\n",
       "      <td>1.044310</td>\n",
       "      <td>-24.371554</td>\n",
       "      <td>-0.454240</td>\n",
       "      <td>-1.104378</td>\n",
       "    </tr>\n",
       "    <tr>\n",
       "      <th>4</th>\n",
       "      <td>2.923700</td>\n",
       "      <td>-0.003032</td>\n",
       "      <td>-7.884230</td>\n",
       "      <td>-0.002892</td>\n",
       "      <td>-0.001618</td>\n",
       "      <td>-0.002225</td>\n",
       "      <td>-9.871366</td>\n",
       "      <td>0.001150</td>\n",
       "      <td>-0.244404</td>\n",
       "      <td>-22.337997</td>\n",
       "      <td>-0.238650</td>\n",
       "      <td>0.185081</td>\n",
       "    </tr>\n",
       "    <tr>\n",
       "      <th>...</th>\n",
       "      <td>...</td>\n",
       "      <td>...</td>\n",
       "      <td>...</td>\n",
       "      <td>...</td>\n",
       "      <td>...</td>\n",
       "      <td>...</td>\n",
       "      <td>...</td>\n",
       "      <td>...</td>\n",
       "      <td>...</td>\n",
       "      <td>...</td>\n",
       "      <td>...</td>\n",
       "      <td>...</td>\n",
       "    </tr>\n",
       "    <tr>\n",
       "      <th>99995</th>\n",
       "      <td>-6.728028</td>\n",
       "      <td>-0.000503</td>\n",
       "      <td>-1.973903</td>\n",
       "      <td>-0.001687</td>\n",
       "      <td>0.000280</td>\n",
       "      <td>-0.003835</td>\n",
       "      <td>1.070975</td>\n",
       "      <td>-0.110507</td>\n",
       "      <td>-1.268863</td>\n",
       "      <td>9.926393</td>\n",
       "      <td>-0.331580</td>\n",
       "      <td>2.667666</td>\n",
       "    </tr>\n",
       "    <tr>\n",
       "      <th>99996</th>\n",
       "      <td>-8.113090</td>\n",
       "      <td>-0.003090</td>\n",
       "      <td>-2.006627</td>\n",
       "      <td>0.003374</td>\n",
       "      <td>0.003509</td>\n",
       "      <td>-0.003905</td>\n",
       "      <td>8.972775</td>\n",
       "      <td>0.032224</td>\n",
       "      <td>1.093333</td>\n",
       "      <td>-2.819569</td>\n",
       "      <td>0.161554</td>\n",
       "      <td>1.279756</td>\n",
       "    </tr>\n",
       "    <tr>\n",
       "      <th>99997</th>\n",
       "      <td>1.823646</td>\n",
       "      <td>0.001029</td>\n",
       "      <td>-6.891175</td>\n",
       "      <td>0.002488</td>\n",
       "      <td>-0.002090</td>\n",
       "      <td>-0.000343</td>\n",
       "      <td>4.534051</td>\n",
       "      <td>-0.147315</td>\n",
       "      <td>1.096939</td>\n",
       "      <td>30.148267</td>\n",
       "      <td>-0.279186</td>\n",
       "      <td>2.333936</td>\n",
       "    </tr>\n",
       "    <tr>\n",
       "      <th>99998</th>\n",
       "      <td>7.585150</td>\n",
       "      <td>0.002862</td>\n",
       "      <td>1.837656</td>\n",
       "      <td>-0.002993</td>\n",
       "      <td>0.006108</td>\n",
       "      <td>0.002685</td>\n",
       "      <td>-13.230985</td>\n",
       "      <td>0.079037</td>\n",
       "      <td>0.926955</td>\n",
       "      <td>15.506456</td>\n",
       "      <td>0.226261</td>\n",
       "      <td>0.619541</td>\n",
       "    </tr>\n",
       "    <tr>\n",
       "      <th>99999</th>\n",
       "      <td>-4.074488</td>\n",
       "      <td>0.002193</td>\n",
       "      <td>1.908186</td>\n",
       "      <td>-0.000657</td>\n",
       "      <td>0.000021</td>\n",
       "      <td>-0.002261</td>\n",
       "      <td>-16.298846</td>\n",
       "      <td>-0.053393</td>\n",
       "      <td>-0.455460</td>\n",
       "      <td>1.808443</td>\n",
       "      <td>-0.187590</td>\n",
       "      <td>3.018214</td>\n",
       "    </tr>\n",
       "  </tbody>\n",
       "</table>\n",
       "<p>100000 rows × 12 columns</p>\n",
       "</div>"
      ],
      "text/plain": [
       "           oe1x   oe1xrot      oe2x   oe2xrot   oe3xrot   oe4xrot       oe5y  \\\n",
       "0      3.145288 -0.003274  0.821222 -0.003335 -0.007931  0.005732  -3.347656   \n",
       "1      0.411249  0.003729 -5.429093  0.001347  0.002716  0.004176  -4.538017   \n",
       "2      7.357904 -0.000461 -2.747643  0.001471 -0.001400  0.006020 -15.492510   \n",
       "3      7.110999 -0.003396  6.899192 -0.001306 -0.000743  0.002116  -1.696894   \n",
       "4      2.923700 -0.003032 -7.884230 -0.002892 -0.001618 -0.002225  -9.871366   \n",
       "...         ...       ...       ...       ...       ...       ...        ...   \n",
       "99995 -6.728028 -0.000503 -1.973903 -0.001687  0.000280 -0.003835   1.070975   \n",
       "99996 -8.113090 -0.003090 -2.006627  0.003374  0.003509 -0.003905   8.972775   \n",
       "99997  1.823646  0.001029 -6.891175  0.002488 -0.002090 -0.000343   4.534051   \n",
       "99998  7.585150  0.002862  1.837656 -0.002993  0.006108  0.002685 -13.230985   \n",
       "99999 -4.074488  0.002193  1.908186 -0.000657  0.000021 -0.002261 -16.298846   \n",
       "\n",
       "        oe5xrot   oe5yrot       oe6y   oe6xrot   oe6yrot  \n",
       "0     -0.021918 -0.952138   2.523249 -0.127230  3.315194  \n",
       "1     -0.055280  1.166162   0.521393  0.374672 -0.661753  \n",
       "2      0.144513 -0.371621  -3.498419  0.483969 -3.284848  \n",
       "3      0.071932  1.044310 -24.371554 -0.454240 -1.104378  \n",
       "4      0.001150 -0.244404 -22.337997 -0.238650  0.185081  \n",
       "...         ...       ...        ...       ...       ...  \n",
       "99995 -0.110507 -1.268863   9.926393 -0.331580  2.667666  \n",
       "99996  0.032224  1.093333  -2.819569  0.161554  1.279756  \n",
       "99997 -0.147315  1.096939  30.148267 -0.279186  2.333936  \n",
       "99998  0.079037  0.926955  15.506456  0.226261  0.619541  \n",
       "99999 -0.053393 -0.455460   1.808443 -0.187590  3.018214  \n",
       "\n",
       "[100000 rows x 12 columns]"
      ]
     },
     "execution_count": 8,
     "metadata": {},
     "output_type": "execute_result"
    }
   ],
   "source": [
    "X"
   ]
  },
  {
   "cell_type": "code",
   "execution_count": 9,
   "metadata": {},
   "outputs": [],
   "source": [
    "X_train, X_test, Y_train, Y_test = train_test_split(X, Y, test_size=0.2, random_state=1)\n",
    "X_train, X_validation, Y_train, Y_validation = train_test_split(X_train, Y_train, test_size=0.25, random_state=1)"
   ]
  },
  {
   "cell_type": "code",
   "execution_count": 10,
   "metadata": {},
   "outputs": [],
   "source": [
    "reg = LinearRegression().fit(X_train, Y_train)"
   ]
  },
  {
   "cell_type": "code",
   "execution_count": 12,
   "metadata": {},
   "outputs": [
    {
     "data": {
      "text/plain": [
       "0.14229087683417896"
      ]
     },
     "execution_count": 12,
     "metadata": {},
     "output_type": "execute_result"
    }
   ],
   "source": [
    "reg.score(X_train, Y_train)"
   ]
  },
  {
   "cell_type": "code",
   "execution_count": 13,
   "metadata": {},
   "outputs": [
    {
     "data": {
      "text/plain": [
       "0.14204574816848214"
      ]
     },
     "execution_count": 13,
     "metadata": {},
     "output_type": "execute_result"
    }
   ],
   "source": [
    "reg.score(X_validation, Y_validation)"
   ]
  },
  {
   "cell_type": "code",
   "execution_count": 15,
   "metadata": {},
   "outputs": [
    {
     "data": {
      "text/plain": [
       "0.14792581102717273"
      ]
     },
     "execution_count": 15,
     "metadata": {},
     "output_type": "execute_result"
    }
   ],
   "source": [
    "reg.score(X_test, Y_test)"
   ]
  },
  {
   "cell_type": "code",
   "execution_count": 16,
   "metadata": {
    "collapsed": true,
    "jupyter": {
     "outputs_hidden": true
    }
   },
   "outputs": [
    {
     "data": {
      "text/plain": [
       "\u001b[0;31mType:\u001b[0m        LinearRegression\n",
       "\u001b[0;31mString form:\u001b[0m LinearRegression()\n",
       "\u001b[0;31mFile:\u001b[0m        ~/.conda/envs/shadow/lib/python3.7/site-packages/sklearn/linear_model/_base.py\n",
       "\u001b[0;31mDocstring:\u001b[0m  \n",
       "Ordinary least squares Linear Regression.\n",
       "\n",
       "LinearRegression fits a linear model with coefficients w = (w1, ..., wp)\n",
       "to minimize the residual sum of squares between the observed targets in\n",
       "the dataset, and the targets predicted by the linear approximation.\n",
       "\n",
       "Parameters\n",
       "----------\n",
       "fit_intercept : bool, default=True\n",
       "    Whether to calculate the intercept for this model. If set\n",
       "    to False, no intercept will be used in calculations\n",
       "    (i.e. data is expected to be centered).\n",
       "\n",
       "normalize : bool, default=False\n",
       "    This parameter is ignored when ``fit_intercept`` is set to False.\n",
       "    If True, the regressors X will be normalized before regression by\n",
       "    subtracting the mean and dividing by the l2-norm.\n",
       "    If you wish to standardize, please use\n",
       "    :class:`~sklearn.preprocessing.StandardScaler` before calling ``fit``\n",
       "    on an estimator with ``normalize=False``.\n",
       "\n",
       "copy_X : bool, default=True\n",
       "    If True, X will be copied; else, it may be overwritten.\n",
       "\n",
       "n_jobs : int, default=None\n",
       "    The number of jobs to use for the computation. This will only provide\n",
       "    speedup for n_targets > 1 and sufficient large problems.\n",
       "    ``None`` means 1 unless in a :obj:`joblib.parallel_backend` context.\n",
       "    ``-1`` means using all processors. See :term:`Glossary <n_jobs>`\n",
       "    for more details.\n",
       "\n",
       "positive : bool, default=False\n",
       "    When set to ``True``, forces the coefficients to be positive. This\n",
       "    option is only supported for dense arrays.\n",
       "\n",
       "    .. versionadded:: 0.24\n",
       "\n",
       "Attributes\n",
       "----------\n",
       "coef_ : array of shape (n_features, ) or (n_targets, n_features)\n",
       "    Estimated coefficients for the linear regression problem.\n",
       "    If multiple targets are passed during the fit (y 2D), this\n",
       "    is a 2D array of shape (n_targets, n_features), while if only\n",
       "    one target is passed, this is a 1D array of length n_features.\n",
       "\n",
       "rank_ : int\n",
       "    Rank of matrix `X`. Only available when `X` is dense.\n",
       "\n",
       "singular_ : array of shape (min(X, y),)\n",
       "    Singular values of `X`. Only available when `X` is dense.\n",
       "\n",
       "intercept_ : float or array of shape (n_targets,)\n",
       "    Independent term in the linear model. Set to 0.0 if\n",
       "    `fit_intercept = False`.\n",
       "\n",
       "See Also\n",
       "--------\n",
       "Ridge : Ridge regression addresses some of the\n",
       "    problems of Ordinary Least Squares by imposing a penalty on the\n",
       "    size of the coefficients with l2 regularization.\n",
       "Lasso : The Lasso is a linear model that estimates\n",
       "    sparse coefficients with l1 regularization.\n",
       "ElasticNet : Elastic-Net is a linear regression\n",
       "    model trained with both l1 and l2 -norm regularization of the\n",
       "    coefficients.\n",
       "\n",
       "Notes\n",
       "-----\n",
       "From the implementation point of view, this is just plain Ordinary\n",
       "Least Squares (scipy.linalg.lstsq) or Non Negative Least Squares\n",
       "(scipy.optimize.nnls) wrapped as a predictor object.\n",
       "\n",
       "Examples\n",
       "--------\n",
       ">>> import numpy as np\n",
       ">>> from sklearn.linear_model import LinearRegression\n",
       ">>> X = np.array([[1, 1], [1, 2], [2, 2], [2, 3]])\n",
       ">>> # y = 1 * x_0 + 2 * x_1 + 3\n",
       ">>> y = np.dot(X, np.array([1, 2])) + 3\n",
       ">>> reg = LinearRegression().fit(X, y)\n",
       ">>> reg.score(X, y)\n",
       "1.0\n",
       ">>> reg.coef_\n",
       "array([1., 2.])\n",
       ">>> reg.intercept_\n",
       "3.0...\n",
       ">>> reg.predict(np.array([[3, 5]]))\n",
       "array([16.])\n"
      ]
     },
     "metadata": {},
     "output_type": "display_data"
    }
   ],
   "source": [
    "reg?"
   ]
  },
  {
   "cell_type": "code",
   "execution_count": 17,
   "metadata": {},
   "outputs": [
    {
     "data": {
      "text/plain": [
       "array([[ 1.45822156e+01,  1.90007111e+05,  8.87009235e+00,\n",
       "        -2.46768781e+05,  3.56851489e+04,  6.78943797e+04,\n",
       "         3.16465312e+00, -5.19931254e+03, -9.87407086e+02,\n",
       "        -3.67813415e+00, -2.49014592e+04,  4.99315368e+01]])"
      ]
     },
     "execution_count": 17,
     "metadata": {},
     "output_type": "execute_result"
    }
   ],
   "source": [
    "reg.coef_"
   ]
  },
  {
   "cell_type": "code",
   "execution_count": 20,
   "metadata": {},
   "outputs": [],
   "source": [
    "reg2 = LinearRegression(normalize=True).fit(X_train, Y_train)"
   ]
  },
  {
   "cell_type": "code",
   "execution_count": 21,
   "metadata": {},
   "outputs": [
    {
     "data": {
      "text/plain": [
       "0.14229087683417896"
      ]
     },
     "execution_count": 21,
     "metadata": {},
     "output_type": "execute_result"
    }
   ],
   "source": [
    "reg2.score(X_train, Y_train)"
   ]
  }
 ],
 "metadata": {
  "kernelspec": {
   "display_name": "Python 3",
   "language": "python",
   "name": "python3"
  },
  "language_info": {
   "codemirror_mode": {
    "name": "ipython",
    "version": 3
   },
   "file_extension": ".py",
   "mimetype": "text/x-python",
   "name": "python",
   "nbconvert_exporter": "python",
   "pygments_lexer": "ipython3",
   "version": "3.7.4"
  }
 },
 "nbformat": 4,
 "nbformat_minor": 4
}
