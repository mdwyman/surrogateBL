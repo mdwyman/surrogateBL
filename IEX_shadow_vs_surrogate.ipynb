{
 "cells": [
  {
   "cell_type": "code",
   "execution_count": 1,
   "metadata": {},
   "outputs": [],
   "source": [
    "import pickle\n",
    "import time\n",
    "import numpy as np\n",
    "import pandas as pd\n",
    "\n",
    "import torch\n",
    "import torchTools as tt\n",
    "\n",
    "#import beamline\n",
    "from beamline_29 import IEX"
   ]
  },
  {
   "cell_type": "code",
   "execution_count": 2,
   "metadata": {},
   "outputs": [],
   "source": [
    "#import scaling\n",
    "input_fn = 'IEX_100k_04w.pkl'\n",
    "\n",
    "scaling_fn = input_fn.split('.')[0]+'_scaling.pkl'\n",
    "with open(scaling_fn, 'rb') as f:\n",
    "    scaling = pickle.load(f)"
   ]
  },
  {
   "cell_type": "code",
   "execution_count": 3,
   "metadata": {},
   "outputs": [],
   "source": [
    "#import model\n",
    "nn_fn = input_fn.split('.')[0]+'_NN_results.pkl'\n",
    "with open(nn_fn, 'rb') as f:\n",
    "    result = pickle.load(f)"
   ]
  },
  {
   "cell_type": "code",
   "execution_count": 4,
   "metadata": {},
   "outputs": [
    {
     "data": {
      "text/plain": [
       "5"
      ]
     },
     "execution_count": 4,
     "metadata": {},
     "output_type": "execute_result"
    }
   ],
   "source": [
    "len(result)"
   ]
  },
  {
   "cell_type": "code",
   "execution_count": 5,
   "metadata": {},
   "outputs": [
    {
     "data": {
      "text/plain": [
       "dict_keys(['model', 'loss', 'metric'])"
      ]
     },
     "execution_count": 5,
     "metadata": {},
     "output_type": "execute_result"
    }
   ],
   "source": [
    "result[4].keys()"
   ]
  },
  {
   "cell_type": "code",
   "execution_count": 6,
   "metadata": {},
   "outputs": [
    {
     "data": {
      "text/plain": [
       "MLModel(\n",
       "  (inputLayer): Linear(in_features=12, out_features=12, bias=True)\n",
       "  (hiddenLayers): ModuleList(\n",
       "    (0): Linear(in_features=12, out_features=12, bias=True)\n",
       "    (1): Linear(in_features=12, out_features=12, bias=True)\n",
       "  )\n",
       "  (outputLayer): Linear(in_features=12, out_features=1, bias=True)\n",
       ")"
      ]
     },
     "execution_count": 6,
     "metadata": {},
     "output_type": "execute_result"
    }
   ],
   "source": [
    "result[4]['model']"
   ]
  },
  {
   "cell_type": "code",
   "execution_count": 7,
   "metadata": {},
   "outputs": [
    {
     "data": {
      "text/plain": [
       "array([[[-8.160e+00,  8.160e+00],\n",
       "        [-8.000e+00,  8.000e+00],\n",
       "        [-6.000e-01,  6.000e-01],\n",
       "        [-4.000e-03,  4.000e-03],\n",
       "        [-2.480e-01,  2.480e-01],\n",
       "        [-8.000e+00,  8.000e+00]],\n",
       "\n",
       "       [[-9.160e+00,  9.160e+00],\n",
       "        [-8.000e+00,  8.000e+00],\n",
       "        [-1.000e+00,  1.000e+00],\n",
       "        [-4.000e-03,  4.000e-03],\n",
       "        [-7.200e-02,  7.200e-02],\n",
       "        [-8.000e+00,  8.000e+00]],\n",
       "\n",
       "       [[-6.440e+00,  6.440e+00],\n",
       "        [-8.000e+00,  8.000e+00],\n",
       "        [-3.600e-01,  3.600e-01],\n",
       "        [-8.000e-03,  8.000e-03],\n",
       "        [-1.480e-01,  1.480e-01],\n",
       "        [-8.000e+00,  8.000e+00]],\n",
       "\n",
       "       [[-5.440e+00,  5.440e+00],\n",
       "        [-1.400e+00,  1.400e+00],\n",
       "        [-4.000e-01,  4.000e-01],\n",
       "        [-8.000e-03,  8.000e-03],\n",
       "        [-1.400e-01,  1.400e-01],\n",
       "        [-2.996e+00,  2.996e+00]],\n",
       "\n",
       "       [[-3.320e+00,  3.320e+00],\n",
       "        [-1.680e+01,  1.680e+01],\n",
       "        [-2.000e+00,  2.000e+00],\n",
       "        [-1.600e-01,  1.600e-01],\n",
       "        [-1.288e+00,  1.288e+00],\n",
       "        [-8.000e+00,  8.000e+00]],\n",
       "\n",
       "       [[-4.320e+00,  4.320e+00],\n",
       "        [-3.452e+01,  3.452e+01],\n",
       "        [-9.200e-01,  9.200e-01],\n",
       "        [-5.520e-01,  5.520e-01],\n",
       "        [-3.480e+00,  3.480e+00],\n",
       "        [-8.000e+00,  8.000e+00]]])"
      ]
     },
     "execution_count": 7,
     "metadata": {},
     "output_type": "execute_result"
    }
   ],
   "source": [
    "#using 40% window for sampling\n",
    "IEX.sRange = IEX.sRange * 0.4 # now at 0.4 of original\n",
    "IEX.sRange"
   ]
  },
  {
   "cell_type": "code",
   "execution_count": 8,
   "metadata": {},
   "outputs": [],
   "source": [
    "#create beamline settings array (100-1000 configs)\n",
    "\n",
    "Nconfigs = 1000\n",
    "configs = []\n",
    "\n",
    "configs = [IEX.sample().copy() for _ in range(Nconfigs)]"
   ]
  },
  {
   "cell_type": "code",
   "execution_count": 9,
   "metadata": {},
   "outputs": [
    {
     "name": "stdout",
     "output_type": "stream",
     "text": [
      "Duration: 653.005110502243\n"
     ]
    }
   ],
   "source": [
    "#run configs through shadow model and time it\n",
    "\n",
    "shadow_results = []\n",
    "\n",
    "t1 = time.time()\n",
    "for i in range(Nconfigs):\n",
    "    IEX.pos = configs[i]\n",
    "    shadow_results.append(IEX.run())\n",
    "t2 = time.time()\n",
    "print(f'Duration: {t2 - t1}')"
   ]
  },
  {
   "cell_type": "code",
   "execution_count": 10,
   "metadata": {},
   "outputs": [
    {
     "name": "stdout",
     "output_type": "stream",
     "text": [
      "Scaling duration: 0.004817008972167969\n",
      "Inference duration: 0.036173343658447266\n"
     ]
    }
   ],
   "source": [
    "# Get model predictions\n",
    "# 1. scale beamline settings for NN\n",
    "\n",
    "#scale configs\n",
    "t1 = time.time()\n",
    "\n",
    "configs_masked = [config[IEX.mask == 1] for config in configs]\n",
    "configs_array = np.asarray(configs_masked)\n",
    "configs_pd = pd.DataFrame(configs_array, columns=['oe1x','oe1xrot','oe2x','oe2xrot','oe3xrot','oe4xrot','oe5y','oe5xrot','oe5yrot','oe6y','oe6xrot','oe6yrot',])\n",
    "configFeatures = scaling.transform(configs_pd)\n",
    "configFeatures = pd.DataFrame(configFeatures, columns=configs_pd.columns)\n",
    "\n",
    "config_tensor = torch.tensor(configFeatures.values)\n",
    "\n",
    "\n",
    "t2 = time.time()\n",
    "\n",
    "\n",
    "print(f'Scaling duration: {t2 - t1}')\n",
    "# 2. run scaled configs through model and time it\n",
    "\n",
    "\n",
    "model = result[4]['model']\n",
    "device = torch.device('cpu')\n",
    "tt.to_device(model, device)\n",
    "\n",
    "nn_results = model(tt.to_device(config_tensor.float(), device))\n",
    "\n",
    "t3 = time.time()\n",
    "print(f'Inference duration: {t3 - t2}')"
   ]
  },
  {
   "cell_type": "markdown",
   "metadata": {},
   "source": [
    "Inference is 10k times faster (at least for a 1k batch)"
   ]
  },
  {
   "cell_type": "code",
   "execution_count": 11,
   "metadata": {},
   "outputs": [
    {
     "data": {
      "text/plain": [
       "tensor([[19142.4648],\n",
       "        [36241.0195],\n",
       "        [47700.2812],\n",
       "        [48419.4062],\n",
       "        [41953.3828],\n",
       "        [52039.2031],\n",
       "        [79848.3672],\n",
       "        [61503.8477],\n",
       "        [47712.8203],\n",
       "        [29493.7754]], grad_fn=<SliceBackward>)"
      ]
     },
     "execution_count": 11,
     "metadata": {},
     "output_type": "execute_result"
    }
   ],
   "source": [
    "nn_results[0:10]"
   ]
  },
  {
   "cell_type": "code",
   "execution_count": 12,
   "metadata": {},
   "outputs": [
    {
     "data": {
      "text/plain": [
       "[19805, 35057, 47017, 49251, 41970, 53261, 80075, 61587, 47714, 29130]"
      ]
     },
     "execution_count": 12,
     "metadata": {},
     "output_type": "execute_result"
    }
   ],
   "source": [
    "shadow_results[0:10]"
   ]
  },
  {
   "cell_type": "markdown",
   "metadata": {},
   "source": [
    "#plot comparison of results\n",
    "#shadow vs surrogate\n",
    "#histogram for shadow, surrogate\n",
    "\n"
   ]
  },
  {
   "cell_type": "code",
   "execution_count": 13,
   "metadata": {},
   "outputs": [],
   "source": [
    "diff = np.asarray(shadow_results) - nn_results.detach().numpy().reshape(Nconfigs,)"
   ]
  },
  {
   "cell_type": "code",
   "execution_count": 14,
   "metadata": {},
   "outputs": [],
   "source": [
    "import matplotlib.pyplot as plt"
   ]
  },
  {
   "cell_type": "code",
   "execution_count": 15,
   "metadata": {},
   "outputs": [
    {
     "data": {
      "text/plain": [
       "[<matplotlib.lines.Line2D at 0x7efca3292b50>]"
      ]
     },
     "execution_count": 15,
     "metadata": {},
     "output_type": "execute_result"
    },
    {
     "data": {
      "image/png": "[encoded data removed]",
      "text/plain": [
       "<Figure size 432x288 with 1 Axes>"
      ]
     },
     "metadata": {
      "needs_background": "light"
     },
     "output_type": "display_data"
    }
   ],
   "source": [
    "fig, axs = plt.subplots(1, 1, tight_layout=True)\n",
    "axs.plot(shadow_results, linestyle = ' ', marker = '.', label = 'Shadow', color = 'blue')\n",
    "axs.plot(nn_results.tolist(), linestyle = ' ', marker = '.', label = 'NN', color = 'red')\n",
    "\n",
    "axs.plot(abs(diff), color = 'green', label = 'abs(diff)')"
   ]
  },
  {
   "cell_type": "code",
   "execution_count": 16,
   "metadata": {},
   "outputs": [
    {
     "data": {
      "text/plain": [
       "2228.625"
      ]
     },
     "execution_count": 16,
     "metadata": {},
     "output_type": "execute_result"
    }
   ],
   "source": [
    "diff.max()"
   ]
  },
  {
   "cell_type": "code",
   "execution_count": 17,
   "metadata": {},
   "outputs": [
    {
     "data": {
      "text/plain": [
       "-3339.10546875"
      ]
     },
     "execution_count": 17,
     "metadata": {},
     "output_type": "execute_result"
    }
   ],
   "source": [
    "diff.min()"
   ]
  },
  {
   "cell_type": "code",
   "execution_count": null,
   "metadata": {},
   "outputs": [],
   "source": []
  },
  {
   "cell_type": "code",
   "execution_count": null,
   "metadata": {},
   "outputs": [],
   "source": []
  }
 ],
 "metadata": {
  "kernelspec": {
   "display_name": "Python 3",
   "language": "python",
   "name": "python3"
  },
  "language_info": {
   "codemirror_mode": {
    "name": "ipython",
    "version": 3
   },
   "file_extension": ".py",
   "mimetype": "text/x-python",
   "name": "python",
   "nbconvert_exporter": "python",
   "pygments_lexer": "ipython3",
   "version": "3.7.4"
  }
 },
 "nbformat": 4,
 "nbformat_minor": 4
}
